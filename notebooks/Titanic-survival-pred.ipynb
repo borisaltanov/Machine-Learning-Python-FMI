{
 "cells": [
  {
   "cell_type": "code",
   "execution_count": 1,
   "metadata": {},
   "outputs": [],
   "source": [
    "import sys\n",
    "\n",
    "import sklearn\n",
    "import pandas as pd\n",
    "import matplotlib as mpl\n",
    "import matplotlib.pyplot as plt\n",
    "import seaborn as sns\n",
    "import numpy as np\n",
    "import warnings\n",
    "\n",
    "from sklearn.preprocessing import LabelEncoder\n",
    "from sklearn.model_selection import train_test_split\n",
    "from sklearn.linear_model import (LogisticRegression, Ridge, Lasso)\n",
    "from sklearn.ensemble import RandomForestClassifier\n",
    "from sklearn.model_selection import cross_val_score\n",
    "from sklearn.model_selection import GridSearchCV\n",
    "\n",
    "%matplotlib inline\n",
    "\n",
    "warnings.filterwarnings('ignore')\n",
    "\n",
    "pd.options.display.max_rows = 20"
   ]
  },
  {
   "cell_type": "code",
   "execution_count": 2,
   "metadata": {},
   "outputs": [],
   "source": [
    "data = pd.read_csv('../data/train-titanic.csv', index_col='PassengerId')"
   ]
  },
  {
   "cell_type": "code",
   "execution_count": 3,
   "metadata": {},
   "outputs": [],
   "source": [
    "data_trans = data.copy()"
   ]
  },
  {
   "cell_type": "code",
   "execution_count": 4,
   "metadata": {},
   "outputs": [],
   "source": [
    "def name_len(df):\n",
    "    df['NameLen'] = df['Name'].str.len()"
   ]
  },
  {
   "cell_type": "code",
   "execution_count": 5,
   "metadata": {},
   "outputs": [],
   "source": [
    "# name_len(data_trans)"
   ]
  },
  {
   "cell_type": "code",
   "execution_count": 6,
   "metadata": {},
   "outputs": [],
   "source": [
    "def name_binning(df):\n",
    "    df['ShortName'] = (df.NameLen <= 25).astype(float)\n",
    "    df['LongName'] = (df.NameLen > 25).astype(float)"
   ]
  },
  {
   "cell_type": "code",
   "execution_count": 7,
   "metadata": {},
   "outputs": [],
   "source": [
    "# name_binning(data_trans)"
   ]
  },
  {
   "cell_type": "code",
   "execution_count": 8,
   "metadata": {},
   "outputs": [],
   "source": [
    "def add_title(df):\n",
    "    df['Title'] = df['Name'].str.extract('([A-Za-z]+)\\.', expand=False)"
   ]
  },
  {
   "cell_type": "code",
   "execution_count": 9,
   "metadata": {},
   "outputs": [],
   "source": [
    "major_titles = ['Mr', 'Mrs', 'Miss', 'Master']\n",
    "\n",
    "def edit_titles(df):\n",
    "    df.loc[df.Title == 'Mlle', 'Title'] = 'Miss'\n",
    "    df.loc[df.Title == 'Mme', 'Title']  = 'Mrs'\n",
    "    df.loc[df.Title == 'Ms', 'Title']   = 'Miss'\n",
    "    df.loc[~df.Title.isin(major_titles), 'Title'] = 'Unknown'\n",
    "    \n",
    "major_titles.append('Unknown')"
   ]
  },
  {
   "cell_type": "code",
   "execution_count": 10,
   "metadata": {},
   "outputs": [],
   "source": [
    "add_title(data_trans)\n",
    "edit_titles(data_trans)"
   ]
  },
  {
   "cell_type": "code",
   "execution_count": 11,
   "metadata": {},
   "outputs": [
    {
     "data": {
      "text/html": [
       "<div>\n",
       "<style>\n",
       "    .dataframe thead tr:only-child th {\n",
       "        text-align: right;\n",
       "    }\n",
       "\n",
       "    .dataframe thead th {\n",
       "        text-align: left;\n",
       "    }\n",
       "\n",
       "    .dataframe tbody tr th {\n",
       "        vertical-align: top;\n",
       "    }\n",
       "</style>\n",
       "<table border=\"1\" class=\"dataframe\">\n",
       "  <thead>\n",
       "    <tr style=\"text-align: right;\">\n",
       "      <th></th>\n",
       "      <th>Survived</th>\n",
       "      <th>Pclass</th>\n",
       "      <th>Name</th>\n",
       "      <th>Sex</th>\n",
       "      <th>Age</th>\n",
       "      <th>SibSp</th>\n",
       "      <th>Parch</th>\n",
       "      <th>Ticket</th>\n",
       "      <th>Fare</th>\n",
       "      <th>Cabin</th>\n",
       "      <th>Embarked</th>\n",
       "    </tr>\n",
       "    <tr>\n",
       "      <th>Title</th>\n",
       "      <th></th>\n",
       "      <th></th>\n",
       "      <th></th>\n",
       "      <th></th>\n",
       "      <th></th>\n",
       "      <th></th>\n",
       "      <th></th>\n",
       "      <th></th>\n",
       "      <th></th>\n",
       "      <th></th>\n",
       "      <th></th>\n",
       "    </tr>\n",
       "  </thead>\n",
       "  <tbody>\n",
       "    <tr>\n",
       "      <th>Unknown</th>\n",
       "      <td>23</td>\n",
       "      <td>23</td>\n",
       "      <td>23</td>\n",
       "      <td>23</td>\n",
       "      <td>22</td>\n",
       "      <td>23</td>\n",
       "      <td>23</td>\n",
       "      <td>23</td>\n",
       "      <td>23</td>\n",
       "      <td>10</td>\n",
       "      <td>23</td>\n",
       "    </tr>\n",
       "    <tr>\n",
       "      <th>Master</th>\n",
       "      <td>40</td>\n",
       "      <td>40</td>\n",
       "      <td>40</td>\n",
       "      <td>40</td>\n",
       "      <td>36</td>\n",
       "      <td>40</td>\n",
       "      <td>40</td>\n",
       "      <td>40</td>\n",
       "      <td>40</td>\n",
       "      <td>7</td>\n",
       "      <td>40</td>\n",
       "    </tr>\n",
       "    <tr>\n",
       "      <th>Mrs</th>\n",
       "      <td>126</td>\n",
       "      <td>126</td>\n",
       "      <td>126</td>\n",
       "      <td>126</td>\n",
       "      <td>109</td>\n",
       "      <td>126</td>\n",
       "      <td>126</td>\n",
       "      <td>126</td>\n",
       "      <td>126</td>\n",
       "      <td>45</td>\n",
       "      <td>125</td>\n",
       "    </tr>\n",
       "    <tr>\n",
       "      <th>Miss</th>\n",
       "      <td>185</td>\n",
       "      <td>185</td>\n",
       "      <td>185</td>\n",
       "      <td>185</td>\n",
       "      <td>149</td>\n",
       "      <td>185</td>\n",
       "      <td>185</td>\n",
       "      <td>185</td>\n",
       "      <td>185</td>\n",
       "      <td>49</td>\n",
       "      <td>184</td>\n",
       "    </tr>\n",
       "    <tr>\n",
       "      <th>Mr</th>\n",
       "      <td>517</td>\n",
       "      <td>517</td>\n",
       "      <td>517</td>\n",
       "      <td>517</td>\n",
       "      <td>398</td>\n",
       "      <td>517</td>\n",
       "      <td>517</td>\n",
       "      <td>517</td>\n",
       "      <td>517</td>\n",
       "      <td>93</td>\n",
       "      <td>517</td>\n",
       "    </tr>\n",
       "  </tbody>\n",
       "</table>\n",
       "</div>"
      ],
      "text/plain": [
       "         Survived  Pclass  Name  Sex  Age  SibSp  Parch  Ticket  Fare  Cabin  \\\n",
       "Title                                                                          \n",
       "Unknown        23      23    23   23   22     23     23      23    23     10   \n",
       "Master         40      40    40   40   36     40     40      40    40      7   \n",
       "Mrs           126     126   126  126  109    126    126     126   126     45   \n",
       "Miss          185     185   185  185  149    185    185     185   185     49   \n",
       "Mr            517     517   517  517  398    517    517     517   517     93   \n",
       "\n",
       "         Embarked  \n",
       "Title              \n",
       "Unknown        23  \n",
       "Master         40  \n",
       "Mrs           125  \n",
       "Miss          184  \n",
       "Mr            517  "
      ]
     },
     "execution_count": 11,
     "metadata": {},
     "output_type": "execute_result"
    }
   ],
   "source": [
    "data_trans.groupby('Title').count().sort_values('Age')"
   ]
  },
  {
   "cell_type": "code",
   "execution_count": 12,
   "metadata": {},
   "outputs": [],
   "source": [
    "def fill_age(df):\n",
    "    for title in major_titles:\n",
    "        avg_age = df[df.Title == title]['Age'].mean()\n",
    "        df.loc[(df.Title == title) & (df.Age.isnull()), 'Age'] = avg_age\n",
    "        "
   ]
  },
  {
   "cell_type": "code",
   "execution_count": 13,
   "metadata": {},
   "outputs": [],
   "source": [
    "fill_age(data_trans)"
   ]
  },
  {
   "cell_type": "code",
   "execution_count": 14,
   "metadata": {},
   "outputs": [],
   "source": [
    "data_trans['Embarked'].fillna('Q', inplace=True);"
   ]
  },
  {
   "cell_type": "code",
   "execution_count": 15,
   "metadata": {},
   "outputs": [
    {
     "data": {
      "text/plain": [
       "Survived      0\n",
       "Pclass        0\n",
       "Name          0\n",
       "Sex           0\n",
       "Age           0\n",
       "SibSp         0\n",
       "Parch         0\n",
       "Ticket        0\n",
       "Fare          0\n",
       "Embarked      0\n",
       "Title         0\n",
       "Cabin       687\n",
       "dtype: int64"
      ]
     },
     "execution_count": 15,
     "metadata": {},
     "output_type": "execute_result"
    }
   ],
   "source": [
    "data_trans.isnull().sum().sort_values()"
   ]
  },
  {
   "cell_type": "code",
   "execution_count": 16,
   "metadata": {},
   "outputs": [
    {
     "name": "stdout",
     "output_type": "stream",
     "text": [
      "84.1546875\n",
      "20.6621831522\n",
      "13.6755501018\n"
     ]
    }
   ],
   "source": [
    "print(data_trans[data_trans.Pclass == 1]['Fare'].mean())\n",
    "print(data_trans[data_trans.Pclass == 2]['Fare'].mean())\n",
    "print(data_trans[data_trans.Pclass == 3]['Fare'].mean())"
   ]
  },
  {
   "cell_type": "code",
   "execution_count": 17,
   "metadata": {},
   "outputs": [],
   "source": [
    "def adjust_tickets(df):\n",
    "    tickets = df['Ticket'].unique()\n",
    "    for ticket in tickets:\n",
    "        ticket_rows = df[df['Ticket'] == ticket]\n",
    "        same_tickes_num = len(ticket_rows)\n",
    "        if (same_tickes_num > 1):\n",
    "            fare = ticket_rows['Fare'].mean()\n",
    "            new_fare = fare / same_tickes_num\n",
    "            df.loc[df['Ticket'] == ticket, 'Fare'] = new_fare"
   ]
  },
  {
   "cell_type": "code",
   "execution_count": 18,
   "metadata": {},
   "outputs": [],
   "source": [
    "adjust_tickets(data_trans)"
   ]
  },
  {
   "cell_type": "code",
   "execution_count": 19,
   "metadata": {},
   "outputs": [
    {
     "name": "stdout",
     "output_type": "stream",
     "text": [
      "43.6503472222\n",
      "13.3225994565\n",
      "8.08585692464\n"
     ]
    }
   ],
   "source": [
    "print(data_trans[data_trans.Pclass == 1]['Fare'].mean())\n",
    "print(data_trans[data_trans.Pclass == 2]['Fare'].mean())\n",
    "print(data_trans[data_trans.Pclass == 3]['Fare'].mean())"
   ]
  },
  {
   "cell_type": "code",
   "execution_count": 20,
   "metadata": {},
   "outputs": [],
   "source": [
    "data_trans['FamilySize'] = data_trans['SibSp'] + data_trans['Parch'] + 1"
   ]
  },
  {
   "cell_type": "code",
   "execution_count": 21,
   "metadata": {},
   "outputs": [],
   "source": [
    "def one_hot_title(df):\n",
    "    for title in major_titles:\n",
    "        df['Is' + title] = (df.Title == title).astype(float)"
   ]
  },
  {
   "cell_type": "code",
   "execution_count": 22,
   "metadata": {},
   "outputs": [],
   "source": [
    "one_hot_title(data_trans)"
   ]
  },
  {
   "cell_type": "code",
   "execution_count": 23,
   "metadata": {},
   "outputs": [],
   "source": [
    "def one_hot_embark(df):\n",
    "    for city in ['S', 'C', 'Q']:\n",
    "        df['Embarked' + city] = (df.Embarked == city).astype(float)"
   ]
  },
  {
   "cell_type": "code",
   "execution_count": 24,
   "metadata": {},
   "outputs": [],
   "source": [
    "one_hot_embark(data_trans)"
   ]
  },
  {
   "cell_type": "code",
   "execution_count": 25,
   "metadata": {},
   "outputs": [],
   "source": [
    "def one_hot_class(df):\n",
    "    for cls in [1, 2, 3]:\n",
    "        df['Class' + str(cls)] = (df.Pclass == cls).astype(float)"
   ]
  },
  {
   "cell_type": "code",
   "execution_count": 26,
   "metadata": {},
   "outputs": [],
   "source": [
    "one_hot_class(data_trans)"
   ]
  },
  {
   "cell_type": "code",
   "execution_count": 27,
   "metadata": {},
   "outputs": [],
   "source": [
    "def one_hot_sex(df):\n",
    "    for sex in ['male', 'female']:\n",
    "        df['Is' + sex.title()] = (df.Sex == sex).astype(float)"
   ]
  },
  {
   "cell_type": "code",
   "execution_count": 28,
   "metadata": {},
   "outputs": [],
   "source": [
    "one_hot_sex(data_trans)"
   ]
  },
  {
   "cell_type": "code",
   "execution_count": 29,
   "metadata": {},
   "outputs": [],
   "source": [
    "def one_hot_family(df):\n",
    "    df['Alone'] = (df.FamilySize == 1).astype(float)\n",
    "    df['SmallFamily'] = ((df.FamilySize >= 2) & (df.FamilySize < 5)).astype(float)\n",
    "    df['BigFamily'] = (df.FamilySize >= 5).astype(float)"
   ]
  },
  {
   "cell_type": "code",
   "execution_count": 30,
   "metadata": {},
   "outputs": [],
   "source": [
    "one_hot_family(data_trans)"
   ]
  },
  {
   "cell_type": "code",
   "execution_count": 31,
   "metadata": {},
   "outputs": [],
   "source": [
    "def one_hot_age(df):\n",
    "    df['Child'] = (df.Age <= 12).astype(float)\n",
    "    df['YoundAdult'] = ((df.Age > 12) & (df.FamilySize <= 25)).astype(float)\n",
    "    df['Adult'] = ((df.FamilySize > 25) & (df.FamilySize <= 50)).astype(float)\n",
    "    df['Elderly'] = (df.Age > 50).astype(float)"
   ]
  },
  {
   "cell_type": "code",
   "execution_count": 32,
   "metadata": {},
   "outputs": [],
   "source": [
    "def data_and_target(df):\n",
    "    X = df\n",
    "    X = X.drop('Survived',1)\n",
    "    y = df['Survived']\n",
    "    \n",
    "    print('X shape: {}, y shape {}'.format(X.shape, y.shape))\n",
    "    \n",
    "    return (X, y)"
   ]
  },
  {
   "cell_type": "code",
   "execution_count": 33,
   "metadata": {},
   "outputs": [],
   "source": [
    "one_hot_age(data_trans)"
   ]
  },
  {
   "cell_type": "code",
   "execution_count": 34,
   "metadata": {},
   "outputs": [],
   "source": [
    "def one_hot_fare(df):\n",
    "    df['FareCat1'] = (df.Fare <= 7.73).astype(float)\n",
    "    df['FareCat2'] = ((df.Fare > 7.73) & (df.Fare <= 8.05)).astype(float)\n",
    "    df['FareCat3'] = ((df.Fare > 8.05) & (df.Fare <= 11.72)).astype(float)\n",
    "    df['FareCat4'] = ((df.Fare > 11.73) & (df.Fare <= 26.55)).astype(float)\n",
    "    df['FareCat5'] = (df.Fare > 26.55).astype(float)"
   ]
  },
  {
   "cell_type": "code",
   "execution_count": 35,
   "metadata": {},
   "outputs": [],
   "source": [
    "# one_hot_fare(data_trans)"
   ]
  },
  {
   "cell_type": "code",
   "execution_count": 36,
   "metadata": {},
   "outputs": [
    {
     "data": {
      "text/plain": [
       "Index(['Survived', 'Pclass', 'Name', 'Sex', 'Age', 'SibSp', 'Parch', 'Ticket',\n",
       "       'Fare', 'Cabin', 'Embarked', 'Title', 'FamilySize', 'IsMr', 'IsMrs',\n",
       "       'IsMiss', 'IsMaster', 'IsUnknown', 'EmbarkedS', 'EmbarkedC',\n",
       "       'EmbarkedQ', 'Class1', 'Class2', 'Class3', 'IsMale', 'IsFemale',\n",
       "       'Alone', 'SmallFamily', 'BigFamily', 'Child', 'YoundAdult', 'Adult',\n",
       "       'Elderly'],\n",
       "      dtype='object')"
      ]
     },
     "execution_count": 36,
     "metadata": {},
     "output_type": "execute_result"
    }
   ],
   "source": [
    "data_trans.columns"
   ]
  },
  {
   "cell_type": "code",
   "execution_count": 37,
   "metadata": {},
   "outputs": [],
   "source": [
    "data_useful = data_trans.drop(['Pclass', 'Name', 'Sex', 'SibSp', 'Parch', 'Ticket', 'Cabin', 'Embarked', 'Title', 'Age'],1)"
   ]
  },
  {
   "cell_type": "code",
   "execution_count": 38,
   "metadata": {},
   "outputs": [
    {
     "name": "stdout",
     "output_type": "stream",
     "text": [
      "X shape: (891, 22), y shape (891,)\n"
     ]
    }
   ],
   "source": [
    "(X, y) = data_and_target(data_useful)"
   ]
  },
  {
   "cell_type": "code",
   "execution_count": 39,
   "metadata": {},
   "outputs": [
    {
     "data": {
      "text/plain": [
       "(0.38323353293413176, 0.38565022421524664)"
      ]
     },
     "execution_count": 39,
     "metadata": {},
     "output_type": "execute_result"
    }
   ],
   "source": [
    "X_train, X_test, y_train, y_test = train_test_split(X, y, random_state=12345, stratify=y)\n",
    "\n",
    "y_train.mean(), y_test.mean()"
   ]
  },
  {
   "cell_type": "code",
   "execution_count": 40,
   "metadata": {},
   "outputs": [
    {
     "name": "stdout",
     "output_type": "stream",
     "text": [
      "train score: 0.811377245509\n",
      "test score:  0.878923766816\n"
     ]
    }
   ],
   "source": [
    "model = LogisticRegression().fit(X_train, y_train)\n",
    "print(\"train score:\", model.score(X_train, y_train))\n",
    "print(\"test score: \", model.score(X_test, y_test))"
   ]
  },
  {
   "cell_type": "code",
   "execution_count": 41,
   "metadata": {},
   "outputs": [
    {
     "name": "stdout",
     "output_type": "stream",
     "text": [
      "train score: 0.823353293413\n",
      "test score:  0.874439461883\n"
     ]
    }
   ],
   "source": [
    "forest = RandomForestClassifier(max_depth=4, n_estimators=50, random_state = 0).fit(X_train, y_train)\n",
    "print(\"train score:\", forest.score(X_train, y_train))\n",
    "print(\"test score: \", forest.score(X_test, y_test))"
   ]
  },
  {
   "cell_type": "code",
   "execution_count": 42,
   "metadata": {},
   "outputs": [
    {
     "data": {
      "text/html": [
       "<div>\n",
       "<style>\n",
       "    .dataframe thead tr:only-child th {\n",
       "        text-align: right;\n",
       "    }\n",
       "\n",
       "    .dataframe thead th {\n",
       "        text-align: left;\n",
       "    }\n",
       "\n",
       "    .dataframe tbody tr th {\n",
       "        vertical-align: top;\n",
       "    }\n",
       "</style>\n",
       "<table border=\"1\" class=\"dataframe\">\n",
       "  <thead>\n",
       "    <tr style=\"text-align: right;\">\n",
       "      <th></th>\n",
       "      <th>rank_test_score</th>\n",
       "      <th>mean_test_score</th>\n",
       "      <th>params</th>\n",
       "    </tr>\n",
       "  </thead>\n",
       "  <tbody>\n",
       "    <tr>\n",
       "      <th>6</th>\n",
       "      <td>1</td>\n",
       "      <td>0.833895</td>\n",
       "      <td>{'max_depth': 4, 'n_estimators': 10}</td>\n",
       "    </tr>\n",
       "    <tr>\n",
       "      <th>8</th>\n",
       "      <td>2</td>\n",
       "      <td>0.832772</td>\n",
       "      <td>{'max_depth': 4, 'n_estimators': 50}</td>\n",
       "    </tr>\n",
       "    <tr>\n",
       "      <th>11</th>\n",
       "      <td>2</td>\n",
       "      <td>0.832772</td>\n",
       "      <td>{'max_depth': 4, 'n_estimators': 200}</td>\n",
       "    </tr>\n",
       "    <tr>\n",
       "      <th>9</th>\n",
       "      <td>2</td>\n",
       "      <td>0.832772</td>\n",
       "      <td>{'max_depth': 4, 'n_estimators': 70}</td>\n",
       "    </tr>\n",
       "    <tr>\n",
       "      <th>7</th>\n",
       "      <td>5</td>\n",
       "      <td>0.831650</td>\n",
       "      <td>{'max_depth': 4, 'n_estimators': 30}</td>\n",
       "    </tr>\n",
       "    <tr>\n",
       "      <th>10</th>\n",
       "      <td>5</td>\n",
       "      <td>0.831650</td>\n",
       "      <td>{'max_depth': 4, 'n_estimators': 100}</td>\n",
       "    </tr>\n",
       "    <tr>\n",
       "      <th>12</th>\n",
       "      <td>7</td>\n",
       "      <td>0.830527</td>\n",
       "      <td>{'max_depth': 6, 'n_estimators': 10}</td>\n",
       "    </tr>\n",
       "    <tr>\n",
       "      <th>14</th>\n",
       "      <td>8</td>\n",
       "      <td>0.823793</td>\n",
       "      <td>{'max_depth': 6, 'n_estimators': 50}</td>\n",
       "    </tr>\n",
       "    <tr>\n",
       "      <th>13</th>\n",
       "      <td>8</td>\n",
       "      <td>0.823793</td>\n",
       "      <td>{'max_depth': 6, 'n_estimators': 30}</td>\n",
       "    </tr>\n",
       "    <tr>\n",
       "      <th>17</th>\n",
       "      <td>10</td>\n",
       "      <td>0.817059</td>\n",
       "      <td>{'max_depth': 6, 'n_estimators': 200}</td>\n",
       "    </tr>\n",
       "    <tr>\n",
       "      <th>16</th>\n",
       "      <td>11</td>\n",
       "      <td>0.815937</td>\n",
       "      <td>{'max_depth': 6, 'n_estimators': 100}</td>\n",
       "    </tr>\n",
       "    <tr>\n",
       "      <th>15</th>\n",
       "      <td>12</td>\n",
       "      <td>0.814815</td>\n",
       "      <td>{'max_depth': 6, 'n_estimators': 70}</td>\n",
       "    </tr>\n",
       "    <tr>\n",
       "      <th>22</th>\n",
       "      <td>13</td>\n",
       "      <td>0.806958</td>\n",
       "      <td>{'max_depth': 8, 'n_estimators': 100}</td>\n",
       "    </tr>\n",
       "    <tr>\n",
       "      <th>23</th>\n",
       "      <td>13</td>\n",
       "      <td>0.806958</td>\n",
       "      <td>{'max_depth': 8, 'n_estimators': 200}</td>\n",
       "    </tr>\n",
       "    <tr>\n",
       "      <th>5</th>\n",
       "      <td>15</td>\n",
       "      <td>0.805836</td>\n",
       "      <td>{'max_depth': 2, 'n_estimators': 200}</td>\n",
       "    </tr>\n",
       "    <tr>\n",
       "      <th>21</th>\n",
       "      <td>15</td>\n",
       "      <td>0.805836</td>\n",
       "      <td>{'max_depth': 8, 'n_estimators': 70}</td>\n",
       "    </tr>\n",
       "    <tr>\n",
       "      <th>0</th>\n",
       "      <td>17</td>\n",
       "      <td>0.804714</td>\n",
       "      <td>{'max_depth': 2, 'n_estimators': 10}</td>\n",
       "    </tr>\n",
       "    <tr>\n",
       "      <th>20</th>\n",
       "      <td>18</td>\n",
       "      <td>0.802469</td>\n",
       "      <td>{'max_depth': 8, 'n_estimators': 50}</td>\n",
       "    </tr>\n",
       "    <tr>\n",
       "      <th>1</th>\n",
       "      <td>18</td>\n",
       "      <td>0.802469</td>\n",
       "      <td>{'max_depth': 2, 'n_estimators': 30}</td>\n",
       "    </tr>\n",
       "    <tr>\n",
       "      <th>4</th>\n",
       "      <td>20</td>\n",
       "      <td>0.801347</td>\n",
       "      <td>{'max_depth': 2, 'n_estimators': 100}</td>\n",
       "    </tr>\n",
       "  </tbody>\n",
       "</table>\n",
       "</div>"
      ],
      "text/plain": [
       "    rank_test_score  mean_test_score                                 params\n",
       "6                 1         0.833895   {'max_depth': 4, 'n_estimators': 10}\n",
       "8                 2         0.832772   {'max_depth': 4, 'n_estimators': 50}\n",
       "11                2         0.832772  {'max_depth': 4, 'n_estimators': 200}\n",
       "9                 2         0.832772   {'max_depth': 4, 'n_estimators': 70}\n",
       "7                 5         0.831650   {'max_depth': 4, 'n_estimators': 30}\n",
       "10                5         0.831650  {'max_depth': 4, 'n_estimators': 100}\n",
       "12                7         0.830527   {'max_depth': 6, 'n_estimators': 10}\n",
       "14                8         0.823793   {'max_depth': 6, 'n_estimators': 50}\n",
       "13                8         0.823793   {'max_depth': 6, 'n_estimators': 30}\n",
       "17               10         0.817059  {'max_depth': 6, 'n_estimators': 200}\n",
       "16               11         0.815937  {'max_depth': 6, 'n_estimators': 100}\n",
       "15               12         0.814815   {'max_depth': 6, 'n_estimators': 70}\n",
       "22               13         0.806958  {'max_depth': 8, 'n_estimators': 100}\n",
       "23               13         0.806958  {'max_depth': 8, 'n_estimators': 200}\n",
       "5                15         0.805836  {'max_depth': 2, 'n_estimators': 200}\n",
       "21               15         0.805836   {'max_depth': 8, 'n_estimators': 70}\n",
       "0                17         0.804714   {'max_depth': 2, 'n_estimators': 10}\n",
       "20               18         0.802469   {'max_depth': 8, 'n_estimators': 50}\n",
       "1                18         0.802469   {'max_depth': 2, 'n_estimators': 30}\n",
       "4                20         0.801347  {'max_depth': 2, 'n_estimators': 100}"
      ]
     },
     "execution_count": 42,
     "metadata": {},
     "output_type": "execute_result"
    }
   ],
   "source": [
    "search = GridSearchCV(forest, {'n_estimators': [10, 30, 50, 70, 100, 200],\n",
    "                              'max_depth': [2, 4, 6, 8, 10, 12, 15],\n",
    "                              #'random_state': [0,1,123, 1234, 12345]\n",
    "                              })\n",
    "search.fit(X, y)\n",
    "\n",
    "pd.DataFrame(search.cv_results_)[['rank_test_score', 'mean_test_score', 'params']].sort_values(by='rank_test_score').head(20)"
   ]
  },
  {
   "cell_type": "code",
   "execution_count": 43,
   "metadata": {},
   "outputs": [],
   "source": [
    "test = pd.read_csv('../data/test-titanic.csv', index_col=['PassengerId'])\n",
    "\n",
    "add_title(test)\n",
    "edit_titles(test)\n",
    "fill_age(test)\n",
    "test['Embarked'].fillna('Q', inplace=True)\n",
    "test['FamilySize'] = test['SibSp'] + test['Parch'] + 1\n",
    "test['Fare'] = test['Fare'].fillna(test['Fare'].mean())\n",
    "adjust_tickets(test)\n",
    "one_hot_title(test)\n",
    "one_hot_embark(test)\n",
    "one_hot_class(test)\n",
    "one_hot_sex(test)\n",
    "one_hot_family(test)\n",
    "one_hot_age(test)\n",
    "# one_hot_fare(test)\n",
    "# name_len(test)\n",
    "\n",
    "test = test.drop(['Pclass', 'Name', 'Sex', 'SibSp', 'Parch', 'Ticket', 'Cabin', 'Embarked', 'Title', 'Age'],1)"
   ]
  },
  {
   "cell_type": "code",
   "execution_count": 44,
   "metadata": {},
   "outputs": [
    {
     "data": {
      "text/html": [
       "<div>\n",
       "<style>\n",
       "    .dataframe thead tr:only-child th {\n",
       "        text-align: right;\n",
       "    }\n",
       "\n",
       "    .dataframe thead th {\n",
       "        text-align: left;\n",
       "    }\n",
       "\n",
       "    .dataframe tbody tr th {\n",
       "        vertical-align: top;\n",
       "    }\n",
       "</style>\n",
       "<table border=\"1\" class=\"dataframe\">\n",
       "  <thead>\n",
       "    <tr style=\"text-align: right;\">\n",
       "      <th></th>\n",
       "      <th>Survived</th>\n",
       "    </tr>\n",
       "    <tr>\n",
       "      <th>PassengerId</th>\n",
       "      <th></th>\n",
       "    </tr>\n",
       "  </thead>\n",
       "  <tbody>\n",
       "    <tr>\n",
       "      <th>892</th>\n",
       "      <td>0</td>\n",
       "    </tr>\n",
       "    <tr>\n",
       "      <th>893</th>\n",
       "      <td>0</td>\n",
       "    </tr>\n",
       "    <tr>\n",
       "      <th>894</th>\n",
       "      <td>0</td>\n",
       "    </tr>\n",
       "    <tr>\n",
       "      <th>895</th>\n",
       "      <td>0</td>\n",
       "    </tr>\n",
       "    <tr>\n",
       "      <th>896</th>\n",
       "      <td>1</td>\n",
       "    </tr>\n",
       "  </tbody>\n",
       "</table>\n",
       "</div>"
      ],
      "text/plain": [
       "             Survived\n",
       "PassengerId          \n",
       "892                 0\n",
       "893                 0\n",
       "894                 0\n",
       "895                 0\n",
       "896                 1"
      ]
     },
     "execution_count": 44,
     "metadata": {},
     "output_type": "execute_result"
    }
   ],
   "source": [
    "predictions = forest.predict(test)\n",
    "frame = pd.DataFrame({\n",
    "    'PassengerId': pd.read_csv('../data/test-titanic.csv').PassengerId,\n",
    "    'Survived': predictions\n",
    "})\n",
    "frame = frame.set_index('PassengerId')\n",
    "frame.to_csv('~/Desktop/pred1.csv')\n",
    "frame.head()"
   ]
  }
 ],
 "metadata": {
  "kernelspec": {
   "display_name": "Python 3",
   "language": "python",
   "name": "python3"
  },
  "language_info": {
   "codemirror_mode": {
    "name": "ipython",
    "version": 3
   },
   "file_extension": ".py",
   "mimetype": "text/x-python",
   "name": "python",
   "nbconvert_exporter": "python",
   "pygments_lexer": "ipython3",
   "version": "3.5.2"
  }
 },
 "nbformat": 4,
 "nbformat_minor": 2
}
