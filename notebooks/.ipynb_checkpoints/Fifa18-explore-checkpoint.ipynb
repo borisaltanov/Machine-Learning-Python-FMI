{
 "cells": [
  {
   "cell_type": "markdown",
   "metadata": {},
   "source": [
    "### Data exploration, feature engineering и prediction с линейна регресия."
   ]
  },
  {
   "cell_type": "markdown",
   "metadata": {},
   "source": [
    "### Разгледан [dataset](https://www.kaggle.com/thec03u5/fifa-18-demo-player-dataset/data) от Kaggle съдържа информация за атрибутите на над 17 хиляди футболисти в играта Fifa 18."
   ]
  },
  {
   "cell_type": "markdown",
   "metadata": {},
   "source": [
    "Нека първо добавим нужните библиотеки и други неща."
   ]
  },
  {
   "cell_type": "code",
   "execution_count": 1,
   "metadata": {},
   "outputs": [],
   "source": [
    "import sys\n",
    "\n",
    "import sklearn\n",
    "import pandas as pd\n",
    "import matplotlib as mpl\n",
    "import matplotlib.pyplot as plt\n",
    "import seaborn as sns\n",
    "import numpy as np\n",
    "import warnings\n",
    "\n",
    "from sklearn.preprocessing import LabelEncoder\n",
    "from sklearn.model_selection import train_test_split\n",
    "from sklearn.linear_model import (LinearRegression, Ridge, Lasso)\n",
    "from sklearn.ensemble import RandomForestRegressor\n",
    "\n",
    "%matplotlib inline\n",
    "\n",
    "warnings.filterwarnings('ignore')\n",
    "\n",
    "pd.options.display.max_rows = 20"
   ]
  },
  {
   "cell_type": "markdown",
   "metadata": {},
   "source": [
    "Целият dataset съдържа 4 файла. Ние ще използваме *CompleteDataset.csv*\n",
    "\n",
    "Нека да заредим и видим данните."
   ]
  },
  {
   "cell_type": "code",
   "execution_count": 2,
   "metadata": {},
   "outputs": [
    {
     "data": {
      "text/html": [
       "<div>\n",
       "<style>\n",
       "    .dataframe thead tr:only-child th {\n",
       "        text-align: right;\n",
       "    }\n",
       "\n",
       "    .dataframe thead th {\n",
       "        text-align: left;\n",
       "    }\n",
       "\n",
       "    .dataframe tbody tr th {\n",
       "        vertical-align: top;\n",
       "    }\n",
       "</style>\n",
       "<table border=\"1\" class=\"dataframe\">\n",
       "  <thead>\n",
       "    <tr style=\"text-align: right;\">\n",
       "      <th></th>\n",
       "      <th>Name</th>\n",
       "      <th>Age</th>\n",
       "      <th>Photo</th>\n",
       "      <th>Nationality</th>\n",
       "      <th>Flag</th>\n",
       "      <th>Overall</th>\n",
       "      <th>Potential</th>\n",
       "      <th>Club</th>\n",
       "      <th>Club Logo</th>\n",
       "      <th>Value</th>\n",
       "      <th>...</th>\n",
       "      <th>RB</th>\n",
       "      <th>RCB</th>\n",
       "      <th>RCM</th>\n",
       "      <th>RDM</th>\n",
       "      <th>RF</th>\n",
       "      <th>RM</th>\n",
       "      <th>RS</th>\n",
       "      <th>RW</th>\n",
       "      <th>RWB</th>\n",
       "      <th>ST</th>\n",
       "    </tr>\n",
       "  </thead>\n",
       "  <tbody>\n",
       "    <tr>\n",
       "      <th>0</th>\n",
       "      <td>Cristiano Ronaldo</td>\n",
       "      <td>32</td>\n",
       "      <td>https://cdn.sofifa.org/48/18/players/20801.png</td>\n",
       "      <td>Portugal</td>\n",
       "      <td>https://cdn.sofifa.org/flags/38.png</td>\n",
       "      <td>94</td>\n",
       "      <td>94</td>\n",
       "      <td>Real Madrid CF</td>\n",
       "      <td>https://cdn.sofifa.org/24/18/teams/243.png</td>\n",
       "      <td>€95.5M</td>\n",
       "      <td>...</td>\n",
       "      <td>61.0</td>\n",
       "      <td>53.0</td>\n",
       "      <td>82.0</td>\n",
       "      <td>62.0</td>\n",
       "      <td>91.0</td>\n",
       "      <td>89.0</td>\n",
       "      <td>92.0</td>\n",
       "      <td>91.0</td>\n",
       "      <td>66.0</td>\n",
       "      <td>92.0</td>\n",
       "    </tr>\n",
       "    <tr>\n",
       "      <th>1</th>\n",
       "      <td>L. Messi</td>\n",
       "      <td>30</td>\n",
       "      <td>https://cdn.sofifa.org/48/18/players/158023.png</td>\n",
       "      <td>Argentina</td>\n",
       "      <td>https://cdn.sofifa.org/flags/52.png</td>\n",
       "      <td>93</td>\n",
       "      <td>93</td>\n",
       "      <td>FC Barcelona</td>\n",
       "      <td>https://cdn.sofifa.org/24/18/teams/241.png</td>\n",
       "      <td>€105M</td>\n",
       "      <td>...</td>\n",
       "      <td>57.0</td>\n",
       "      <td>45.0</td>\n",
       "      <td>84.0</td>\n",
       "      <td>59.0</td>\n",
       "      <td>92.0</td>\n",
       "      <td>90.0</td>\n",
       "      <td>88.0</td>\n",
       "      <td>91.0</td>\n",
       "      <td>62.0</td>\n",
       "      <td>88.0</td>\n",
       "    </tr>\n",
       "    <tr>\n",
       "      <th>2</th>\n",
       "      <td>Neymar</td>\n",
       "      <td>25</td>\n",
       "      <td>https://cdn.sofifa.org/48/18/players/190871.png</td>\n",
       "      <td>Brazil</td>\n",
       "      <td>https://cdn.sofifa.org/flags/54.png</td>\n",
       "      <td>92</td>\n",
       "      <td>94</td>\n",
       "      <td>Paris Saint-Germain</td>\n",
       "      <td>https://cdn.sofifa.org/24/18/teams/73.png</td>\n",
       "      <td>€123M</td>\n",
       "      <td>...</td>\n",
       "      <td>59.0</td>\n",
       "      <td>46.0</td>\n",
       "      <td>79.0</td>\n",
       "      <td>59.0</td>\n",
       "      <td>88.0</td>\n",
       "      <td>87.0</td>\n",
       "      <td>84.0</td>\n",
       "      <td>89.0</td>\n",
       "      <td>64.0</td>\n",
       "      <td>84.0</td>\n",
       "    </tr>\n",
       "    <tr>\n",
       "      <th>3</th>\n",
       "      <td>L. Suárez</td>\n",
       "      <td>30</td>\n",
       "      <td>https://cdn.sofifa.org/48/18/players/176580.png</td>\n",
       "      <td>Uruguay</td>\n",
       "      <td>https://cdn.sofifa.org/flags/60.png</td>\n",
       "      <td>92</td>\n",
       "      <td>92</td>\n",
       "      <td>FC Barcelona</td>\n",
       "      <td>https://cdn.sofifa.org/24/18/teams/241.png</td>\n",
       "      <td>€97M</td>\n",
       "      <td>...</td>\n",
       "      <td>64.0</td>\n",
       "      <td>58.0</td>\n",
       "      <td>80.0</td>\n",
       "      <td>65.0</td>\n",
       "      <td>88.0</td>\n",
       "      <td>85.0</td>\n",
       "      <td>88.0</td>\n",
       "      <td>87.0</td>\n",
       "      <td>68.0</td>\n",
       "      <td>88.0</td>\n",
       "    </tr>\n",
       "    <tr>\n",
       "      <th>4</th>\n",
       "      <td>M. Neuer</td>\n",
       "      <td>31</td>\n",
       "      <td>https://cdn.sofifa.org/48/18/players/167495.png</td>\n",
       "      <td>Germany</td>\n",
       "      <td>https://cdn.sofifa.org/flags/21.png</td>\n",
       "      <td>92</td>\n",
       "      <td>92</td>\n",
       "      <td>FC Bayern Munich</td>\n",
       "      <td>https://cdn.sofifa.org/24/18/teams/21.png</td>\n",
       "      <td>€61M</td>\n",
       "      <td>...</td>\n",
       "      <td>NaN</td>\n",
       "      <td>NaN</td>\n",
       "      <td>NaN</td>\n",
       "      <td>NaN</td>\n",
       "      <td>NaN</td>\n",
       "      <td>NaN</td>\n",
       "      <td>NaN</td>\n",
       "      <td>NaN</td>\n",
       "      <td>NaN</td>\n",
       "      <td>NaN</td>\n",
       "    </tr>\n",
       "    <tr>\n",
       "      <th>5</th>\n",
       "      <td>R. Lewandowski</td>\n",
       "      <td>28</td>\n",
       "      <td>https://cdn.sofifa.org/48/18/players/188545.png</td>\n",
       "      <td>Poland</td>\n",
       "      <td>https://cdn.sofifa.org/flags/37.png</td>\n",
       "      <td>91</td>\n",
       "      <td>91</td>\n",
       "      <td>FC Bayern Munich</td>\n",
       "      <td>https://cdn.sofifa.org/24/18/teams/21.png</td>\n",
       "      <td>€92M</td>\n",
       "      <td>...</td>\n",
       "      <td>58.0</td>\n",
       "      <td>57.0</td>\n",
       "      <td>78.0</td>\n",
       "      <td>62.0</td>\n",
       "      <td>87.0</td>\n",
       "      <td>82.0</td>\n",
       "      <td>88.0</td>\n",
       "      <td>84.0</td>\n",
       "      <td>61.0</td>\n",
       "      <td>88.0</td>\n",
       "    </tr>\n",
       "    <tr>\n",
       "      <th>6</th>\n",
       "      <td>De Gea</td>\n",
       "      <td>26</td>\n",
       "      <td>https://cdn.sofifa.org/48/18/players/193080.png</td>\n",
       "      <td>Spain</td>\n",
       "      <td>https://cdn.sofifa.org/flags/45.png</td>\n",
       "      <td>90</td>\n",
       "      <td>92</td>\n",
       "      <td>Manchester United</td>\n",
       "      <td>https://cdn.sofifa.org/24/18/teams/11.png</td>\n",
       "      <td>€64.5M</td>\n",
       "      <td>...</td>\n",
       "      <td>NaN</td>\n",
       "      <td>NaN</td>\n",
       "      <td>NaN</td>\n",
       "      <td>NaN</td>\n",
       "      <td>NaN</td>\n",
       "      <td>NaN</td>\n",
       "      <td>NaN</td>\n",
       "      <td>NaN</td>\n",
       "      <td>NaN</td>\n",
       "      <td>NaN</td>\n",
       "    </tr>\n",
       "    <tr>\n",
       "      <th>7</th>\n",
       "      <td>E. Hazard</td>\n",
       "      <td>26</td>\n",
       "      <td>https://cdn.sofifa.org/48/18/players/183277.png</td>\n",
       "      <td>Belgium</td>\n",
       "      <td>https://cdn.sofifa.org/flags/7.png</td>\n",
       "      <td>90</td>\n",
       "      <td>91</td>\n",
       "      <td>Chelsea</td>\n",
       "      <td>https://cdn.sofifa.org/24/18/teams/5.png</td>\n",
       "      <td>€90.5M</td>\n",
       "      <td>...</td>\n",
       "      <td>59.0</td>\n",
       "      <td>47.0</td>\n",
       "      <td>81.0</td>\n",
       "      <td>61.0</td>\n",
       "      <td>87.0</td>\n",
       "      <td>87.0</td>\n",
       "      <td>82.0</td>\n",
       "      <td>88.0</td>\n",
       "      <td>64.0</td>\n",
       "      <td>82.0</td>\n",
       "    </tr>\n",
       "    <tr>\n",
       "      <th>8</th>\n",
       "      <td>T. Kroos</td>\n",
       "      <td>27</td>\n",
       "      <td>https://cdn.sofifa.org/48/18/players/182521.png</td>\n",
       "      <td>Germany</td>\n",
       "      <td>https://cdn.sofifa.org/flags/21.png</td>\n",
       "      <td>90</td>\n",
       "      <td>90</td>\n",
       "      <td>Real Madrid CF</td>\n",
       "      <td>https://cdn.sofifa.org/24/18/teams/243.png</td>\n",
       "      <td>€79M</td>\n",
       "      <td>...</td>\n",
       "      <td>76.0</td>\n",
       "      <td>72.0</td>\n",
       "      <td>87.0</td>\n",
       "      <td>82.0</td>\n",
       "      <td>81.0</td>\n",
       "      <td>81.0</td>\n",
       "      <td>77.0</td>\n",
       "      <td>80.0</td>\n",
       "      <td>78.0</td>\n",
       "      <td>77.0</td>\n",
       "    </tr>\n",
       "    <tr>\n",
       "      <th>9</th>\n",
       "      <td>G. Higuaín</td>\n",
       "      <td>29</td>\n",
       "      <td>https://cdn.sofifa.org/48/18/players/167664.png</td>\n",
       "      <td>Argentina</td>\n",
       "      <td>https://cdn.sofifa.org/flags/52.png</td>\n",
       "      <td>90</td>\n",
       "      <td>90</td>\n",
       "      <td>Juventus</td>\n",
       "      <td>https://cdn.sofifa.org/24/18/teams/45.png</td>\n",
       "      <td>€77M</td>\n",
       "      <td>...</td>\n",
       "      <td>51.0</td>\n",
       "      <td>46.0</td>\n",
       "      <td>71.0</td>\n",
       "      <td>52.0</td>\n",
       "      <td>84.0</td>\n",
       "      <td>79.0</td>\n",
       "      <td>87.0</td>\n",
       "      <td>82.0</td>\n",
       "      <td>55.0</td>\n",
       "      <td>87.0</td>\n",
       "    </tr>\n",
       "    <tr>\n",
       "      <th>...</th>\n",
       "      <td>...</td>\n",
       "      <td>...</td>\n",
       "      <td>...</td>\n",
       "      <td>...</td>\n",
       "      <td>...</td>\n",
       "      <td>...</td>\n",
       "      <td>...</td>\n",
       "      <td>...</td>\n",
       "      <td>...</td>\n",
       "      <td>...</td>\n",
       "      <td>...</td>\n",
       "      <td>...</td>\n",
       "      <td>...</td>\n",
       "      <td>...</td>\n",
       "      <td>...</td>\n",
       "      <td>...</td>\n",
       "      <td>...</td>\n",
       "      <td>...</td>\n",
       "      <td>...</td>\n",
       "      <td>...</td>\n",
       "      <td>...</td>\n",
       "    </tr>\n",
       "    <tr>\n",
       "      <th>17971</th>\n",
       "      <td>R. White</td>\n",
       "      <td>18</td>\n",
       "      <td>https://cdn.sofifa.org/48/18/players/240325.png</td>\n",
       "      <td>England</td>\n",
       "      <td>https://cdn.sofifa.org/flags/14.png</td>\n",
       "      <td>47</td>\n",
       "      <td>65</td>\n",
       "      <td>Bolton Wanderers</td>\n",
       "      <td>https://cdn.sofifa.org/24/18/teams/4.png</td>\n",
       "      <td>€60K</td>\n",
       "      <td>...</td>\n",
       "      <td>33.0</td>\n",
       "      <td>32.0</td>\n",
       "      <td>42.0</td>\n",
       "      <td>33.0</td>\n",
       "      <td>49.0</td>\n",
       "      <td>46.0</td>\n",
       "      <td>52.0</td>\n",
       "      <td>47.0</td>\n",
       "      <td>34.0</td>\n",
       "      <td>52.0</td>\n",
       "    </tr>\n",
       "    <tr>\n",
       "      <th>17972</th>\n",
       "      <td>A. Conway</td>\n",
       "      <td>19</td>\n",
       "      <td>https://cdn.sofifa.org/48/18/players/238306.png</td>\n",
       "      <td>Republic of Ireland</td>\n",
       "      <td>https://cdn.sofifa.org/flags/25.png</td>\n",
       "      <td>47</td>\n",
       "      <td>63</td>\n",
       "      <td>Galway United</td>\n",
       "      <td>https://cdn.sofifa.org/24/18/teams/1571.png</td>\n",
       "      <td>€60K</td>\n",
       "      <td>...</td>\n",
       "      <td>46.0</td>\n",
       "      <td>45.0</td>\n",
       "      <td>41.0</td>\n",
       "      <td>43.0</td>\n",
       "      <td>42.0</td>\n",
       "      <td>44.0</td>\n",
       "      <td>42.0</td>\n",
       "      <td>44.0</td>\n",
       "      <td>46.0</td>\n",
       "      <td>42.0</td>\n",
       "    </tr>\n",
       "    <tr>\n",
       "      <th>17973</th>\n",
       "      <td>T. Sawyer</td>\n",
       "      <td>18</td>\n",
       "      <td>https://cdn.sofifa.org/48/18/players/240403.png</td>\n",
       "      <td>England</td>\n",
       "      <td>https://cdn.sofifa.org/flags/14.png</td>\n",
       "      <td>46</td>\n",
       "      <td>58</td>\n",
       "      <td>Grimsby Town</td>\n",
       "      <td>https://cdn.sofifa.org/24/18/teams/92.png</td>\n",
       "      <td>€50K</td>\n",
       "      <td>...</td>\n",
       "      <td>45.0</td>\n",
       "      <td>42.0</td>\n",
       "      <td>45.0</td>\n",
       "      <td>43.0</td>\n",
       "      <td>46.0</td>\n",
       "      <td>47.0</td>\n",
       "      <td>45.0</td>\n",
       "      <td>47.0</td>\n",
       "      <td>46.0</td>\n",
       "      <td>45.0</td>\n",
       "    </tr>\n",
       "    <tr>\n",
       "      <th>17974</th>\n",
       "      <td>J. Keeble</td>\n",
       "      <td>18</td>\n",
       "      <td>https://cdn.sofifa.org/48/18/players/240404.png</td>\n",
       "      <td>England</td>\n",
       "      <td>https://cdn.sofifa.org/flags/14.png</td>\n",
       "      <td>46</td>\n",
       "      <td>56</td>\n",
       "      <td>Grimsby Town</td>\n",
       "      <td>https://cdn.sofifa.org/24/18/teams/92.png</td>\n",
       "      <td>€40K</td>\n",
       "      <td>...</td>\n",
       "      <td>46.0</td>\n",
       "      <td>45.0</td>\n",
       "      <td>34.0</td>\n",
       "      <td>41.0</td>\n",
       "      <td>33.0</td>\n",
       "      <td>35.0</td>\n",
       "      <td>33.0</td>\n",
       "      <td>34.0</td>\n",
       "      <td>44.0</td>\n",
       "      <td>33.0</td>\n",
       "    </tr>\n",
       "    <tr>\n",
       "      <th>17975</th>\n",
       "      <td>T. Käßemodel</td>\n",
       "      <td>28</td>\n",
       "      <td>https://cdn.sofifa.org/48/18/players/235352.png</td>\n",
       "      <td>Germany</td>\n",
       "      <td>https://cdn.sofifa.org/flags/21.png</td>\n",
       "      <td>46</td>\n",
       "      <td>46</td>\n",
       "      <td>FC Erzgebirge Aue</td>\n",
       "      <td>https://cdn.sofifa.org/24/18/teams/506.png</td>\n",
       "      <td>€30K</td>\n",
       "      <td>...</td>\n",
       "      <td>37.0</td>\n",
       "      <td>38.0</td>\n",
       "      <td>45.0</td>\n",
       "      <td>42.0</td>\n",
       "      <td>42.0</td>\n",
       "      <td>42.0</td>\n",
       "      <td>41.0</td>\n",
       "      <td>41.0</td>\n",
       "      <td>38.0</td>\n",
       "      <td>41.0</td>\n",
       "    </tr>\n",
       "    <tr>\n",
       "      <th>17976</th>\n",
       "      <td>A. Kelsey</td>\n",
       "      <td>17</td>\n",
       "      <td>https://cdn.sofifa.org/48/18/players/237463.png</td>\n",
       "      <td>England</td>\n",
       "      <td>https://cdn.sofifa.org/flags/14.png</td>\n",
       "      <td>46</td>\n",
       "      <td>63</td>\n",
       "      <td>Scunthorpe United</td>\n",
       "      <td>https://cdn.sofifa.org/24/18/teams/1949.png</td>\n",
       "      <td>€50K</td>\n",
       "      <td>...</td>\n",
       "      <td>NaN</td>\n",
       "      <td>NaN</td>\n",
       "      <td>NaN</td>\n",
       "      <td>NaN</td>\n",
       "      <td>NaN</td>\n",
       "      <td>NaN</td>\n",
       "      <td>NaN</td>\n",
       "      <td>NaN</td>\n",
       "      <td>NaN</td>\n",
       "      <td>NaN</td>\n",
       "    </tr>\n",
       "    <tr>\n",
       "      <th>17977</th>\n",
       "      <td>B. Richardson</td>\n",
       "      <td>47</td>\n",
       "      <td>https://cdn.sofifa.org/48/18/players/11728.png</td>\n",
       "      <td>England</td>\n",
       "      <td>https://cdn.sofifa.org/flags/14.png</td>\n",
       "      <td>46</td>\n",
       "      <td>46</td>\n",
       "      <td>Wycombe Wanderers</td>\n",
       "      <td>https://cdn.sofifa.org/24/18/teams/1933.png</td>\n",
       "      <td>€0</td>\n",
       "      <td>...</td>\n",
       "      <td>NaN</td>\n",
       "      <td>NaN</td>\n",
       "      <td>NaN</td>\n",
       "      <td>NaN</td>\n",
       "      <td>NaN</td>\n",
       "      <td>NaN</td>\n",
       "      <td>NaN</td>\n",
       "      <td>NaN</td>\n",
       "      <td>NaN</td>\n",
       "      <td>NaN</td>\n",
       "    </tr>\n",
       "    <tr>\n",
       "      <th>17978</th>\n",
       "      <td>J. Young</td>\n",
       "      <td>17</td>\n",
       "      <td>https://cdn.sofifa.org/48/18/players/231381.png</td>\n",
       "      <td>Scotland</td>\n",
       "      <td>https://cdn.sofifa.org/flags/42.png</td>\n",
       "      <td>46</td>\n",
       "      <td>61</td>\n",
       "      <td>Swindon Town</td>\n",
       "      <td>https://cdn.sofifa.org/24/18/teams/1934.png</td>\n",
       "      <td>€60K</td>\n",
       "      <td>...</td>\n",
       "      <td>31.0</td>\n",
       "      <td>28.0</td>\n",
       "      <td>38.0</td>\n",
       "      <td>29.0</td>\n",
       "      <td>45.0</td>\n",
       "      <td>42.0</td>\n",
       "      <td>45.0</td>\n",
       "      <td>44.0</td>\n",
       "      <td>32.0</td>\n",
       "      <td>45.0</td>\n",
       "    </tr>\n",
       "    <tr>\n",
       "      <th>17979</th>\n",
       "      <td>J. Lundstram</td>\n",
       "      <td>18</td>\n",
       "      <td>https://cdn.sofifa.org/48/18/players/238813.png</td>\n",
       "      <td>England</td>\n",
       "      <td>https://cdn.sofifa.org/flags/14.png</td>\n",
       "      <td>46</td>\n",
       "      <td>64</td>\n",
       "      <td>Crewe Alexandra</td>\n",
       "      <td>https://cdn.sofifa.org/24/18/teams/121.png</td>\n",
       "      <td>€60K</td>\n",
       "      <td>...</td>\n",
       "      <td>47.0</td>\n",
       "      <td>46.0</td>\n",
       "      <td>45.0</td>\n",
       "      <td>47.0</td>\n",
       "      <td>43.0</td>\n",
       "      <td>45.0</td>\n",
       "      <td>41.0</td>\n",
       "      <td>44.0</td>\n",
       "      <td>46.0</td>\n",
       "      <td>41.0</td>\n",
       "    </tr>\n",
       "    <tr>\n",
       "      <th>17980</th>\n",
       "      <td>L. Sackey</td>\n",
       "      <td>18</td>\n",
       "      <td>https://cdn.sofifa.org/48/18/players/238308.png</td>\n",
       "      <td>Ghana</td>\n",
       "      <td>https://cdn.sofifa.org/flags/117.png</td>\n",
       "      <td>46</td>\n",
       "      <td>64</td>\n",
       "      <td>Scunthorpe United</td>\n",
       "      <td>https://cdn.sofifa.org/24/18/teams/1949.png</td>\n",
       "      <td>€50K</td>\n",
       "      <td>...</td>\n",
       "      <td>40.0</td>\n",
       "      <td>45.0</td>\n",
       "      <td>30.0</td>\n",
       "      <td>38.0</td>\n",
       "      <td>29.0</td>\n",
       "      <td>30.0</td>\n",
       "      <td>31.0</td>\n",
       "      <td>29.0</td>\n",
       "      <td>38.0</td>\n",
       "      <td>31.0</td>\n",
       "    </tr>\n",
       "  </tbody>\n",
       "</table>\n",
       "<p>17981 rows × 74 columns</p>\n",
       "</div>"
      ],
      "text/plain": [
       "                    Name  Age  \\\n",
       "0      Cristiano Ronaldo   32   \n",
       "1               L. Messi   30   \n",
       "2                 Neymar   25   \n",
       "3              L. Suárez   30   \n",
       "4               M. Neuer   31   \n",
       "5         R. Lewandowski   28   \n",
       "6                 De Gea   26   \n",
       "7              E. Hazard   26   \n",
       "8               T. Kroos   27   \n",
       "9             G. Higuaín   29   \n",
       "...                  ...  ...   \n",
       "17971           R. White   18   \n",
       "17972          A. Conway   19   \n",
       "17973          T. Sawyer   18   \n",
       "17974          J. Keeble   18   \n",
       "17975       T. Käßemodel   28   \n",
       "17976          A. Kelsey   17   \n",
       "17977      B. Richardson   47   \n",
       "17978           J. Young   17   \n",
       "17979       J. Lundstram   18   \n",
       "17980          L. Sackey   18   \n",
       "\n",
       "                                                 Photo          Nationality  \\\n",
       "0       https://cdn.sofifa.org/48/18/players/20801.png             Portugal   \n",
       "1      https://cdn.sofifa.org/48/18/players/158023.png            Argentina   \n",
       "2      https://cdn.sofifa.org/48/18/players/190871.png               Brazil   \n",
       "3      https://cdn.sofifa.org/48/18/players/176580.png              Uruguay   \n",
       "4      https://cdn.sofifa.org/48/18/players/167495.png              Germany   \n",
       "5      https://cdn.sofifa.org/48/18/players/188545.png               Poland   \n",
       "6      https://cdn.sofifa.org/48/18/players/193080.png                Spain   \n",
       "7      https://cdn.sofifa.org/48/18/players/183277.png              Belgium   \n",
       "8      https://cdn.sofifa.org/48/18/players/182521.png              Germany   \n",
       "9      https://cdn.sofifa.org/48/18/players/167664.png            Argentina   \n",
       "...                                                ...                  ...   \n",
       "17971  https://cdn.sofifa.org/48/18/players/240325.png              England   \n",
       "17972  https://cdn.sofifa.org/48/18/players/238306.png  Republic of Ireland   \n",
       "17973  https://cdn.sofifa.org/48/18/players/240403.png              England   \n",
       "17974  https://cdn.sofifa.org/48/18/players/240404.png              England   \n",
       "17975  https://cdn.sofifa.org/48/18/players/235352.png              Germany   \n",
       "17976  https://cdn.sofifa.org/48/18/players/237463.png              England   \n",
       "17977   https://cdn.sofifa.org/48/18/players/11728.png              England   \n",
       "17978  https://cdn.sofifa.org/48/18/players/231381.png             Scotland   \n",
       "17979  https://cdn.sofifa.org/48/18/players/238813.png              England   \n",
       "17980  https://cdn.sofifa.org/48/18/players/238308.png                Ghana   \n",
       "\n",
       "                                       Flag  Overall  Potential  \\\n",
       "0       https://cdn.sofifa.org/flags/38.png       94         94   \n",
       "1       https://cdn.sofifa.org/flags/52.png       93         93   \n",
       "2       https://cdn.sofifa.org/flags/54.png       92         94   \n",
       "3       https://cdn.sofifa.org/flags/60.png       92         92   \n",
       "4       https://cdn.sofifa.org/flags/21.png       92         92   \n",
       "5       https://cdn.sofifa.org/flags/37.png       91         91   \n",
       "6       https://cdn.sofifa.org/flags/45.png       90         92   \n",
       "7        https://cdn.sofifa.org/flags/7.png       90         91   \n",
       "8       https://cdn.sofifa.org/flags/21.png       90         90   \n",
       "9       https://cdn.sofifa.org/flags/52.png       90         90   \n",
       "...                                     ...      ...        ...   \n",
       "17971   https://cdn.sofifa.org/flags/14.png       47         65   \n",
       "17972   https://cdn.sofifa.org/flags/25.png       47         63   \n",
       "17973   https://cdn.sofifa.org/flags/14.png       46         58   \n",
       "17974   https://cdn.sofifa.org/flags/14.png       46         56   \n",
       "17975   https://cdn.sofifa.org/flags/21.png       46         46   \n",
       "17976   https://cdn.sofifa.org/flags/14.png       46         63   \n",
       "17977   https://cdn.sofifa.org/flags/14.png       46         46   \n",
       "17978   https://cdn.sofifa.org/flags/42.png       46         61   \n",
       "17979   https://cdn.sofifa.org/flags/14.png       46         64   \n",
       "17980  https://cdn.sofifa.org/flags/117.png       46         64   \n",
       "\n",
       "                      Club                                    Club Logo  \\\n",
       "0           Real Madrid CF   https://cdn.sofifa.org/24/18/teams/243.png   \n",
       "1             FC Barcelona   https://cdn.sofifa.org/24/18/teams/241.png   \n",
       "2      Paris Saint-Germain    https://cdn.sofifa.org/24/18/teams/73.png   \n",
       "3             FC Barcelona   https://cdn.sofifa.org/24/18/teams/241.png   \n",
       "4         FC Bayern Munich    https://cdn.sofifa.org/24/18/teams/21.png   \n",
       "5         FC Bayern Munich    https://cdn.sofifa.org/24/18/teams/21.png   \n",
       "6        Manchester United    https://cdn.sofifa.org/24/18/teams/11.png   \n",
       "7                  Chelsea     https://cdn.sofifa.org/24/18/teams/5.png   \n",
       "8           Real Madrid CF   https://cdn.sofifa.org/24/18/teams/243.png   \n",
       "9                 Juventus    https://cdn.sofifa.org/24/18/teams/45.png   \n",
       "...                    ...                                          ...   \n",
       "17971     Bolton Wanderers     https://cdn.sofifa.org/24/18/teams/4.png   \n",
       "17972        Galway United  https://cdn.sofifa.org/24/18/teams/1571.png   \n",
       "17973         Grimsby Town    https://cdn.sofifa.org/24/18/teams/92.png   \n",
       "17974         Grimsby Town    https://cdn.sofifa.org/24/18/teams/92.png   \n",
       "17975    FC Erzgebirge Aue   https://cdn.sofifa.org/24/18/teams/506.png   \n",
       "17976    Scunthorpe United  https://cdn.sofifa.org/24/18/teams/1949.png   \n",
       "17977    Wycombe Wanderers  https://cdn.sofifa.org/24/18/teams/1933.png   \n",
       "17978         Swindon Town  https://cdn.sofifa.org/24/18/teams/1934.png   \n",
       "17979      Crewe Alexandra   https://cdn.sofifa.org/24/18/teams/121.png   \n",
       "17980    Scunthorpe United  https://cdn.sofifa.org/24/18/teams/1949.png   \n",
       "\n",
       "        Value  ...     RB   RCB   RCM   RDM    RF    RM    RS    RW   RWB  \\\n",
       "0      €95.5M  ...   61.0  53.0  82.0  62.0  91.0  89.0  92.0  91.0  66.0   \n",
       "1       €105M  ...   57.0  45.0  84.0  59.0  92.0  90.0  88.0  91.0  62.0   \n",
       "2       €123M  ...   59.0  46.0  79.0  59.0  88.0  87.0  84.0  89.0  64.0   \n",
       "3        €97M  ...   64.0  58.0  80.0  65.0  88.0  85.0  88.0  87.0  68.0   \n",
       "4        €61M  ...    NaN   NaN   NaN   NaN   NaN   NaN   NaN   NaN   NaN   \n",
       "5        €92M  ...   58.0  57.0  78.0  62.0  87.0  82.0  88.0  84.0  61.0   \n",
       "6      €64.5M  ...    NaN   NaN   NaN   NaN   NaN   NaN   NaN   NaN   NaN   \n",
       "7      €90.5M  ...   59.0  47.0  81.0  61.0  87.0  87.0  82.0  88.0  64.0   \n",
       "8        €79M  ...   76.0  72.0  87.0  82.0  81.0  81.0  77.0  80.0  78.0   \n",
       "9        €77M  ...   51.0  46.0  71.0  52.0  84.0  79.0  87.0  82.0  55.0   \n",
       "...       ...  ...    ...   ...   ...   ...   ...   ...   ...   ...   ...   \n",
       "17971    €60K  ...   33.0  32.0  42.0  33.0  49.0  46.0  52.0  47.0  34.0   \n",
       "17972    €60K  ...   46.0  45.0  41.0  43.0  42.0  44.0  42.0  44.0  46.0   \n",
       "17973    €50K  ...   45.0  42.0  45.0  43.0  46.0  47.0  45.0  47.0  46.0   \n",
       "17974    €40K  ...   46.0  45.0  34.0  41.0  33.0  35.0  33.0  34.0  44.0   \n",
       "17975    €30K  ...   37.0  38.0  45.0  42.0  42.0  42.0  41.0  41.0  38.0   \n",
       "17976    €50K  ...    NaN   NaN   NaN   NaN   NaN   NaN   NaN   NaN   NaN   \n",
       "17977      €0  ...    NaN   NaN   NaN   NaN   NaN   NaN   NaN   NaN   NaN   \n",
       "17978    €60K  ...   31.0  28.0  38.0  29.0  45.0  42.0  45.0  44.0  32.0   \n",
       "17979    €60K  ...   47.0  46.0  45.0  47.0  43.0  45.0  41.0  44.0  46.0   \n",
       "17980    €50K  ...   40.0  45.0  30.0  38.0  29.0  30.0  31.0  29.0  38.0   \n",
       "\n",
       "         ST  \n",
       "0      92.0  \n",
       "1      88.0  \n",
       "2      84.0  \n",
       "3      88.0  \n",
       "4       NaN  \n",
       "5      88.0  \n",
       "6       NaN  \n",
       "7      82.0  \n",
       "8      77.0  \n",
       "9      87.0  \n",
       "...     ...  \n",
       "17971  52.0  \n",
       "17972  42.0  \n",
       "17973  45.0  \n",
       "17974  33.0  \n",
       "17975  41.0  \n",
       "17976   NaN  \n",
       "17977   NaN  \n",
       "17978  45.0  \n",
       "17979  41.0  \n",
       "17980  31.0  \n",
       "\n",
       "[17981 rows x 74 columns]"
      ]
     },
     "execution_count": 2,
     "metadata": {},
     "output_type": "execute_result"
    }
   ],
   "source": [
    "data = pd.read_csv('../data/fifa/CompleteDataset.csv', index_col=0, low_memory=False)\n",
    "data"
   ]
  },
  {
   "cell_type": "markdown",
   "metadata": {},
   "source": [
    "Нека видим какви колони имаме и какви са техните стойности."
   ]
  },
  {
   "cell_type": "code",
   "execution_count": 3,
   "metadata": {
    "scrolled": true
   },
   "outputs": [
    {
     "name": "stdout",
     "output_type": "stream",
     "text": [
      "<class 'pandas.core.frame.DataFrame'>\n",
      "Int64Index: 17981 entries, 0 to 17980\n",
      "Data columns (total 74 columns):\n",
      "Name                   17981 non-null object\n",
      "Age                    17981 non-null int64\n",
      "Photo                  17981 non-null object\n",
      "Nationality            17981 non-null object\n",
      "Flag                   17981 non-null object\n",
      "Overall                17981 non-null int64\n",
      "Potential              17981 non-null int64\n",
      "Club                   17733 non-null object\n",
      "Club Logo              17981 non-null object\n",
      "Value                  17981 non-null object\n",
      "Wage                   17981 non-null object\n",
      "Special                17981 non-null int64\n",
      "Acceleration           17981 non-null object\n",
      "Aggression             17981 non-null object\n",
      "Agility                17981 non-null object\n",
      "Balance                17981 non-null object\n",
      "Ball control           17981 non-null object\n",
      "Composure              17981 non-null object\n",
      "Crossing               17981 non-null object\n",
      "Curve                  17981 non-null object\n",
      "Dribbling              17981 non-null object\n",
      "Finishing              17981 non-null object\n",
      "Free kick accuracy     17981 non-null object\n",
      "GK diving              17981 non-null object\n",
      "GK handling            17981 non-null object\n",
      "GK kicking             17981 non-null object\n",
      "GK positioning         17981 non-null object\n",
      "GK reflexes            17981 non-null object\n",
      "Heading accuracy       17981 non-null object\n",
      "Interceptions          17981 non-null object\n",
      "Jumping                17981 non-null object\n",
      "Long passing           17981 non-null object\n",
      "Long shots             17981 non-null object\n",
      "Marking                17981 non-null object\n",
      "Penalties              17981 non-null object\n",
      "Positioning            17981 non-null object\n",
      "Reactions              17981 non-null object\n",
      "Short passing          17981 non-null object\n",
      "Shot power             17981 non-null object\n",
      "Sliding tackle         17981 non-null object\n",
      "Sprint speed           17981 non-null object\n",
      "Stamina                17981 non-null object\n",
      "Standing tackle        17981 non-null object\n",
      "Strength               17981 non-null object\n",
      "Vision                 17981 non-null object\n",
      "Volleys                17981 non-null object\n",
      "CAM                    15952 non-null float64\n",
      "CB                     15952 non-null float64\n",
      "CDM                    15952 non-null float64\n",
      "CF                     15952 non-null float64\n",
      "CM                     15952 non-null float64\n",
      "ID                     17981 non-null int64\n",
      "LAM                    15952 non-null float64\n",
      "LB                     15952 non-null float64\n",
      "LCB                    15952 non-null float64\n",
      "LCM                    15952 non-null float64\n",
      "LDM                    15952 non-null float64\n",
      "LF                     15952 non-null float64\n",
      "LM                     15952 non-null float64\n",
      "LS                     15952 non-null float64\n",
      "LW                     15952 non-null float64\n",
      "LWB                    15952 non-null float64\n",
      "Preferred Positions    17981 non-null object\n",
      "RAM                    15952 non-null float64\n",
      "RB                     15952 non-null float64\n",
      "RCB                    15952 non-null float64\n",
      "RCM                    15952 non-null float64\n",
      "RDM                    15952 non-null float64\n",
      "RF                     15952 non-null float64\n",
      "RM                     15952 non-null float64\n",
      "RS                     15952 non-null float64\n",
      "RW                     15952 non-null float64\n",
      "RWB                    15952 non-null float64\n",
      "ST                     15952 non-null float64\n",
      "dtypes: float64(26), int64(5), object(43)\n",
      "memory usage: 10.3+ MB\n"
     ]
    }
   ],
   "source": [
    "data.info()"
   ]
  },
  {
   "cell_type": "markdown",
   "metadata": {},
   "source": [
    "Нека проверим за NaN/Null стойности."
   ]
  },
  {
   "cell_type": "code",
   "execution_count": 4,
   "metadata": {},
   "outputs": [
    {
     "data": {
      "text/plain": [
       "Name                   0\n",
       "GK positioning         0\n",
       "GK reflexes            0\n",
       "Heading accuracy       0\n",
       "Interceptions          0\n",
       "Jumping                0\n",
       "Long passing           0\n",
       "Long shots             0\n",
       "Marking                0\n",
       "Penalties              0\n",
       "                    ... \n",
       "LCB                 2029\n",
       "LB                  2029\n",
       "LAM                 2029\n",
       "CM                  2029\n",
       "CDM                 2029\n",
       "CB                  2029\n",
       "CAM                 2029\n",
       "RWB                 2029\n",
       "LS                  2029\n",
       "ST                  2029\n",
       "Length: 74, dtype: int64"
      ]
     },
     "execution_count": 4,
     "metadata": {},
     "output_type": "execute_result"
    }
   ],
   "source": [
    "data.isnull().sum().sort_values()"
   ]
  },
  {
   "cell_type": "markdown",
   "metadata": {},
   "source": [
    "Доста постоянно число на липсващи данни."
   ]
  },
  {
   "cell_type": "code",
   "execution_count": 5,
   "metadata": {},
   "outputs": [
    {
     "data": {
      "text/plain": [
       "0.11284133251765753"
      ]
     },
     "execution_count": 5,
     "metadata": {},
     "output_type": "execute_result"
    }
   ],
   "source": [
    "2029 / data.shape[0]"
   ]
  },
  {
   "cell_type": "markdown",
   "metadata": {},
   "source": [
    "Около 11%. От първото принтиране на данните забелязваме, че записите на индекси 4 и 6 съдържат NaN. Това са [M. Neuer](https://en.wikipedia.org/wiki/Manuel_Neuer) и [de Gea](https://en.wikipedia.org/wiki/David_de_Gea), които са вратари. Дали това не важи за всички вратари?"
   ]
  },
  {
   "cell_type": "code",
   "execution_count": 6,
   "metadata": {},
   "outputs": [
    {
     "data": {
      "text/html": [
       "<div>\n",
       "<style>\n",
       "    .dataframe thead tr:only-child th {\n",
       "        text-align: right;\n",
       "    }\n",
       "\n",
       "    .dataframe thead th {\n",
       "        text-align: left;\n",
       "    }\n",
       "\n",
       "    .dataframe tbody tr th {\n",
       "        vertical-align: top;\n",
       "    }\n",
       "</style>\n",
       "<table border=\"1\" class=\"dataframe\">\n",
       "  <thead>\n",
       "    <tr style=\"text-align: right;\">\n",
       "      <th></th>\n",
       "      <th>Name</th>\n",
       "      <th>Age</th>\n",
       "      <th>Photo</th>\n",
       "      <th>Nationality</th>\n",
       "      <th>Flag</th>\n",
       "      <th>Overall</th>\n",
       "      <th>Potential</th>\n",
       "      <th>Club</th>\n",
       "      <th>Club Logo</th>\n",
       "      <th>Value</th>\n",
       "      <th>...</th>\n",
       "      <th>RB</th>\n",
       "      <th>RCB</th>\n",
       "      <th>RCM</th>\n",
       "      <th>RDM</th>\n",
       "      <th>RF</th>\n",
       "      <th>RM</th>\n",
       "      <th>RS</th>\n",
       "      <th>RW</th>\n",
       "      <th>RWB</th>\n",
       "      <th>ST</th>\n",
       "    </tr>\n",
       "  </thead>\n",
       "  <tbody>\n",
       "    <tr>\n",
       "      <th>4</th>\n",
       "      <td>M. Neuer</td>\n",
       "      <td>31</td>\n",
       "      <td>https://cdn.sofifa.org/48/18/players/167495.png</td>\n",
       "      <td>Germany</td>\n",
       "      <td>https://cdn.sofifa.org/flags/21.png</td>\n",
       "      <td>92</td>\n",
       "      <td>92</td>\n",
       "      <td>FC Bayern Munich</td>\n",
       "      <td>https://cdn.sofifa.org/24/18/teams/21.png</td>\n",
       "      <td>€61M</td>\n",
       "      <td>...</td>\n",
       "      <td>NaN</td>\n",
       "      <td>NaN</td>\n",
       "      <td>NaN</td>\n",
       "      <td>NaN</td>\n",
       "      <td>NaN</td>\n",
       "      <td>NaN</td>\n",
       "      <td>NaN</td>\n",
       "      <td>NaN</td>\n",
       "      <td>NaN</td>\n",
       "      <td>NaN</td>\n",
       "    </tr>\n",
       "    <tr>\n",
       "      <th>6</th>\n",
       "      <td>De Gea</td>\n",
       "      <td>26</td>\n",
       "      <td>https://cdn.sofifa.org/48/18/players/193080.png</td>\n",
       "      <td>Spain</td>\n",
       "      <td>https://cdn.sofifa.org/flags/45.png</td>\n",
       "      <td>90</td>\n",
       "      <td>92</td>\n",
       "      <td>Manchester United</td>\n",
       "      <td>https://cdn.sofifa.org/24/18/teams/11.png</td>\n",
       "      <td>€64.5M</td>\n",
       "      <td>...</td>\n",
       "      <td>NaN</td>\n",
       "      <td>NaN</td>\n",
       "      <td>NaN</td>\n",
       "      <td>NaN</td>\n",
       "      <td>NaN</td>\n",
       "      <td>NaN</td>\n",
       "      <td>NaN</td>\n",
       "      <td>NaN</td>\n",
       "      <td>NaN</td>\n",
       "      <td>NaN</td>\n",
       "    </tr>\n",
       "    <tr>\n",
       "      <th>12</th>\n",
       "      <td>T. Courtois</td>\n",
       "      <td>25</td>\n",
       "      <td>https://cdn.sofifa.org/48/18/players/192119.png</td>\n",
       "      <td>Belgium</td>\n",
       "      <td>https://cdn.sofifa.org/flags/7.png</td>\n",
       "      <td>89</td>\n",
       "      <td>92</td>\n",
       "      <td>Chelsea</td>\n",
       "      <td>https://cdn.sofifa.org/24/18/teams/5.png</td>\n",
       "      <td>€59M</td>\n",
       "      <td>...</td>\n",
       "      <td>NaN</td>\n",
       "      <td>NaN</td>\n",
       "      <td>NaN</td>\n",
       "      <td>NaN</td>\n",
       "      <td>NaN</td>\n",
       "      <td>NaN</td>\n",
       "      <td>NaN</td>\n",
       "      <td>NaN</td>\n",
       "      <td>NaN</td>\n",
       "      <td>NaN</td>\n",
       "    </tr>\n",
       "    <tr>\n",
       "      <th>18</th>\n",
       "      <td>G. Buffon</td>\n",
       "      <td>39</td>\n",
       "      <td>https://cdn.sofifa.org/48/18/players/1179.png</td>\n",
       "      <td>Italy</td>\n",
       "      <td>https://cdn.sofifa.org/flags/27.png</td>\n",
       "      <td>89</td>\n",
       "      <td>89</td>\n",
       "      <td>Juventus</td>\n",
       "      <td>https://cdn.sofifa.org/24/18/teams/45.png</td>\n",
       "      <td>€4.5M</td>\n",
       "      <td>...</td>\n",
       "      <td>NaN</td>\n",
       "      <td>NaN</td>\n",
       "      <td>NaN</td>\n",
       "      <td>NaN</td>\n",
       "      <td>NaN</td>\n",
       "      <td>NaN</td>\n",
       "      <td>NaN</td>\n",
       "      <td>NaN</td>\n",
       "      <td>NaN</td>\n",
       "      <td>NaN</td>\n",
       "    </tr>\n",
       "    <tr>\n",
       "      <th>20</th>\n",
       "      <td>J. Oblak</td>\n",
       "      <td>24</td>\n",
       "      <td>https://cdn.sofifa.org/48/18/players/200389.png</td>\n",
       "      <td>Slovenia</td>\n",
       "      <td>https://cdn.sofifa.org/flags/44.png</td>\n",
       "      <td>88</td>\n",
       "      <td>93</td>\n",
       "      <td>Atlético Madrid</td>\n",
       "      <td>https://cdn.sofifa.org/24/18/teams/240.png</td>\n",
       "      <td>€57M</td>\n",
       "      <td>...</td>\n",
       "      <td>NaN</td>\n",
       "      <td>NaN</td>\n",
       "      <td>NaN</td>\n",
       "      <td>NaN</td>\n",
       "      <td>NaN</td>\n",
       "      <td>NaN</td>\n",
       "      <td>NaN</td>\n",
       "      <td>NaN</td>\n",
       "      <td>NaN</td>\n",
       "      <td>NaN</td>\n",
       "    </tr>\n",
       "    <tr>\n",
       "      <th>29</th>\n",
       "      <td>H. Lloris</td>\n",
       "      <td>30</td>\n",
       "      <td>https://cdn.sofifa.org/48/18/players/167948.png</td>\n",
       "      <td>France</td>\n",
       "      <td>https://cdn.sofifa.org/flags/18.png</td>\n",
       "      <td>88</td>\n",
       "      <td>88</td>\n",
       "      <td>Tottenham Hotspur</td>\n",
       "      <td>https://cdn.sofifa.org/24/18/teams/18.png</td>\n",
       "      <td>€38M</td>\n",
       "      <td>...</td>\n",
       "      <td>NaN</td>\n",
       "      <td>NaN</td>\n",
       "      <td>NaN</td>\n",
       "      <td>NaN</td>\n",
       "      <td>NaN</td>\n",
       "      <td>NaN</td>\n",
       "      <td>NaN</td>\n",
       "      <td>NaN</td>\n",
       "      <td>NaN</td>\n",
       "      <td>NaN</td>\n",
       "    </tr>\n",
       "    <tr>\n",
       "      <th>43</th>\n",
       "      <td>S. Handanovič</td>\n",
       "      <td>32</td>\n",
       "      <td>https://cdn.sofifa.org/48/18/players/162835.png</td>\n",
       "      <td>Slovenia</td>\n",
       "      <td>https://cdn.sofifa.org/flags/44.png</td>\n",
       "      <td>87</td>\n",
       "      <td>87</td>\n",
       "      <td>Inter</td>\n",
       "      <td>https://cdn.sofifa.org/24/18/teams/44.png</td>\n",
       "      <td>€29M</td>\n",
       "      <td>...</td>\n",
       "      <td>NaN</td>\n",
       "      <td>NaN</td>\n",
       "      <td>NaN</td>\n",
       "      <td>NaN</td>\n",
       "      <td>NaN</td>\n",
       "      <td>NaN</td>\n",
       "      <td>NaN</td>\n",
       "      <td>NaN</td>\n",
       "      <td>NaN</td>\n",
       "      <td>NaN</td>\n",
       "    </tr>\n",
       "    <tr>\n",
       "      <th>68</th>\n",
       "      <td>P. Čech</td>\n",
       "      <td>35</td>\n",
       "      <td>https://cdn.sofifa.org/48/18/players/48940.png</td>\n",
       "      <td>Czech Republic</td>\n",
       "      <td>https://cdn.sofifa.org/flags/12.png</td>\n",
       "      <td>86</td>\n",
       "      <td>86</td>\n",
       "      <td>Arsenal</td>\n",
       "      <td>https://cdn.sofifa.org/24/18/teams/1.png</td>\n",
       "      <td>€10.5M</td>\n",
       "      <td>...</td>\n",
       "      <td>NaN</td>\n",
       "      <td>NaN</td>\n",
       "      <td>NaN</td>\n",
       "      <td>NaN</td>\n",
       "      <td>NaN</td>\n",
       "      <td>NaN</td>\n",
       "      <td>NaN</td>\n",
       "      <td>NaN</td>\n",
       "      <td>NaN</td>\n",
       "      <td>NaN</td>\n",
       "    </tr>\n",
       "    <tr>\n",
       "      <th>74</th>\n",
       "      <td>K. Navas</td>\n",
       "      <td>30</td>\n",
       "      <td>https://cdn.sofifa.org/48/18/players/193041.png</td>\n",
       "      <td>Costa Rica</td>\n",
       "      <td>https://cdn.sofifa.org/flags/72.png</td>\n",
       "      <td>85</td>\n",
       "      <td>85</td>\n",
       "      <td>Real Madrid CF</td>\n",
       "      <td>https://cdn.sofifa.org/24/18/teams/243.png</td>\n",
       "      <td>€24.5M</td>\n",
       "      <td>...</td>\n",
       "      <td>NaN</td>\n",
       "      <td>NaN</td>\n",
       "      <td>NaN</td>\n",
       "      <td>NaN</td>\n",
       "      <td>NaN</td>\n",
       "      <td>NaN</td>\n",
       "      <td>NaN</td>\n",
       "      <td>NaN</td>\n",
       "      <td>NaN</td>\n",
       "      <td>NaN</td>\n",
       "    </tr>\n",
       "    <tr>\n",
       "      <th>76</th>\n",
       "      <td>D. Subašić</td>\n",
       "      <td>32</td>\n",
       "      <td>https://cdn.sofifa.org/48/18/players/192593.png</td>\n",
       "      <td>Croatia</td>\n",
       "      <td>https://cdn.sofifa.org/flags/10.png</td>\n",
       "      <td>85</td>\n",
       "      <td>85</td>\n",
       "      <td>AS Monaco</td>\n",
       "      <td>https://cdn.sofifa.org/24/18/teams/69.png</td>\n",
       "      <td>€22M</td>\n",
       "      <td>...</td>\n",
       "      <td>NaN</td>\n",
       "      <td>NaN</td>\n",
       "      <td>NaN</td>\n",
       "      <td>NaN</td>\n",
       "      <td>NaN</td>\n",
       "      <td>NaN</td>\n",
       "      <td>NaN</td>\n",
       "      <td>NaN</td>\n",
       "      <td>NaN</td>\n",
       "      <td>NaN</td>\n",
       "    </tr>\n",
       "    <tr>\n",
       "      <th>...</th>\n",
       "      <td>...</td>\n",
       "      <td>...</td>\n",
       "      <td>...</td>\n",
       "      <td>...</td>\n",
       "      <td>...</td>\n",
       "      <td>...</td>\n",
       "      <td>...</td>\n",
       "      <td>...</td>\n",
       "      <td>...</td>\n",
       "      <td>...</td>\n",
       "      <td>...</td>\n",
       "      <td>...</td>\n",
       "      <td>...</td>\n",
       "      <td>...</td>\n",
       "      <td>...</td>\n",
       "      <td>...</td>\n",
       "      <td>...</td>\n",
       "      <td>...</td>\n",
       "      <td>...</td>\n",
       "      <td>...</td>\n",
       "      <td>...</td>\n",
       "    </tr>\n",
       "    <tr>\n",
       "      <th>17927</th>\n",
       "      <td>D. Mackay</td>\n",
       "      <td>20</td>\n",
       "      <td>https://cdn.sofifa.org/48/18/players/225510.png</td>\n",
       "      <td>Scotland</td>\n",
       "      <td>https://cdn.sofifa.org/flags/42.png</td>\n",
       "      <td>49</td>\n",
       "      <td>59</td>\n",
       "      <td>Kilmarnock</td>\n",
       "      <td>https://cdn.sofifa.org/24/18/teams/82.png</td>\n",
       "      <td>€40K</td>\n",
       "      <td>...</td>\n",
       "      <td>NaN</td>\n",
       "      <td>NaN</td>\n",
       "      <td>NaN</td>\n",
       "      <td>NaN</td>\n",
       "      <td>NaN</td>\n",
       "      <td>NaN</td>\n",
       "      <td>NaN</td>\n",
       "      <td>NaN</td>\n",
       "      <td>NaN</td>\n",
       "      <td>NaN</td>\n",
       "    </tr>\n",
       "    <tr>\n",
       "      <th>17934</th>\n",
       "      <td>K. Horgan</td>\n",
       "      <td>20</td>\n",
       "      <td>https://cdn.sofifa.org/48/18/players/229130.png</td>\n",
       "      <td>Republic of Ireland</td>\n",
       "      <td>https://cdn.sofifa.org/flags/25.png</td>\n",
       "      <td>48</td>\n",
       "      <td>58</td>\n",
       "      <td>Shamrock Rovers</td>\n",
       "      <td>https://cdn.sofifa.org/24/18/teams/306.png</td>\n",
       "      <td>€40K</td>\n",
       "      <td>...</td>\n",
       "      <td>NaN</td>\n",
       "      <td>NaN</td>\n",
       "      <td>NaN</td>\n",
       "      <td>NaN</td>\n",
       "      <td>NaN</td>\n",
       "      <td>NaN</td>\n",
       "      <td>NaN</td>\n",
       "      <td>NaN</td>\n",
       "      <td>NaN</td>\n",
       "      <td>NaN</td>\n",
       "    </tr>\n",
       "    <tr>\n",
       "      <th>17937</th>\n",
       "      <td>V. Soromytko</td>\n",
       "      <td>22</td>\n",
       "      <td>https://cdn.sofifa.org/48/18/players/239933.png</td>\n",
       "      <td>Russia</td>\n",
       "      <td>https://cdn.sofifa.org/flags/40.png</td>\n",
       "      <td>48</td>\n",
       "      <td>57</td>\n",
       "      <td>FC SKA-Energiya Khabarovsk</td>\n",
       "      <td>https://cdn.sofifa.org/24/18/teams/110101.png</td>\n",
       "      <td>€30K</td>\n",
       "      <td>...</td>\n",
       "      <td>NaN</td>\n",
       "      <td>NaN</td>\n",
       "      <td>NaN</td>\n",
       "      <td>NaN</td>\n",
       "      <td>NaN</td>\n",
       "      <td>NaN</td>\n",
       "      <td>NaN</td>\n",
       "      <td>NaN</td>\n",
       "      <td>NaN</td>\n",
       "      <td>NaN</td>\n",
       "    </tr>\n",
       "    <tr>\n",
       "      <th>17940</th>\n",
       "      <td>A. Corasaniti</td>\n",
       "      <td>18</td>\n",
       "      <td>https://cdn.sofifa.org/48/18/players/235862.png</td>\n",
       "      <td>Italy</td>\n",
       "      <td>https://cdn.sofifa.org/flags/27.png</td>\n",
       "      <td>48</td>\n",
       "      <td>63</td>\n",
       "      <td>Cittadella</td>\n",
       "      <td>https://cdn.sofifa.org/24/18/teams/111993.png</td>\n",
       "      <td>€50K</td>\n",
       "      <td>...</td>\n",
       "      <td>NaN</td>\n",
       "      <td>NaN</td>\n",
       "      <td>NaN</td>\n",
       "      <td>NaN</td>\n",
       "      <td>NaN</td>\n",
       "      <td>NaN</td>\n",
       "      <td>NaN</td>\n",
       "      <td>NaN</td>\n",
       "      <td>NaN</td>\n",
       "      <td>NaN</td>\n",
       "    </tr>\n",
       "    <tr>\n",
       "      <th>17943</th>\n",
       "      <td>M. Cerofolini</td>\n",
       "      <td>18</td>\n",
       "      <td>https://cdn.sofifa.org/48/18/players/240785.png</td>\n",
       "      <td>Italy</td>\n",
       "      <td>https://cdn.sofifa.org/flags/27.png</td>\n",
       "      <td>48</td>\n",
       "      <td>67</td>\n",
       "      <td>Fiorentina</td>\n",
       "      <td>https://cdn.sofifa.org/24/18/teams/110374.png</td>\n",
       "      <td>€50K</td>\n",
       "      <td>...</td>\n",
       "      <td>NaN</td>\n",
       "      <td>NaN</td>\n",
       "      <td>NaN</td>\n",
       "      <td>NaN</td>\n",
       "      <td>NaN</td>\n",
       "      <td>NaN</td>\n",
       "      <td>NaN</td>\n",
       "      <td>NaN</td>\n",
       "      <td>NaN</td>\n",
       "      <td>NaN</td>\n",
       "    </tr>\n",
       "    <tr>\n",
       "      <th>17945</th>\n",
       "      <td>A. Dillon</td>\n",
       "      <td>20</td>\n",
       "      <td>https://cdn.sofifa.org/48/18/players/233646.png</td>\n",
       "      <td>Republic of Ireland</td>\n",
       "      <td>https://cdn.sofifa.org/flags/25.png</td>\n",
       "      <td>48</td>\n",
       "      <td>61</td>\n",
       "      <td>Blackburn Rovers</td>\n",
       "      <td>https://cdn.sofifa.org/24/18/teams/3.png</td>\n",
       "      <td>€50K</td>\n",
       "      <td>...</td>\n",
       "      <td>NaN</td>\n",
       "      <td>NaN</td>\n",
       "      <td>NaN</td>\n",
       "      <td>NaN</td>\n",
       "      <td>NaN</td>\n",
       "      <td>NaN</td>\n",
       "      <td>NaN</td>\n",
       "      <td>NaN</td>\n",
       "      <td>NaN</td>\n",
       "      <td>NaN</td>\n",
       "    </tr>\n",
       "    <tr>\n",
       "      <th>17949</th>\n",
       "      <td>M. McElhinney</td>\n",
       "      <td>19</td>\n",
       "      <td>https://cdn.sofifa.org/48/18/players/233432.png</td>\n",
       "      <td>Republic of Ireland</td>\n",
       "      <td>https://cdn.sofifa.org/flags/25.png</td>\n",
       "      <td>48</td>\n",
       "      <td>60</td>\n",
       "      <td>Derry City</td>\n",
       "      <td>https://cdn.sofifa.org/24/18/teams/445.png</td>\n",
       "      <td>€40K</td>\n",
       "      <td>...</td>\n",
       "      <td>NaN</td>\n",
       "      <td>NaN</td>\n",
       "      <td>NaN</td>\n",
       "      <td>NaN</td>\n",
       "      <td>NaN</td>\n",
       "      <td>NaN</td>\n",
       "      <td>NaN</td>\n",
       "      <td>NaN</td>\n",
       "      <td>NaN</td>\n",
       "      <td>NaN</td>\n",
       "    </tr>\n",
       "    <tr>\n",
       "      <th>17951</th>\n",
       "      <td>M. Hurst</td>\n",
       "      <td>21</td>\n",
       "      <td>https://cdn.sofifa.org/48/18/players/221669.png</td>\n",
       "      <td>Scotland</td>\n",
       "      <td>https://cdn.sofifa.org/flags/42.png</td>\n",
       "      <td>48</td>\n",
       "      <td>58</td>\n",
       "      <td>St. Johnstone FC</td>\n",
       "      <td>https://cdn.sofifa.org/24/18/teams/100804.png</td>\n",
       "      <td>€40K</td>\n",
       "      <td>...</td>\n",
       "      <td>NaN</td>\n",
       "      <td>NaN</td>\n",
       "      <td>NaN</td>\n",
       "      <td>NaN</td>\n",
       "      <td>NaN</td>\n",
       "      <td>NaN</td>\n",
       "      <td>NaN</td>\n",
       "      <td>NaN</td>\n",
       "      <td>NaN</td>\n",
       "      <td>NaN</td>\n",
       "    </tr>\n",
       "    <tr>\n",
       "      <th>17976</th>\n",
       "      <td>A. Kelsey</td>\n",
       "      <td>17</td>\n",
       "      <td>https://cdn.sofifa.org/48/18/players/237463.png</td>\n",
       "      <td>England</td>\n",
       "      <td>https://cdn.sofifa.org/flags/14.png</td>\n",
       "      <td>46</td>\n",
       "      <td>63</td>\n",
       "      <td>Scunthorpe United</td>\n",
       "      <td>https://cdn.sofifa.org/24/18/teams/1949.png</td>\n",
       "      <td>€50K</td>\n",
       "      <td>...</td>\n",
       "      <td>NaN</td>\n",
       "      <td>NaN</td>\n",
       "      <td>NaN</td>\n",
       "      <td>NaN</td>\n",
       "      <td>NaN</td>\n",
       "      <td>NaN</td>\n",
       "      <td>NaN</td>\n",
       "      <td>NaN</td>\n",
       "      <td>NaN</td>\n",
       "      <td>NaN</td>\n",
       "    </tr>\n",
       "    <tr>\n",
       "      <th>17977</th>\n",
       "      <td>B. Richardson</td>\n",
       "      <td>47</td>\n",
       "      <td>https://cdn.sofifa.org/48/18/players/11728.png</td>\n",
       "      <td>England</td>\n",
       "      <td>https://cdn.sofifa.org/flags/14.png</td>\n",
       "      <td>46</td>\n",
       "      <td>46</td>\n",
       "      <td>Wycombe Wanderers</td>\n",
       "      <td>https://cdn.sofifa.org/24/18/teams/1933.png</td>\n",
       "      <td>€0</td>\n",
       "      <td>...</td>\n",
       "      <td>NaN</td>\n",
       "      <td>NaN</td>\n",
       "      <td>NaN</td>\n",
       "      <td>NaN</td>\n",
       "      <td>NaN</td>\n",
       "      <td>NaN</td>\n",
       "      <td>NaN</td>\n",
       "      <td>NaN</td>\n",
       "      <td>NaN</td>\n",
       "      <td>NaN</td>\n",
       "    </tr>\n",
       "  </tbody>\n",
       "</table>\n",
       "<p>2029 rows × 74 columns</p>\n",
       "</div>"
      ],
      "text/plain": [
       "                Name  Age                                            Photo  \\\n",
       "4           M. Neuer   31  https://cdn.sofifa.org/48/18/players/167495.png   \n",
       "6             De Gea   26  https://cdn.sofifa.org/48/18/players/193080.png   \n",
       "12       T. Courtois   25  https://cdn.sofifa.org/48/18/players/192119.png   \n",
       "18         G. Buffon   39    https://cdn.sofifa.org/48/18/players/1179.png   \n",
       "20          J. Oblak   24  https://cdn.sofifa.org/48/18/players/200389.png   \n",
       "29         H. Lloris   30  https://cdn.sofifa.org/48/18/players/167948.png   \n",
       "43     S. Handanovič   32  https://cdn.sofifa.org/48/18/players/162835.png   \n",
       "68           P. Čech   35   https://cdn.sofifa.org/48/18/players/48940.png   \n",
       "74          K. Navas   30  https://cdn.sofifa.org/48/18/players/193041.png   \n",
       "76        D. Subašić   32  https://cdn.sofifa.org/48/18/players/192593.png   \n",
       "...              ...  ...                                              ...   \n",
       "17927      D. Mackay   20  https://cdn.sofifa.org/48/18/players/225510.png   \n",
       "17934      K. Horgan   20  https://cdn.sofifa.org/48/18/players/229130.png   \n",
       "17937   V. Soromytko   22  https://cdn.sofifa.org/48/18/players/239933.png   \n",
       "17940  A. Corasaniti   18  https://cdn.sofifa.org/48/18/players/235862.png   \n",
       "17943  M. Cerofolini   18  https://cdn.sofifa.org/48/18/players/240785.png   \n",
       "17945      A. Dillon   20  https://cdn.sofifa.org/48/18/players/233646.png   \n",
       "17949  M. McElhinney   19  https://cdn.sofifa.org/48/18/players/233432.png   \n",
       "17951       M. Hurst   21  https://cdn.sofifa.org/48/18/players/221669.png   \n",
       "17976      A. Kelsey   17  https://cdn.sofifa.org/48/18/players/237463.png   \n",
       "17977  B. Richardson   47   https://cdn.sofifa.org/48/18/players/11728.png   \n",
       "\n",
       "               Nationality                                 Flag  Overall  \\\n",
       "4                  Germany  https://cdn.sofifa.org/flags/21.png       92   \n",
       "6                    Spain  https://cdn.sofifa.org/flags/45.png       90   \n",
       "12                 Belgium   https://cdn.sofifa.org/flags/7.png       89   \n",
       "18                   Italy  https://cdn.sofifa.org/flags/27.png       89   \n",
       "20                Slovenia  https://cdn.sofifa.org/flags/44.png       88   \n",
       "29                  France  https://cdn.sofifa.org/flags/18.png       88   \n",
       "43                Slovenia  https://cdn.sofifa.org/flags/44.png       87   \n",
       "68          Czech Republic  https://cdn.sofifa.org/flags/12.png       86   \n",
       "74              Costa Rica  https://cdn.sofifa.org/flags/72.png       85   \n",
       "76                 Croatia  https://cdn.sofifa.org/flags/10.png       85   \n",
       "...                    ...                                  ...      ...   \n",
       "17927             Scotland  https://cdn.sofifa.org/flags/42.png       49   \n",
       "17934  Republic of Ireland  https://cdn.sofifa.org/flags/25.png       48   \n",
       "17937               Russia  https://cdn.sofifa.org/flags/40.png       48   \n",
       "17940                Italy  https://cdn.sofifa.org/flags/27.png       48   \n",
       "17943                Italy  https://cdn.sofifa.org/flags/27.png       48   \n",
       "17945  Republic of Ireland  https://cdn.sofifa.org/flags/25.png       48   \n",
       "17949  Republic of Ireland  https://cdn.sofifa.org/flags/25.png       48   \n",
       "17951             Scotland  https://cdn.sofifa.org/flags/42.png       48   \n",
       "17976              England  https://cdn.sofifa.org/flags/14.png       46   \n",
       "17977              England  https://cdn.sofifa.org/flags/14.png       46   \n",
       "\n",
       "       Potential                        Club  \\\n",
       "4             92            FC Bayern Munich   \n",
       "6             92           Manchester United   \n",
       "12            92                     Chelsea   \n",
       "18            89                    Juventus   \n",
       "20            93             Atlético Madrid   \n",
       "29            88           Tottenham Hotspur   \n",
       "43            87                       Inter   \n",
       "68            86                     Arsenal   \n",
       "74            85              Real Madrid CF   \n",
       "76            85                   AS Monaco   \n",
       "...          ...                         ...   \n",
       "17927         59                  Kilmarnock   \n",
       "17934         58             Shamrock Rovers   \n",
       "17937         57  FC SKA-Energiya Khabarovsk   \n",
       "17940         63                  Cittadella   \n",
       "17943         67                  Fiorentina   \n",
       "17945         61            Blackburn Rovers   \n",
       "17949         60                  Derry City   \n",
       "17951         58            St. Johnstone FC   \n",
       "17976         63           Scunthorpe United   \n",
       "17977         46           Wycombe Wanderers   \n",
       "\n",
       "                                           Club Logo   Value ...  RB  RCB RCM  \\\n",
       "4          https://cdn.sofifa.org/24/18/teams/21.png    €61M ... NaN  NaN NaN   \n",
       "6          https://cdn.sofifa.org/24/18/teams/11.png  €64.5M ... NaN  NaN NaN   \n",
       "12          https://cdn.sofifa.org/24/18/teams/5.png    €59M ... NaN  NaN NaN   \n",
       "18         https://cdn.sofifa.org/24/18/teams/45.png   €4.5M ... NaN  NaN NaN   \n",
       "20        https://cdn.sofifa.org/24/18/teams/240.png    €57M ... NaN  NaN NaN   \n",
       "29         https://cdn.sofifa.org/24/18/teams/18.png    €38M ... NaN  NaN NaN   \n",
       "43         https://cdn.sofifa.org/24/18/teams/44.png    €29M ... NaN  NaN NaN   \n",
       "68          https://cdn.sofifa.org/24/18/teams/1.png  €10.5M ... NaN  NaN NaN   \n",
       "74        https://cdn.sofifa.org/24/18/teams/243.png  €24.5M ... NaN  NaN NaN   \n",
       "76         https://cdn.sofifa.org/24/18/teams/69.png    €22M ... NaN  NaN NaN   \n",
       "...                                              ...     ... ...  ..  ...  ..   \n",
       "17927      https://cdn.sofifa.org/24/18/teams/82.png    €40K ... NaN  NaN NaN   \n",
       "17934     https://cdn.sofifa.org/24/18/teams/306.png    €40K ... NaN  NaN NaN   \n",
       "17937  https://cdn.sofifa.org/24/18/teams/110101.png    €30K ... NaN  NaN NaN   \n",
       "17940  https://cdn.sofifa.org/24/18/teams/111993.png    €50K ... NaN  NaN NaN   \n",
       "17943  https://cdn.sofifa.org/24/18/teams/110374.png    €50K ... NaN  NaN NaN   \n",
       "17945       https://cdn.sofifa.org/24/18/teams/3.png    €50K ... NaN  NaN NaN   \n",
       "17949     https://cdn.sofifa.org/24/18/teams/445.png    €40K ... NaN  NaN NaN   \n",
       "17951  https://cdn.sofifa.org/24/18/teams/100804.png    €40K ... NaN  NaN NaN   \n",
       "17976    https://cdn.sofifa.org/24/18/teams/1949.png    €50K ... NaN  NaN NaN   \n",
       "17977    https://cdn.sofifa.org/24/18/teams/1933.png      €0 ... NaN  NaN NaN   \n",
       "\n",
       "      RDM  RF  RM  RS  RW RWB  ST  \n",
       "4     NaN NaN NaN NaN NaN NaN NaN  \n",
       "6     NaN NaN NaN NaN NaN NaN NaN  \n",
       "12    NaN NaN NaN NaN NaN NaN NaN  \n",
       "18    NaN NaN NaN NaN NaN NaN NaN  \n",
       "20    NaN NaN NaN NaN NaN NaN NaN  \n",
       "29    NaN NaN NaN NaN NaN NaN NaN  \n",
       "43    NaN NaN NaN NaN NaN NaN NaN  \n",
       "68    NaN NaN NaN NaN NaN NaN NaN  \n",
       "74    NaN NaN NaN NaN NaN NaN NaN  \n",
       "76    NaN NaN NaN NaN NaN NaN NaN  \n",
       "...    ..  ..  ..  ..  ..  ..  ..  \n",
       "17927 NaN NaN NaN NaN NaN NaN NaN  \n",
       "17934 NaN NaN NaN NaN NaN NaN NaN  \n",
       "17937 NaN NaN NaN NaN NaN NaN NaN  \n",
       "17940 NaN NaN NaN NaN NaN NaN NaN  \n",
       "17943 NaN NaN NaN NaN NaN NaN NaN  \n",
       "17945 NaN NaN NaN NaN NaN NaN NaN  \n",
       "17949 NaN NaN NaN NaN NaN NaN NaN  \n",
       "17951 NaN NaN NaN NaN NaN NaN NaN  \n",
       "17976 NaN NaN NaN NaN NaN NaN NaN  \n",
       "17977 NaN NaN NaN NaN NaN NaN NaN  \n",
       "\n",
       "[2029 rows x 74 columns]"
      ]
     },
     "execution_count": 6,
     "metadata": {},
     "output_type": "execute_result"
    }
   ],
   "source": [
    "data.loc[data['Preferred Positions'] == 'GK ']"
   ]
  },
  {
   "cell_type": "markdown",
   "metadata": {},
   "source": [
    "Точно 2029. Явно всички вратари нямат рейтинг за различните позиции. Доста трудно бихме попълнили тези колони. Нека се ограничим до използването на качесвените характеривики за всеки футболист.\n",
    "\n",
    "Това са следните колони от Acceleration до Volleys.\n",
    "\n",
    "Нека си ги запишем в някаква променлива."
   ]
  },
  {
   "cell_type": "code",
   "execution_count": 7,
   "metadata": {},
   "outputs": [
    {
     "data": {
      "text/plain": [
       "Index(['Name', 'Age', 'Photo', 'Nationality', 'Flag', 'Overall', 'Potential',\n",
       "       'Club', 'Club Logo', 'Value', 'Wage', 'Special', 'Acceleration',\n",
       "       'Aggression', 'Agility', 'Balance', 'Ball control', 'Composure',\n",
       "       'Crossing', 'Curve', 'Dribbling', 'Finishing', 'Free kick accuracy',\n",
       "       'GK diving', 'GK handling', 'GK kicking', 'GK positioning',\n",
       "       'GK reflexes', 'Heading accuracy', 'Interceptions', 'Jumping',\n",
       "       'Long passing', 'Long shots', 'Marking', 'Penalties', 'Positioning',\n",
       "       'Reactions', 'Short passing', 'Shot power', 'Sliding tackle',\n",
       "       'Sprint speed', 'Stamina', 'Standing tackle', 'Strength', 'Vision',\n",
       "       'Volleys', 'CAM', 'CB', 'CDM', 'CF', 'CM', 'ID', 'LAM', 'LB', 'LCB',\n",
       "       'LCM', 'LDM', 'LF', 'LM', 'LS', 'LW', 'LWB', 'Preferred Positions',\n",
       "       'RAM', 'RB', 'RCB', 'RCM', 'RDM', 'RF', 'RM', 'RS', 'RW', 'RWB', 'ST'],\n",
       "      dtype='object')"
      ]
     },
     "execution_count": 7,
     "metadata": {},
     "output_type": "execute_result"
    }
   ],
   "source": [
    "data.columns"
   ]
  },
  {
   "cell_type": "code",
   "execution_count": 8,
   "metadata": {},
   "outputs": [],
   "source": [
    "attributes = ['Acceleration', 'Aggression', 'Agility', 'Balance',  'Ball control', 'Composure', \n",
    "             'Crossing', 'Curve', 'Dribbling', 'Finishing', 'Free kick accuracy', 'GK diving', \n",
    "             'GK handling', 'GK kicking', 'GK positioning', 'GK reflexes', 'Heading accuracy', \n",
    "             'Interceptions', 'Jumping', 'Long passing', 'Long shots', 'Marking', 'Penalties', \n",
    "             'Positioning', 'Reactions', 'Short passing', 'Shot power', 'Sliding tackle',\n",
    "             'Sprint speed', 'Stamina', 'Standing tackle', 'Strength', 'Vision', 'Volleys']"
   ]
  },
  {
   "cell_type": "markdown",
   "metadata": {},
   "source": [
    "Целта ни е на база на тези качества за всеки футболист да предвидим неговия рейтинг (Overall). Нека видим разпределението на Overall."
   ]
  },
  {
   "cell_type": "code",
   "execution_count": 9,
   "metadata": {},
   "outputs": [
    {
     "data": {
      "text/plain": [
       "<matplotlib.axes._subplots.AxesSubplot at 0x7fb40228d5c0>"
      ]
     },
     "execution_count": 9,
     "metadata": {},
     "output_type": "execute_result"
    },
    {
     "data": {
      "image/png": "[encoded data removed]",
      "text/plain": [
       "<matplotlib.figure.Figure at 0x7fb4022946a0>"
      ]
     },
     "metadata": {},
     "output_type": "display_data"
    }
   ],
   "source": [
    "sns.distplot(data['Overall'])"
   ]
  },
  {
   "cell_type": "markdown",
   "metadata": {},
   "source": [
    "Изглежда доста равномерно разпределено. Да видим атрибутите."
   ]
  },
  {
   "cell_type": "code",
   "execution_count": 10,
   "metadata": {},
   "outputs": [
    {
     "name": "stdout",
     "output_type": "stream",
     "text": [
      "<class 'pandas.core.frame.DataFrame'>\n",
      "Int64Index: 17981 entries, 0 to 17980\n",
      "Data columns (total 34 columns):\n",
      "Acceleration          17981 non-null object\n",
      "Aggression            17981 non-null object\n",
      "Agility               17981 non-null object\n",
      "Balance               17981 non-null object\n",
      "Ball control          17981 non-null object\n",
      "Composure             17981 non-null object\n",
      "Crossing              17981 non-null object\n",
      "Curve                 17981 non-null object\n",
      "Dribbling             17981 non-null object\n",
      "Finishing             17981 non-null object\n",
      "Free kick accuracy    17981 non-null object\n",
      "GK diving             17981 non-null object\n",
      "GK handling           17981 non-null object\n",
      "GK kicking            17981 non-null object\n",
      "GK positioning        17981 non-null object\n",
      "GK reflexes           17981 non-null object\n",
      "Heading accuracy      17981 non-null object\n",
      "Interceptions         17981 non-null object\n",
      "Jumping               17981 non-null object\n",
      "Long passing          17981 non-null object\n",
      "Long shots            17981 non-null object\n",
      "Marking               17981 non-null object\n",
      "Penalties             17981 non-null object\n",
      "Positioning           17981 non-null object\n",
      "Reactions             17981 non-null object\n",
      "Short passing         17981 non-null object\n",
      "Shot power            17981 non-null object\n",
      "Sliding tackle        17981 non-null object\n",
      "Sprint speed          17981 non-null object\n",
      "Stamina               17981 non-null object\n",
      "Standing tackle       17981 non-null object\n",
      "Strength              17981 non-null object\n",
      "Vision                17981 non-null object\n",
      "Volleys               17981 non-null object\n",
      "dtypes: object(34)\n",
      "memory usage: 4.8+ MB\n"
     ]
    }
   ],
   "source": [
    "data[attributes].info()"
   ]
  },
  {
   "cell_type": "markdown",
   "metadata": {},
   "source": [
    "Очаквахме числови стойности, а колоните са от тип object.\n",
    "Нека видим какви стойности се съдържат в произволна колона."
   ]
  },
  {
   "cell_type": "code",
   "execution_count": 11,
   "metadata": {},
   "outputs": [
    {
     "data": {
      "text/plain": [
       "array(['95', '68', '61', '69', '78', '84', '67', '59', '32', '79', '93',\n",
       "       '65', '85', '80', '89', '75', '76', '87', '77', '52', '74', '64',\n",
       "       '57', '82', '88', '71', '44', '66', '70', '54', '81', '72', '83',\n",
       "       '60', '34', '51', '53', '73', '62', '63', '92', '86', '46', '48',\n",
       "       '94', '56', '90', '38', '58', '49', '55', '30', '39', '50', '40',\n",
       "       '41', '42', '43', '74+1', '33', '45', '36', '91', '35', '76-4',\n",
       "       '37', '47', '67+2', '65+2', '73-8', '31', '59+1', '77-4', '78+1',\n",
       "       '86+1', '59+2', '80-2', '68+1', '76+4', '26', '68-1', '81+2',\n",
       "       '76-5', '72+4', '63+2', '67-2', '75-6', '29', '73-3', '70+14', '27',\n",
       "       '70-3', '66-1', '64+4', '25', '28', '82+6', '75-4', '74+4', '73-4',\n",
       "       '78-2', '72-1', '68+7', '60+1', '77-2', '79+2', '64+2', '67+8',\n",
       "       '74+7', '65+1', '68+6', '64-4', '59-1', '76-3', '66-3', '69+7',\n",
       "       '63+1', '77+2', '57+4', '62+1', '70-2', '71+2', '67+16', '71+9',\n",
       "       '87+2', '66+2', '76-2', '13', '46+2', '70+1', '68+2', '15', '39-2',\n",
       "       '60+3', '73+5', '66+5', '16', '63+7', '52-2', '60-2'], dtype=object)"
      ]
     },
     "execution_count": 11,
     "metadata": {},
     "output_type": "execute_result"
    }
   ],
   "source": [
    "data['Jumping'].unique()"
   ]
  },
  {
   "cell_type": "markdown",
   "metadata": {},
   "source": [
    "Явно някой не си е сметнал стойностите.\n",
    "Нека преобразуваме колоните до числов тип. Но преди това проверка за NaN/Null."
   ]
  },
  {
   "cell_type": "code",
   "execution_count": 12,
   "metadata": {},
   "outputs": [
    {
     "data": {
      "text/plain": [
       "Acceleration          0\n",
       "Strength              0\n",
       "Standing tackle       0\n",
       "Stamina               0\n",
       "Sprint speed          0\n",
       "Sliding tackle        0\n",
       "Shot power            0\n",
       "Short passing         0\n",
       "Reactions             0\n",
       "Positioning           0\n",
       "                     ..\n",
       "Vision                0\n",
       "Curve                 0\n",
       "Finishing             0\n",
       "Free kick accuracy    0\n",
       "GK diving             0\n",
       "GK handling           0\n",
       "GK kicking            0\n",
       "GK positioning        0\n",
       "Dribbling             0\n",
       "Volleys               0\n",
       "Length: 34, dtype: int64"
      ]
     },
     "execution_count": 12,
     "metadata": {},
     "output_type": "execute_result"
    }
   ],
   "source": [
    "player_attributes_df = data[attributes]\n",
    "\n",
    "player_attributes_df.isnull().sum().sort_values()"
   ]
  },
  {
   "cell_type": "code",
   "execution_count": 13,
   "metadata": {},
   "outputs": [],
   "source": [
    "for attribute in player_attributes_df.columns:\n",
    "    player_attributes_df[attribute] = player_attributes_df[attribute].apply(lambda x: eval(str(x)))"
   ]
  },
  {
   "cell_type": "markdown",
   "metadata": {},
   "source": [
    "Нека проверим дали колоните вече съдържат числови стойности."
   ]
  },
  {
   "cell_type": "code",
   "execution_count": 14,
   "metadata": {},
   "outputs": [
    {
     "name": "stdout",
     "output_type": "stream",
     "text": [
      "<class 'pandas.core.frame.DataFrame'>\n",
      "Int64Index: 17981 entries, 0 to 17980\n",
      "Data columns (total 34 columns):\n",
      "Acceleration          17981 non-null int64\n",
      "Aggression            17981 non-null int64\n",
      "Agility               17981 non-null int64\n",
      "Balance               17981 non-null int64\n",
      "Ball control          17981 non-null int64\n",
      "Composure             17981 non-null int64\n",
      "Crossing              17981 non-null int64\n",
      "Curve                 17981 non-null int64\n",
      "Dribbling             17981 non-null int64\n",
      "Finishing             17981 non-null int64\n",
      "Free kick accuracy    17981 non-null int64\n",
      "GK diving             17981 non-null int64\n",
      "GK handling           17981 non-null int64\n",
      "GK kicking            17981 non-null int64\n",
      "GK positioning        17981 non-null int64\n",
      "GK reflexes           17981 non-null int64\n",
      "Heading accuracy      17981 non-null int64\n",
      "Interceptions         17981 non-null int64\n",
      "Jumping               17981 non-null int64\n",
      "Long passing          17981 non-null int64\n",
      "Long shots            17981 non-null int64\n",
      "Marking               17981 non-null int64\n",
      "Penalties             17981 non-null int64\n",
      "Positioning           17981 non-null int64\n",
      "Reactions             17981 non-null int64\n",
      "Short passing         17981 non-null int64\n",
      "Shot power            17981 non-null int64\n",
      "Sliding tackle        17981 non-null int64\n",
      "Sprint speed          17981 non-null int64\n",
      "Stamina               17981 non-null int64\n",
      "Standing tackle       17981 non-null int64\n",
      "Strength              17981 non-null int64\n",
      "Vision                17981 non-null int64\n",
      "Volleys               17981 non-null int64\n",
      "dtypes: int64(34)\n",
      "memory usage: 4.8 MB\n"
     ]
    }
   ],
   "source": [
    "player_attributes_df.info()"
   ]
  },
  {
   "cell_type": "markdown",
   "metadata": {},
   "source": [
    "Изглежда наред. Да проверим за NaN/Null стойности."
   ]
  },
  {
   "cell_type": "code",
   "execution_count": 15,
   "metadata": {},
   "outputs": [
    {
     "data": {
      "text/plain": [
       "Acceleration          0\n",
       "Strength              0\n",
       "Standing tackle       0\n",
       "Stamina               0\n",
       "Sprint speed          0\n",
       "Sliding tackle        0\n",
       "Shot power            0\n",
       "Short passing         0\n",
       "Reactions             0\n",
       "Positioning           0\n",
       "                     ..\n",
       "Vision                0\n",
       "Curve                 0\n",
       "Finishing             0\n",
       "Free kick accuracy    0\n",
       "GK diving             0\n",
       "GK handling           0\n",
       "GK kicking            0\n",
       "GK positioning        0\n",
       "Dribbling             0\n",
       "Volleys               0\n",
       "Length: 34, dtype: int64"
      ]
     },
     "execution_count": 15,
     "metadata": {},
     "output_type": "execute_result"
    }
   ],
   "source": [
    "player_attributes_df.isnull().sum().sort_values()"
   ]
  },
  {
   "cell_type": "markdown",
   "metadata": {},
   "source": [
    "Да добавим колона за рейтинг и да пробваме линейна регресия."
   ]
  },
  {
   "cell_type": "code",
   "execution_count": 16,
   "metadata": {},
   "outputs": [],
   "source": [
    "player_attributes_df['Overall'] = data.Overall"
   ]
  },
  {
   "cell_type": "code",
   "execution_count": 17,
   "metadata": {},
   "outputs": [],
   "source": [
    "def data_and_target(df):\n",
    "    X = df\n",
    "    X = X.drop('Overall',1)\n",
    "    y = df['Overall']\n",
    "    \n",
    "    print('X shape: {}, y shape {}'.format(X.shape, y.shape))\n",
    "    \n",
    "    return (X, y)"
   ]
  },
  {
   "cell_type": "code",
   "execution_count": 18,
   "metadata": {},
   "outputs": [
    {
     "name": "stdout",
     "output_type": "stream",
     "text": [
      "X shape: (17981, 34), y shape (17981,)\n"
     ]
    }
   ],
   "source": [
    "(X, y) = data_and_target(player_attributes_df)"
   ]
  },
  {
   "cell_type": "code",
   "execution_count": 19,
   "metadata": {},
   "outputs": [
    {
     "data": {
      "text/plain": [
       "(66.277864293659619, 66.158362989323848)"
      ]
     },
     "execution_count": 19,
     "metadata": {},
     "output_type": "execute_result"
    }
   ],
   "source": [
    "X_train, X_test, y_train, y_test = train_test_split(X, y, random_state=12345)\n",
    "\n",
    "y_train.mean(), y_test.mean()"
   ]
  },
  {
   "cell_type": "code",
   "execution_count": 20,
   "metadata": {},
   "outputs": [
    {
     "name": "stdout",
     "output_type": "stream",
     "text": [
      "train score: 0.849517258483\n",
      "test score:  0.841435633303\n"
     ]
    }
   ],
   "source": [
    "model = LinearRegression().fit(X_train, y_train)\n",
    "print(\"train score:\", model.score(X_train, y_train))\n",
    "print(\"test score: \", model.score(X_test, y_test))"
   ]
  },
  {
   "cell_type": "markdown",
   "metadata": {},
   "source": [
    "Доста добре. Всеки футболист обаче играе на определена позиция. Нека разгледаме колоната preferred position."
   ]
  },
  {
   "cell_type": "code",
   "execution_count": 21,
   "metadata": {},
   "outputs": [
    {
     "data": {
      "text/plain": [
       "array(['ST LW ', 'RW ', 'LW ', 'ST ', 'GK ', 'CDM CM ', 'CB ',\n",
       "       'RM CM CAM ', 'RM LW ST LM ', 'ST CAM ', 'LW RW ST ', 'CDM CAM CM ',\n",
       "       'RW CAM ', 'RW RM ', 'CM CDM ', 'LM RM CAM ', 'LB ', 'CM ',\n",
       "       'LM CM CAM ', 'LM CM ', 'LM RM CAM CM ', 'CM CB LB ', 'LM LB ',\n",
       "       'ST CAM RW CF ', 'CAM LW ', 'LW ST LM ', 'CAM CM ', 'CDM CB ',\n",
       "       'ST LW CF ', 'CAM CDM CM ', 'LW LM ', 'RM LM ', 'CDM ', 'LM RW RM ',\n",
       "       'LB RB CB ', 'LW RW ', 'LW LM RM CAM ', 'RM ', 'LM CF CAM ', 'RB ',\n",
       "       'LM CAM LW ', 'LM RM CM ', 'CAM LM ', 'CAM RM RW ', 'RM CAM ',\n",
       "       'CAM LW RW ', 'LM ', 'LM CAM ', 'CAM CF ST ', 'CM CB CDM ',\n",
       "       'RW ST ', 'RW LW CM ', 'CF CAM ', 'LW CM ', 'RWB RB ', 'CAM ',\n",
       "       'ST CF ', 'LM ST ', 'CM CAM ', 'CF ST ', 'CB RB ', 'CF CM CAM ',\n",
       "       'LM CAM RW LW ', 'LM RM ', 'LM RW LW ', 'LM CF RM ', 'CAM LW CM ',\n",
       "       'ST LM ', 'LM ST RM ', 'RM RW ', 'RM CM ', 'RB CB ', 'CM RW RB ',\n",
       "       'LM RM RW ', 'RW LW ', 'CM CDM CB ', 'LB CB ', 'ST RM LM ',\n",
       "       'CAM LM CM ', 'CB CDM ', 'CAM CM CDM ', 'CAM CF ', 'RM CDM CM ',\n",
       "       'LW RM LM ', 'CAM ST CF ', 'LWB LB ', 'ST RW ', 'RM CM LM ',\n",
       "       'LW RW CM ', 'RB CM CDM ', 'RM RB ', 'LW ST ', 'LW ST RW ',\n",
       "       'CDM CB CM RB ', 'CM LB LWB LM ', 'RM LW RW ', 'RW RM CM ',\n",
       "       'RB LB CB ', 'CM CDM RB ', 'RW CM RM CAM ', 'LW CAM ', 'RM RWB ',\n",
       "       'CB LB ', 'LB LM LWB ', 'RM RB CDM CM ', 'CF LW ', 'CAM ST ',\n",
       "       'RM ST LM ', 'CAM RM LM ', 'RM LB RB ', 'LB CDM ', 'RM RW ST ',\n",
       "       'RW LW LM ', 'RM ST ', 'RM LM CM ', 'RM LM CF ', 'RM LM CAM ',\n",
       "       'CM LM RM ', 'RWB LM RM ', 'CM CAM LM ', 'RWB RM ST ', 'CF CDM CM ',\n",
       "       'CB CM CDM ', 'RB LB ', 'CF LM LW ', 'CAM LM ST ', 'RW CAM RM ',\n",
       "       'LM CDM CAM CM ', 'ST LM RM ', 'CAM RM ST ', 'CM LB ', 'RM RWB RB ',\n",
       "       'RW RM CAM ST ', 'CM ST CAM ', 'LW CF CAM ', 'CAM RW LW ',\n",
       "       'RM RW RB ', 'LM LW ', 'RM LM ST ', 'LB RB ', 'CM RM CAM ',\n",
       "       'RW LW CAM ', 'CAM RWB RM ', 'RB LM ', 'CAM ST RM ', 'LM CAM CM ',\n",
       "       'LM RM RWB ', 'ST CAM CF ', 'CM LM ', 'CM CAM RM LM ', 'RW CAM CM ',\n",
       "       'LM LW RW RM ', 'CAM CDM LM CM ', 'RW LM LW ', 'RW LW ST ',\n",
       "       'CM CF CAM ', 'CAM RM ', 'LW CM LM ', 'RB RM ', 'CM CAM CDM ',\n",
       "       'CDM RB CB ', 'RW LM LW RM ', 'LWB CB LB ', 'CAM RM CM ',\n",
       "       'CDM CM CAM ', 'RW RM LW LM ', 'RB RWB ', 'LM CAM LW RW ',\n",
       "       'CDM CM CB ', 'CAM LM RM ', 'CB LB RB ', 'CF CAM RM ', 'RW LM RM ',\n",
       "       'CAM RW ', 'LM ST CAM RM ', 'RW CAM LW ', 'CDM LM CM CAM ',\n",
       "       'ST RM ', 'CM LM LB ', 'CF CM ', 'LM ST CF CAM ', 'LM CAM ST ',\n",
       "       'CM CDM CAM ', 'LM LWB LB ', 'CM RM RB ', 'RW CAM ST LW ',\n",
       "       'RM RB LB ', 'LM LW CAM ', 'CF CAM ST LM ', 'CAM CM LM ',\n",
       "       'RM CM CDM ', 'LM CAM CF ST ', 'RB CDM CB ', 'RB CB CM CDM ',\n",
       "       'LW RW LM RM ', 'RM CAM CM ', 'CM CAM LM RM ', 'LM CDM CM CAM ',\n",
       "       'LM CM CDM ', 'RW LW ST CF ', 'CM LB CAM LM ', 'RM RWB ST ',\n",
       "       'LM RM ST ', 'ST CM CAM ', 'RW RWB RM ', 'RM RW LW ', 'LW RW CAM ',\n",
       "       'RM CM ST ', 'CDM RM CM ', 'LB LWB ', 'RWB RB CB CDM ', 'CF ST LM ',\n",
       "       'ST CAM LM RM ', 'RM LW ', 'LM LW ST ', 'CB CDM CM ',\n",
       "       'LW CAM RM LM ', 'CF CAM CM ', 'RWB RM ', 'CM RM LM ', 'RW ST CAM ',\n",
       "       'RM ST CAM ', 'RM LW LM ', 'LW CAM ST ', 'LM CDM CM ', 'LB LM ',\n",
       "       'RM LW ST RW ', 'RM CAM RW CM ', 'CM RB ', 'CF RM ', 'LM CAM RM ',\n",
       "       'LM CDM CAM ', 'ST RM CF ', 'LW RW LM ST ', 'CAM CDM ', 'RW LM ST ',\n",
       "       'CF RM CAM ', 'ST LW LM ', 'CDM CM ST CAM ', 'CB RB LB ',\n",
       "       'CM RM CAM LM ', 'CAM LM LB ', 'CDM RB ', 'CDM CAM ', 'LW CM CAM ',\n",
       "       'LM CAM RM RW ', 'LB CDM CB ', 'RB CB LB ', 'CF CAM ST ',\n",
       "       'ST CF CAM ', 'RW RM LM CAM ', 'LB LM RB ', 'LW LM RM ',\n",
       "       'CF RM RWB ', 'LB RM ', 'LM LWB ', 'RM CAM LM ', 'CF LW ST RW ',\n",
       "       'RM LM CM CAM ', 'CM RM ', 'CM RB CDM ', 'CB CDM RB ', 'LW LB ',\n",
       "       'LM CM RM ', 'LM CAM CM RM ', 'LB LM CB ', 'RW ST LW ', 'CF LM ST ',\n",
       "       'CM RM RB CDM ', 'ST RM CAM CDM ', 'CAM CB CDM ', 'CAM ST LW LM ',\n",
       "       'LW RM ', 'CAM LM LW ', 'CAM CM LM RM ', 'CM LW CAM RW ',\n",
       "       'LWB LB RB LW ', 'RW LW CAM LM ', 'ST RM RW ', 'RB CDM CM ',\n",
       "       'RW CAM CF RM ', 'LW LM ST ', 'RM CAM LW RW ', 'LWB LM LB ',\n",
       "       'CDM LM CM ', 'LM ST CAM ', 'CM LM CAM ', 'ST CAM LM ',\n",
       "       'LW RW CAM CF ', 'RB CM ', 'RWB LB RB ', 'CF LM ', 'ST LM CAM ',\n",
       "       'CAM ST LM RM ', 'RM LM CF CM ', 'LW LM CAM ', 'LM CM CF CAM ',\n",
       "       'LM RW LW ST ', 'ST CAM CM ', 'LW LM RW CM ', 'RB RM CAM ',\n",
       "       'CDM LB ', 'LM CAM RW ', 'CAM LM RW ', 'RW CF ST ', 'CM LM RB LB ',\n",
       "       'ST CAM RM LM ', 'LB RB LM ', 'ST CF RW ', 'CF CAM LW LM ',\n",
       "       'CM RB RWB CB ', 'RB RW ', 'RW ST RM ', 'RM LM CDM CM ',\n",
       "       'LM ST CF ', 'LM RM CM CAM ', 'CM CB ', 'CAM CM RM LM ',\n",
       "       'CDM CB CM ', 'CF LM RM ST ', 'CAM RM CF LM ', 'RM LB ',\n",
       "       'RM LM ST CAM ', 'RW CM ', 'RM RB RWB ', 'LM LW RW ', 'LM LB CB ',\n",
       "       'LW LM LWB LB ', 'RW CDM CM ', 'ST RM CAM LM ', 'LWB CB ',\n",
       "       'ST RW CAM ', 'LM CAM LB ', 'CB LWB LB ', 'CDM RM ', 'RW CF LW ',\n",
       "       'CDM CAM LM CM ', 'LM LW LB CM ', 'LM LB LWB ', 'LM ST LW ',\n",
       "       'RWB CB RB ', 'RW LW CM RM ', 'LW CAM LM ', 'CDM LM CAM CM ',\n",
       "       'LB RM RB ', 'LM RM CF CAM ', 'LM CF ', 'RM LM RW LW ',\n",
       "       'CF ST CAM ', 'RWB RM RB ', 'RB CB CDM ', 'LB CM RB ',\n",
       "       'RM CM CAM LM ', 'LM LWB RWB ', 'RWB RB CB ', 'CM LM RM CAM ',\n",
       "       'CM CAM RM ', 'CAM ST LW ', 'LM ST CM ', 'RW LM ', 'CAM ST LM ',\n",
       "       'CM LB LM ', 'RW RM LW ', 'ST CAM RW ', 'RM RB RW ', 'CDM ST LM ',\n",
       "       'LM RM CF ', 'CAM RM ST LM ', 'CF RW ', 'CAM LM ST CF ',\n",
       "       'CAM RM LM ST ', 'LW CF ST ', 'CAM LW LM ', 'CAM ST RM LM ',\n",
       "       'LM LB RM ', 'ST LW RM RW ', 'LB CB RB ', 'ST RW LW ', 'RM RB CDM ',\n",
       "       'ST RM LM CAM ', 'RM CAM ST ', 'LM RM RB ', 'LW RW CF ', 'LM RW ',\n",
       "       'RM CAM RW ', 'CDM CF CM CAM ', 'LB CM LM ', 'LW CAM CM ',\n",
       "       'LB CDM CM ', 'RWB CM RM LWB ', 'RWB LB CB RB ', 'CM LM LW CAM ',\n",
       "       'RB LM RM ', 'LW CF RM ', 'CAM CDM CM RM ', 'CM CB RB ',\n",
       "       'LW RW RM ', 'LB CDM RB ', 'RM CAM LM LW ', 'RB ST LM RM ',\n",
       "       'CM RW CAM ', 'CB LB LWB ', 'CM LWB LM LB ', 'RM RB CM ',\n",
       "       'CM RB RM ', 'LB CM CAM ', 'CAM LB LW ', 'CM RW LW ', 'CAM ST RW ',\n",
       "       'RB CDM ', 'CDM LB CM ', 'LB RM CM CAM ', 'CDM CM LM ',\n",
       "       'LW ST RM RW ', 'CM RW LW CAM ', 'LM RM RW LW ', 'RM LM CM CDM ',\n",
       "       'ST CF RM LM ', 'RM LB LM ', 'CAM RW RM ', 'CB LM LWB LB ',\n",
       "       'ST RM CAM ', 'RB CAM ', 'RB RM CM ', 'CDM CM CAM LM ',\n",
       "       'CAM CF RM ', 'CF CM ST CAM ', 'CAM CB CM ', 'LW RM RW ',\n",
       "       'CF CAM LM ', 'LM CDM LB ', 'LW CM CAM RW ', 'CF CAM RW ',\n",
       "       'RM LB RWB ', 'LW RW CAM RM ', 'CM LM LW ', 'CF RM LM ', 'CF ',\n",
       "       'LM CAM ST RM ', 'ST RM LW ', 'LW LB LM ', 'RWB LWB ', 'LB RB RWB ',\n",
       "       'ST LW RW ', 'ST CB ', 'CDM LB RB ', 'CDM CM LM RM ', 'CB RWB RB ',\n",
       "       'CDM CAM RB CM ', 'RW CM CAM ', 'LB LM CM ', 'LB LM RM ',\n",
       "       'RWB CAM LM ', 'LB LWB LM ', 'CDM LM LB ', 'CM LB RB ',\n",
       "       'CAM CM RM ', 'RWB RM RW ', 'CF RM RW ', 'RM CF ST RW ',\n",
       "       'RB LWB LB ', 'CAM LB ', 'RM LM LWB ', 'CB RB CDM ', 'CAM LW ST ',\n",
       "       'RB RM LM ', 'ST CAM LM RW ', 'LM ST RM CAM ', 'CF RW ST ',\n",
       "       'ST CAM CM LM ', 'LM ST RM CF ', 'RWB CAM RM LM ', 'RM CM CDM CAM ',\n",
       "       'RB ST CAM ', 'LW CAM RW RM ', 'RW LM RM CAM ', 'LB LM LW ',\n",
       "       'CM CDM CAM LM ', 'CM LM CAM RM ', 'LM RB RM ', 'RM RW LM ',\n",
       "       'ST LW CAM ', 'LW LB LWB ', 'LB RWB RB ', 'ST CM LM CAM ', 'CM ST ',\n",
       "       'LM CDM RM CM ', 'CDM LB CB ', 'ST CAM RM ', 'CAM LM RM ST ',\n",
       "       'RM CAM LM CM ', 'RWB CAM CM ', 'LB LW LM ', 'CF RW LW CAM ',\n",
       "       'LWB RWB CB ', 'RM LM LB ', 'LM RM CM CDM ', 'LW CAM RW ', 'RB ST ',\n",
       "       'RW CAM ST ', 'CAM RM RW ST ', 'CM RM CDM ', 'LB CM CDM ',\n",
       "       'CDM CB RB ', 'LM LW ST RM ', 'RB RM CAM LM ', 'LWB LM ',\n",
       "       'LW RW ST RM ', 'LB LW ', 'RB RM RWB ', 'CM CAM LM CDM ', 'CB CM ',\n",
       "       'LM CF RM CAM ', 'RM ST RW ', 'LM RM LB ', 'CM CB RB CDM ',\n",
       "       'LM CB LB ', 'LWB CM LM RM ', 'ST CM RM ', 'ST CM RM LM ',\n",
       "       'RM CAM CM CDM ', 'CAM LW CF ', 'LB CM ', 'RB CDM RM ',\n",
       "       'ST LM RM CAM ', 'LM RM ST CAM ', 'CDM LM CAM ', 'RWB RW CAM RM ',\n",
       "       'ST LM CF RM ', 'CF LM RM ', 'CAM LM RM RW ', 'ST LM RW RM ',\n",
       "       'RM LM LW ', 'RB CAM CM ', 'RB RWB LB LWB ', 'RM LW CAM LM ',\n",
       "       'CAM RW ST ', 'RW RB ', 'ST CAM RW LW ', 'RM LB LWB LM ',\n",
       "       'RWB CM RB ', 'RB CDM RM CM ', 'RB RW RM ', 'CAM LM CDM CM ',\n",
       "       'LB RM LM ', 'CM LW ', 'RM CF CAM ', 'LWB ', 'LM CM CAM RM ',\n",
       "       'CAM RW CM ', 'LW RW CF CAM ', 'CAM ST CM ', 'CAM ST RW LW ',\n",
       "       'RB LWB ', 'CDM LM RM CM ', 'LM RWB CM ', 'LM CAM CDM CM ',\n",
       "       'CM CAM LWB ', 'LB RB CDM ', 'LW RW CM LB ', 'RW CDM RM CM ',\n",
       "       'CAM CM ST ', 'CM LM RB CAM ', 'LWB RM LM ', 'CM CDM LB ',\n",
       "       'CM LW ST CAM ', 'CB CM CDM RB ', 'LW CAM LB ', 'LM CM RW ',\n",
       "       'RM CDM CAM LM ', 'CDM RB CM ', 'LM RM RB LB ', 'CM RM RB CB ',\n",
       "       'CM CAM ST ', 'RWB LB RM RB ', 'ST CM RW ', 'LB CM CDM RB ',\n",
       "       'RW RM ST ', 'CM RW CAM LW ', 'RWB ', 'LM CAM CF ', 'LM RW CAM ST ',\n",
       "       'CDM LM RM ', 'RM CF ST ', 'CAM RM LM CM ', 'ST LM RW CAM ',\n",
       "       'LM LW RW ST ', 'RWB CB ', 'RM CAM CDM CM ', 'LWB CM CAM LM ',\n",
       "       'ST LW CAM RW ', 'CAM ST LW CF ', 'CDM CB LB ', 'ST RW RM ',\n",
       "       'RM CF RW ST ', 'LM CAM CDM ', 'RB LB RM ', 'CDM CM RM ',\n",
       "       'RM RWB LB RB ', 'RM LM LWB RWB ', 'RM CDM ', 'CAM RM RB ',\n",
       "       'CM ST LM RM ', 'CAM LM RM CM ', 'CAM LB RM LM ', 'LM CM RM CAM ',\n",
       "       'RM RB LWB RWB ', 'RWB CDM ', 'RW RM RWB RB ', 'LM RM LB RB ',\n",
       "       'CDM RM CB ', 'RM CM RB ', 'LM CF ST ', 'LB ST LM ',\n",
       "       'CAM LM RB RM ', 'LB CB CDM ', 'RWB CM ', 'LW RW RWB ',\n",
       "       'RM RW LW LM ', 'CAM CB ', 'LWB RWB LB RB ', 'ST LM CM ',\n",
       "       'RM RB CM CDM ', 'LB LM CDM ', 'RM CAM ST LM ', 'ST CF CM CAM ',\n",
       "       'CM RM RW ', 'CAM CDM RM ', 'CM RM RB RWB ', 'CDM RWB RB ',\n",
       "       'CM CDM RB RM ', 'CAM RW CF ', 'CDM ST CAM ', 'CAM CDM RB CM ',\n",
       "       'CB CM CDM CAM ', 'ST CF RM RW ', 'RB RWB RM ', 'LW RW CF ST ',\n",
       "       'LM RB LB ', 'CM CAM CF LW ', 'CDM RM LM ', 'LW ST RW CAM ',\n",
       "       'ST CM RM CAM ', 'ST CAM LW ', 'LM RM CDM CM ', 'ST LM RW ',\n",
       "       'CM LB CDM ', 'CM RM LB RB ', 'RW RB RM ', 'LM CDM ',\n",
       "       'RM LM CAM ST ', 'RW LM CF ST ', 'CAM LM CM CDM ', 'CDM CAM LM ',\n",
       "       'CF LW RW ', 'RW RM CB RB ', 'ST CAM LW RW ', 'RM CB RB ',\n",
       "       'RM CAM ST RW ', 'CB RB CM CDM ', 'LW LM LB ', 'CDM RM LB RB ',\n",
       "       'ST LM RM CM ', 'RM CM LM CAM ', 'RB CM RM CAM ', 'RM CAM CDM ',\n",
       "       'CM RM RWB ', 'RB CB CM ', 'RM CF ST LM ', 'RB LB CDM CB ',\n",
       "       'LM CAM RM CDM ', 'CDM RB LWB CM ', 'LM RW ST ', 'CAM LM RW RM ',\n",
       "       'CM LM CB CDM ', 'CAM CM LM CDM ', 'ST CAM LM LW ',\n",
       "       'CM CDM RB RWB ', 'LM LB RM RB ', 'CM RB CB ', 'CAM CF CM ',\n",
       "       'CDM CAM RM CM ', 'RM CDM CAM CM ', 'RM CF ', 'ST CM ',\n",
       "       'CF LM CAM ', 'CB CDM LB RB ', 'CM LB LW LM ', 'RB RM ST ',\n",
       "       'RWB LWB RM LM ', 'LM CM LB ', 'ST LB RB ', 'RB LB CDM ',\n",
       "       'RW CM ST ', 'CAM LM RM CDM ', 'CDM RWB CB ', 'RW CM LM ',\n",
       "       'CF RM ST ', 'CDM LWB ', 'LB CB CDM RB ', 'RM CDM LM CM ',\n",
       "       'ST LW CF RW ', 'CAM CF LW ', 'RM RB LM LB ', 'CB RM LM ',\n",
       "       'CDM RM RB ', 'RW RM LM ST ', 'CDM CM RB ', 'CM RM LM ST ',\n",
       "       'CM ST RM LM ', 'LM RM CM RB ', 'RM CB ', 'LM CB CM ', 'CM LB CB ',\n",
       "       'CM LW RM ', 'RM CB RWB ', 'LWB LM ST ', 'LW RM ST ',\n",
       "       'LM ST RW LW ', 'RW CAM LM LW ', 'RW LW LM CM ', 'RM LW CAM ',\n",
       "       'LM RB ', 'LB RB CM ', 'CM CAM ST LM ', 'CDM LM ', 'LWB CB LM LB ',\n",
       "       'RB RM LM CM ', 'RB RM LM LB ', 'CB CM RM LM ', 'LWB LB ST LM ',\n",
       "       'RW ST CF ', 'CB ST ', 'RB CM CB CDM ', 'RM RB LM ', 'CF LW CAM ',\n",
       "       'RWB LW LWB ', 'LB RB RM ', 'RW ST CF CAM ', 'CF RW LW ',\n",
       "       'ST CDM CM ', 'LWB CAM ', 'CM CAM LW ', 'CF CM RM ', 'LB LM ST ',\n",
       "       'CM RM LB ', 'LWB RWB RB ', 'ST LB CB ', 'LM CM CB ',\n",
       "       'LB CM CB CDM ', 'LM ST LW RW ', 'CB RM RB ', 'LWB LB RWB RB ',\n",
       "       'LM LW LB ', 'LW CAM CF ', 'LWB LB CB ', 'RM LW ST ',\n",
       "       'LW RW RM ST ', 'RW LB ', 'LWB RB ', 'CB LM ', 'RW CM LW ',\n",
       "       'LW RM CM ', 'RW CF ', 'CDM RWB ', 'LB RM ST ', 'RB RW ST ',\n",
       "       'CM CAM RB ', 'LWB LB RB RWB ', 'LW CM RM LM ', 'CAM RB ',\n",
       "       'CM LW RW ', 'RW LB LW ', 'RW LW LM RM ', 'CAM LW RW ST ',\n",
       "       'RB ST RM LM ', 'RW CAM CF ST ', 'RW ST CM ', 'LW CAM RM ST ',\n",
       "       'LM CM CDM LB ', 'ST RM RB ', 'RM CM ST CAM ', 'LB CDM LM CM ',\n",
       "       'LM RM CDM ', 'ST LM LB ', 'RM LM LB RB ', 'ST LB ', 'RW LWB CF ',\n",
       "       'CB LB CDM ', 'LB CAM ', 'RM CB CDM RB ', 'CDM ST ', 'RB CDM LB ',\n",
       "       'CAM LB LW LM ', 'LW CF RW ', 'RM LM CAM CDM ', 'CAM CB CM CDM ',\n",
       "       'LW ST CAM RW ', 'CM LW LM ', 'CM RM ST LM ', 'RM LM RB ',\n",
       "       'CB LW LWB LB '], dtype=object)"
      ]
     },
     "execution_count": 21,
     "metadata": {},
     "output_type": "execute_result"
    }
   ],
   "source": [
    "data['Preferred Positions'].unique()"
   ]
  },
  {
   "cell_type": "code",
   "execution_count": 22,
   "metadata": {},
   "outputs": [
    {
     "data": {
      "text/plain": [
       "0               ST LW \n",
       "1                  RW \n",
       "2                  LW \n",
       "3                  ST \n",
       "4                  GK \n",
       "5                  ST \n",
       "6                  GK \n",
       "7                  LW \n",
       "8              CDM CM \n",
       "9                  ST \n",
       "             ...      \n",
       "17971        ST RM LM \n",
       "17972    CB LW LWB LB \n",
       "17973              CM \n",
       "17974              CB \n",
       "17975              CM \n",
       "17976              GK \n",
       "17977              GK \n",
       "17978              ST \n",
       "17979              CM \n",
       "17980           ST CB \n",
       "Name: Preferred Positions, Length: 17981, dtype: object"
      ]
     },
     "execution_count": 22,
     "metadata": {},
     "output_type": "execute_result"
    }
   ],
   "source": [
    "data['Preferred Positions']"
   ]
  },
  {
   "cell_type": "markdown",
   "metadata": {},
   "source": [
    "Забелязваме, че някой футболисти имат по повече от една предпочитана позиция.\n",
    "Нека вземем всички уникални позиции."
   ]
  },
  {
   "cell_type": "code",
   "execution_count": 23,
   "metadata": {},
   "outputs": [
    {
     "data": {
      "text/plain": [
       "{'CAM',\n",
       " 'CB',\n",
       " 'CDM',\n",
       " 'CF',\n",
       " 'CM',\n",
       " 'GK',\n",
       " 'LB',\n",
       " 'LM',\n",
       " 'LW',\n",
       " 'LWB',\n",
       " 'RB',\n",
       " 'RM',\n",
       " 'RW',\n",
       " 'RWB',\n",
       " 'ST'}"
      ]
     },
     "execution_count": 23,
     "metadata": {},
     "output_type": "execute_result"
    }
   ],
   "source": [
    "positions = set(''.join(data['Preferred Positions'].unique()).split())\n",
    "positions"
   ]
  },
  {
   "cell_type": "markdown",
   "metadata": {},
   "source": [
    "Нека добавим колоната за предпочината позиция като преобразуваме string до списък с предпочитани позиции."
   ]
  },
  {
   "cell_type": "code",
   "execution_count": 24,
   "metadata": {},
   "outputs": [],
   "source": [
    "player_attributes_df['Preferred Positions'] = data['Preferred Positions'].str[0:-1].str.split(' ').astype('object')"
   ]
  },
  {
   "cell_type": "code",
   "execution_count": 25,
   "metadata": {},
   "outputs": [
    {
     "data": {
      "text/plain": [
       "0                 [ST, LW]\n",
       "1                     [RW]\n",
       "2                     [LW]\n",
       "3                     [ST]\n",
       "4                     [GK]\n",
       "5                     [ST]\n",
       "6                     [GK]\n",
       "7                     [LW]\n",
       "8                [CDM, CM]\n",
       "9                     [ST]\n",
       "               ...        \n",
       "17971         [ST, RM, LM]\n",
       "17972    [CB, LW, LWB, LB]\n",
       "17973                 [CM]\n",
       "17974                 [CB]\n",
       "17975                 [CM]\n",
       "17976                 [GK]\n",
       "17977                 [GK]\n",
       "17978                 [ST]\n",
       "17979                 [CM]\n",
       "17980             [ST, CB]\n",
       "Name: Preferred Positions, Length: 17981, dtype: object"
      ]
     },
     "execution_count": 25,
     "metadata": {},
     "output_type": "execute_result"
    }
   ],
   "source": [
    "player_attributes_df['Preferred Positions']"
   ]
  },
  {
   "cell_type": "markdown",
   "metadata": {},
   "source": [
    "Това изглежда добре. Нека да one-hot-нем предпочината позиция.\n",
    "\n",
    "Първо ще създадем колоните за всяка позиция и ще ги попълним с 0.\n",
    "\n",
    "След това ще сложим 1 само на позициите, на които футболистът предпочита да играе."
   ]
  },
  {
   "cell_type": "code",
   "execution_count": 26,
   "metadata": {
    "scrolled": true
   },
   "outputs": [],
   "source": [
    "player_attributes_df_enc = player_attributes_df\n",
    "\n",
    "positions = list(positions)\n",
    "positions.sort()\n",
    "\n",
    "for position in positions:\n",
    "    player_attributes_df_enc[position] = 0.0\n",
    "\n",
    "for index, row in player_attributes_df_enc.iterrows():\n",
    "    for position in row['Preferred Positions']:\n",
    "        player_attributes_df_enc.set_value(index, position, 1.0)\n",
    "    \n",
    "player_attributes_df_enc = player_attributes_df_enc.drop('Preferred Positions', 1)"
   ]
  },
  {
   "cell_type": "markdown",
   "metadata": {},
   "source": [
    "На ред 17972 - футболистът имаше следните предпочитани позиции \\[CB, LW, LWB, LB\\]. Нека видим дали нашия one-hot e сработил."
   ]
  },
  {
   "cell_type": "code",
   "execution_count": 27,
   "metadata": {},
   "outputs": [
    {
     "data": {
      "text/html": [
       "<div>\n",
       "<style>\n",
       "    .dataframe thead tr:only-child th {\n",
       "        text-align: right;\n",
       "    }\n",
       "\n",
       "    .dataframe thead th {\n",
       "        text-align: left;\n",
       "    }\n",
       "\n",
       "    .dataframe tbody tr th {\n",
       "        vertical-align: top;\n",
       "    }\n",
       "</style>\n",
       "<table border=\"1\" class=\"dataframe\">\n",
       "  <thead>\n",
       "    <tr style=\"text-align: right;\">\n",
       "      <th></th>\n",
       "      <th>CAM</th>\n",
       "      <th>CB</th>\n",
       "      <th>CDM</th>\n",
       "      <th>CF</th>\n",
       "      <th>CM</th>\n",
       "      <th>GK</th>\n",
       "      <th>LB</th>\n",
       "      <th>LM</th>\n",
       "      <th>LW</th>\n",
       "      <th>LWB</th>\n",
       "      <th>RB</th>\n",
       "      <th>RM</th>\n",
       "      <th>RW</th>\n",
       "      <th>RWB</th>\n",
       "      <th>ST</th>\n",
       "    </tr>\n",
       "  </thead>\n",
       "  <tbody>\n",
       "    <tr>\n",
       "      <th>17972</th>\n",
       "      <td>0.0</td>\n",
       "      <td>1.0</td>\n",
       "      <td>0.0</td>\n",
       "      <td>0.0</td>\n",
       "      <td>0.0</td>\n",
       "      <td>0.0</td>\n",
       "      <td>1.0</td>\n",
       "      <td>0.0</td>\n",
       "      <td>1.0</td>\n",
       "      <td>1.0</td>\n",
       "      <td>0.0</td>\n",
       "      <td>0.0</td>\n",
       "      <td>0.0</td>\n",
       "      <td>0.0</td>\n",
       "      <td>0.0</td>\n",
       "    </tr>\n",
       "  </tbody>\n",
       "</table>\n",
       "</div>"
      ],
      "text/plain": [
       "       CAM   CB  CDM   CF   CM   GK   LB   LM   LW  LWB   RB   RM   RW  RWB  \\\n",
       "17972  0.0  1.0  0.0  0.0  0.0  0.0  1.0  0.0  1.0  1.0  0.0  0.0  0.0  0.0   \n",
       "\n",
       "        ST  \n",
       "17972  0.0  "
      ]
     },
     "execution_count": 27,
     "metadata": {},
     "output_type": "execute_result"
    }
   ],
   "source": [
    "player_attributes_df_enc[player_attributes_df_enc.index == 17972][positions]"
   ]
  },
  {
   "cell_type": "markdown",
   "metadata": {},
   "source": [
    "Да тренираме отново."
   ]
  },
  {
   "cell_type": "code",
   "execution_count": 28,
   "metadata": {},
   "outputs": [
    {
     "name": "stdout",
     "output_type": "stream",
     "text": [
      "X shape: (17981, 49), y shape (17981,)\n"
     ]
    }
   ],
   "source": [
    "(X, y) = data_and_target(player_attributes_df_enc)"
   ]
  },
  {
   "cell_type": "code",
   "execution_count": 29,
   "metadata": {},
   "outputs": [
    {
     "data": {
      "text/plain": [
       "(66.277864293659619, 66.158362989323848)"
      ]
     },
     "execution_count": 29,
     "metadata": {},
     "output_type": "execute_result"
    }
   ],
   "source": [
    "(X_train, X_test, y_train, y_test) = train_test_split(X, y, random_state=12345)\n",
    "\n",
    "y_train.mean(), y_test.mean()"
   ]
  },
  {
   "cell_type": "code",
   "execution_count": 30,
   "metadata": {},
   "outputs": [
    {
     "name": "stdout",
     "output_type": "stream",
     "text": [
      "train score: 0.87652729098\n",
      "test score:  0.871577561175\n"
     ]
    }
   ],
   "source": [
    "model = LinearRegression().fit(X_train, y_train)\n",
    "print(\"train score:\", model.score(X_train, y_train))\n",
    "print(\"test score: \", model.score(X_test, y_test))"
   ]
  },
  {
   "cell_type": "markdown",
   "metadata": {},
   "source": [
    "Подобрихме с около 3%\n",
    "\n",
    "Нека видим, кои колони не сме използвали."
   ]
  },
  {
   "cell_type": "code",
   "execution_count": 31,
   "metadata": {},
   "outputs": [
    {
     "data": {
      "text/plain": [
       "{'Age',\n",
       " 'Club',\n",
       " 'Club Logo',\n",
       " 'Flag',\n",
       " 'ID',\n",
       " 'LAM',\n",
       " 'LCB',\n",
       " 'LCM',\n",
       " 'LDM',\n",
       " 'LF',\n",
       " 'LS',\n",
       " 'Name',\n",
       " 'Nationality',\n",
       " 'Photo',\n",
       " 'Potential',\n",
       " 'Preferred Positions',\n",
       " 'RAM',\n",
       " 'RCB',\n",
       " 'RCM',\n",
       " 'RDM',\n",
       " 'RF',\n",
       " 'RS',\n",
       " 'Special',\n",
       " 'Value',\n",
       " 'Wage'}"
      ]
     },
     "execution_count": 31,
     "metadata": {},
     "output_type": "execute_result"
    }
   ],
   "source": [
    "set(data.columns) - (set(player_attributes_df_enc.columns) | set('Preferred Positions'))"
   ]
  },
  {
   "cell_type": "markdown",
   "metadata": {},
   "source": [
    "Възрастта, стойността и заплатата на футболиста изглеждат интересни колони.\n",
    "\n",
    "Нека пробваме."
   ]
  },
  {
   "cell_type": "code",
   "execution_count": 32,
   "metadata": {},
   "outputs": [],
   "source": [
    "player_attributes_df_enc['Age'] = data['Age']\n",
    "player_attributes_df_enc['Value'] = data['Value']\n",
    "player_attributes_df_enc['Wage'] = data['Wage']"
   ]
  },
  {
   "cell_type": "markdown",
   "metadata": {},
   "source": [
    "Нека видим какво се съдържа в тях."
   ]
  },
  {
   "cell_type": "code",
   "execution_count": 33,
   "metadata": {},
   "outputs": [
    {
     "data": {
      "text/plain": [
       "array([32, 30, 25, 31, 28, 26, 27, 29, 39, 23, 24, 35, 33, 34, 36, 21, 22,\n",
       "       18, 20, 19, 37, 38, 40, 17, 44, 41, 16, 43, 47])"
      ]
     },
     "execution_count": 33,
     "metadata": {},
     "output_type": "execute_result"
    }
   ],
   "source": [
    "player_attributes_df_enc['Age'].unique()"
   ]
  },
  {
   "cell_type": "code",
   "execution_count": 34,
   "metadata": {},
   "outputs": [
    {
     "data": {
      "image/png": "[encoded data removed]",
      "text/plain": [
       "<matplotlib.figure.Figure at 0x7fb4023a52e8>"
      ]
     },
     "metadata": {},
     "output_type": "display_data"
    }
   ],
   "source": [
    "sns.factorplot('Age', 'Overall', data=player_attributes_df_enc, size=10);"
   ]
  },
  {
   "cell_type": "markdown",
   "metadata": {},
   "source": [
    "Забелязваме някаква аномалия около 44 години. Нека видим какви са тези футболисти."
   ]
  },
  {
   "cell_type": "code",
   "execution_count": 35,
   "metadata": {},
   "outputs": [
    {
     "data": {
      "text/html": [
       "<div>\n",
       "<style>\n",
       "    .dataframe thead tr:only-child th {\n",
       "        text-align: right;\n",
       "    }\n",
       "\n",
       "    .dataframe thead th {\n",
       "        text-align: left;\n",
       "    }\n",
       "\n",
       "    .dataframe tbody tr th {\n",
       "        vertical-align: top;\n",
       "    }\n",
       "</style>\n",
       "<table border=\"1\" class=\"dataframe\">\n",
       "  <thead>\n",
       "    <tr style=\"text-align: right;\">\n",
       "      <th></th>\n",
       "      <th>CAM</th>\n",
       "      <th>CB</th>\n",
       "      <th>CDM</th>\n",
       "      <th>CF</th>\n",
       "      <th>CM</th>\n",
       "      <th>GK</th>\n",
       "      <th>LB</th>\n",
       "      <th>LM</th>\n",
       "      <th>LW</th>\n",
       "      <th>LWB</th>\n",
       "      <th>RB</th>\n",
       "      <th>RM</th>\n",
       "      <th>RW</th>\n",
       "      <th>RWB</th>\n",
       "      <th>ST</th>\n",
       "    </tr>\n",
       "  </thead>\n",
       "  <tbody>\n",
       "    <tr>\n",
       "      <th>4839</th>\n",
       "      <td>0.0</td>\n",
       "      <td>0.0</td>\n",
       "      <td>0.0</td>\n",
       "      <td>0.0</td>\n",
       "      <td>0.0</td>\n",
       "      <td>1.0</td>\n",
       "      <td>0.0</td>\n",
       "      <td>0.0</td>\n",
       "      <td>0.0</td>\n",
       "      <td>0.0</td>\n",
       "      <td>0.0</td>\n",
       "      <td>0.0</td>\n",
       "      <td>0.0</td>\n",
       "      <td>0.0</td>\n",
       "      <td>0.0</td>\n",
       "    </tr>\n",
       "    <tr>\n",
       "      <th>5314</th>\n",
       "      <td>0.0</td>\n",
       "      <td>0.0</td>\n",
       "      <td>0.0</td>\n",
       "      <td>0.0</td>\n",
       "      <td>0.0</td>\n",
       "      <td>1.0</td>\n",
       "      <td>0.0</td>\n",
       "      <td>0.0</td>\n",
       "      <td>0.0</td>\n",
       "      <td>0.0</td>\n",
       "      <td>0.0</td>\n",
       "      <td>0.0</td>\n",
       "      <td>0.0</td>\n",
       "      <td>0.0</td>\n",
       "      <td>0.0</td>\n",
       "    </tr>\n",
       "  </tbody>\n",
       "</table>\n",
       "</div>"
      ],
      "text/plain": [
       "      CAM   CB  CDM   CF   CM   GK   LB   LM   LW  LWB   RB   RM   RW  RWB  \\\n",
       "4839  0.0  0.0  0.0  0.0  0.0  1.0  0.0  0.0  0.0  0.0  0.0  0.0  0.0  0.0   \n",
       "5314  0.0  0.0  0.0  0.0  0.0  1.0  0.0  0.0  0.0  0.0  0.0  0.0  0.0  0.0   \n",
       "\n",
       "       ST  \n",
       "4839  0.0  \n",
       "5314  0.0  "
      ]
     },
     "execution_count": 35,
     "metadata": {},
     "output_type": "execute_result"
    }
   ],
   "source": [
    "player_attributes_df_enc[player_attributes_df_enc['Age'] == 44][positions]"
   ]
  },
  {
   "cell_type": "markdown",
   "metadata": {},
   "source": [
    "Явно са вратари. Понякога вратарите играят на добро ниво и в напреднала футболна възраст. Приемаме го за нормално."
   ]
  },
  {
   "cell_type": "code",
   "execution_count": 36,
   "metadata": {},
   "outputs": [
    {
     "data": {
      "text/plain": [
       "array(['€95.5M', '€105M', '€123M', '€97M', '€61M', '€92M', '€64.5M',\n",
       "       '€90.5M', '€79M', '€77M', '€52M', '€83M', '€59M', '€67.5M', '€57M',\n",
       "       '€69.5M', '€66.5M', '€38M', '€4.5M', '€75M', '€70.5M', '€44M',\n",
       "       '€48M', '€40M', '€60M', '€34M', '€27M', '€36M', '€52.5M', '€65M',\n",
       "       '€37.5M', '€48.5M', '€29M', '€29.5M', '€56M', '€56.5M', '€44.5M',\n",
       "       '€47.5M', '€45M', '€40.5M', '€33M', '€46M', '€42.5M', '€43M',\n",
       "       '€34.5M', '€25.5M', '€41M', '€22.5M', '€13.5M', '€10.5M', '€51.5M',\n",
       "       '€46.5M', '€42M', '€24.5M', '€39M', '€22M', '€35.5M', '€30M',\n",
       "       '€30.5M', '€43.5M', '€28.5M', '€25M', '€26M', '€5M', '€32M',\n",
       "       '€39.5M', '€32.5M', '€31M', '€31.5M', '€35M', '€18.5M', '€28M',\n",
       "       '€23M', '€21M', '€9M', '€11M', '€41.5M', '€38.5M', '€37M', '€27.5M',\n",
       "       '€26.5M', '€20M', '€24M', '€0', '€23.5M', '€17.5M', '€16.5M',\n",
       "       '€14.5M', '€19M', '€17M', '€6M', '€19.5M', '€15.5M', '€12.5M',\n",
       "       '€3.5M', '€18M', '€21.5M', '€15M', '€20.5M', '€14M', '€6.5M',\n",
       "       '€10M', '€8.5M', '€12M', '€16M', '€11.5M', '€13M', '€7M', '€3.8M',\n",
       "       '€4.2M', '€5.5M', '€9.5M', '€8M', '€7.5M', '€1.7M', '€1M', '€3M',\n",
       "       '€850K', '€4M', '€2.4M', '€700K', '€1.4M', '€4.8M', '€2.7M',\n",
       "       '€1.2M', '€3.9M', '€2.1M', '€3.4M', '€4.7M', '€4.3M', '€3.6M',\n",
       "       '€600K', '€4.9M', '€2.3M', '€1.8M', '€3.1M', '€2.6M', '€4.4M',\n",
       "       '€3.7M', '€525K', '€1.6M', '€2M', '€450K', '€775K', '€900K',\n",
       "       '€2.2M', '€3.2M', '€375K', '€2.8M', '€4.6M', '€4.1M', '€1.3M',\n",
       "       '€750K', '€3.3M', '€1.9M', '€650K', '€875K', '€950K', '€2.9M',\n",
       "       '€1.5M', '€550K', '€270K', '€2.5M', '€1.1M', '€210K', '€725K',\n",
       "       '€425K', '€975K', '€325K', '€160K', '€800K', '€500K', '€675K',\n",
       "       '€240K', '€120K', '€575K', '€925K', '€625K', '€70K', '€250K',\n",
       "       '€825K', '€350K', '€230K', '€400K', '€140K', '€300K', '€475K',\n",
       "       '€280K', '€60K', '€190K', '€100K', '€180K', '€290K', '€50K',\n",
       "       '€260K', '€220K', '€90K', '€150K', '€40K', '€200K', '€130K',\n",
       "       '€170K', '€110K', '€30K', '€80K', '€20K', '€10K'], dtype=object)"
      ]
     },
     "execution_count": 36,
     "metadata": {},
     "output_type": "execute_result"
    }
   ],
   "source": [
    "player_attributes_df_enc['Value'].unique()"
   ]
  },
  {
   "cell_type": "markdown",
   "metadata": {},
   "source": [
    "Очевидно имаме някой футболисти, които струват милиони, някой хиляди а някой са доста евтини.\n",
    "Нека превърнем тези стойности до числови."
   ]
  },
  {
   "cell_type": "code",
   "execution_count": 37,
   "metadata": {},
   "outputs": [],
   "source": [
    "player_attributes_df_enc['Value'] = data['Value'].apply(lambda x: float(x[1:-1]) * 10**6 if x[-1] == 'M' \n",
    "                                                         else float(x[1:-1]) * 10**3 if x[-1] == 'K'\n",
    "                                                         else float(x[1:]))"
   ]
  },
  {
   "cell_type": "code",
   "execution_count": 38,
   "metadata": {},
   "outputs": [
    {
     "data": {
      "image/png": "[encoded data removed]",
      "text/plain": [
       "<matplotlib.figure.Figure at 0x7fb40239b7f0>"
      ]
     },
     "metadata": {},
     "output_type": "display_data"
    }
   ],
   "source": [
    "sns.factorplot('Value', 'Overall', data=player_attributes_df_enc, size=8);"
   ]
  },
  {
   "cell_type": "markdown",
   "metadata": {},
   "source": [
    "Футболистите с висок рейтинг са скъпи. Закономерно. Но има футболисти с висок рейтинг и ниска цена. Нека видим дали има такив с цена €0."
   ]
  },
  {
   "cell_type": "code",
   "execution_count": 39,
   "metadata": {},
   "outputs": [
    {
     "data": {
      "text/plain": [
       "67.171875"
      ]
     },
     "execution_count": 39,
     "metadata": {},
     "output_type": "execute_result"
    }
   ],
   "source": [
    "player_attributes_df_enc[player_attributes_df_enc['Value'] == 0]['Overall'].mean()"
   ]
  },
  {
   "cell_type": "markdown",
   "metadata": {},
   "source": [
    "Ред е на заплатите."
   ]
  },
  {
   "cell_type": "code",
   "execution_count": 40,
   "metadata": {},
   "outputs": [
    {
     "data": {
      "text/plain": [
       "array(['€565K', '€280K', '€510K', '€230K', '€355K', '€215K', '€295K',\n",
       "       '€340K', '€275K', '€310K', '€285K', '€190K', '€265K', '€370K',\n",
       "       '€325K', '€225K', '€110K', '€82K', '€150K', '€165K', '€210K',\n",
       "       '€125K', '€175K', '€240K', '€130K', '€195K', '€160K', '€250K',\n",
       "       '€220K', '€91K', '€260K', '€205K', '€120K', '€235K', '€135K',\n",
       "       '€115K', '€94K', '€92K', '€77K', '€180K', '€46K', '€61K', '€155K',\n",
       "       '€60K', '€145K', '€49K', '€81K', '€170K', '€105K', '€36K', '€96K',\n",
       "       '€39K', '€84K', '€200K', '€69K', '€59K', '€54K', '€68K', '€38K',\n",
       "       '€31K', '€53K', '€28K', '€37K', '€70K', '€78K', '€87K', '€58K',\n",
       "       '€75K', '€21K', '€88K', '€89K', '€18K', '€56K', '€140K', '€100K',\n",
       "       '€45K', '€0', '€25K', '€66K', '€15K', '€50K', '€27K', '€19K',\n",
       "       '€73K', '€40K', '€65K', '€80K', '€62K', '€47K', '€67K', '€10K',\n",
       "       '€35K', '€98K', '€76K', '€185K', '€20K', '€16K', '€43K', '€85K',\n",
       "       '€95K', '€42K', '€64K', '€71K', '€99K', '€1K', '€51K', '€90K',\n",
       "       '€30K', '€57K', '€48K', '€72K', '€29K', '€52K', '€12K', '€26K',\n",
       "       '€86K', '€63K', '€34K', '€44K', '€79K', '€83K', '€17K', '€33K',\n",
       "       '€32K', '€23K', '€24K', '€13K', '€22K', '€74K', '€41K', '€14K',\n",
       "       '€97K', '€8K', '€11K', '€6K', '€55K', '€5K', '€9K', '€7K', '€3K',\n",
       "       '€4K', '€2K'], dtype=object)"
      ]
     },
     "execution_count": 40,
     "metadata": {},
     "output_type": "execute_result"
    }
   ],
   "source": [
    "player_attributes_df_enc['Wage'].unique()"
   ]
  },
  {
   "cell_type": "code",
   "execution_count": 41,
   "metadata": {},
   "outputs": [],
   "source": [
    "player_attributes_df_enc['Wage'] = data['Wage'].apply(lambda x: float(x[1:-1]) * 10**3 \n",
    "                                                       if x[-1] == 'K'\n",
    "                                                       else float(x[1:]))"
   ]
  },
  {
   "cell_type": "code",
   "execution_count": 42,
   "metadata": {},
   "outputs": [
    {
     "data": {
      "image/png": "[encoded data removed]",
      "text/plain": [
       "<matplotlib.figure.Figure at 0x7fb3febc7a20>"
      ]
     },
     "metadata": {},
     "output_type": "display_data"
    }
   ],
   "source": [
    "sns.factorplot('Wage', 'Overall', data=player_attributes_df_enc, size=8);"
   ]
  },
  {
   "cell_type": "markdown",
   "metadata": {},
   "source": [
    "При заплатите положението изглежда същото. Нека видим колко получават заплата €0."
   ]
  },
  {
   "cell_type": "code",
   "execution_count": 43,
   "metadata": {},
   "outputs": [
    {
     "data": {
      "text/plain": [
       "248"
      ]
     },
     "execution_count": 43,
     "metadata": {},
     "output_type": "execute_result"
    }
   ],
   "source": [
    "len(player_attributes_df_enc[player_attributes_df_enc['Wage'] == 0])"
   ]
  },
  {
   "cell_type": "markdown",
   "metadata": {},
   "source": [
    "Нека тренираме отново."
   ]
  },
  {
   "cell_type": "code",
   "execution_count": 44,
   "metadata": {},
   "outputs": [
    {
     "name": "stdout",
     "output_type": "stream",
     "text": [
      "X shape: (17981, 52), y shape (17981,)\n"
     ]
    }
   ],
   "source": [
    "(X, y) = data_and_target(player_attributes_df_enc)"
   ]
  },
  {
   "cell_type": "code",
   "execution_count": 45,
   "metadata": {},
   "outputs": [
    {
     "data": {
      "text/plain": [
       "(66.277864293659619, 66.158362989323848)"
      ]
     },
     "execution_count": 45,
     "metadata": {},
     "output_type": "execute_result"
    }
   ],
   "source": [
    "X_train, X_test, y_train, y_test = train_test_split(X, y, random_state=12345)\n",
    "\n",
    "y_train.mean(), y_test.mean()"
   ]
  },
  {
   "cell_type": "code",
   "execution_count": 46,
   "metadata": {},
   "outputs": [
    {
     "name": "stdout",
     "output_type": "stream",
     "text": [
      "train score: 0.891925148626\n",
      "test score:  0.887699051188\n"
     ]
    }
   ],
   "source": [
    "model = LinearRegression().fit(X_train, y_train)\n",
    "print(\"train score:\", model.score(X_train, y_train))\n",
    "print(\"test score: \", model.score(X_test, y_test))"
   ]
  },
  {
   "cell_type": "markdown",
   "metadata": {},
   "source": [
    "Подобрихме с 1.5%."
   ]
  },
  {
   "cell_type": "markdown",
   "metadata": {},
   "source": [
    "Нека разгледаме колоната Special. Създава усещатането, че е просто сумата на всички атрибути. Нека проверим."
   ]
  },
  {
   "cell_type": "code",
   "execution_count": 47,
   "metadata": {},
   "outputs": [
    {
     "data": {
      "text/plain": [
       "0        95\n",
       "1        96\n",
       "2        92\n",
       "3        83\n",
       "4        70\n",
       "5        87\n",
       "6        64\n",
       "7        87\n",
       "8        85\n",
       "9        86\n",
       "         ..\n",
       "17971    44\n",
       "17972    43\n",
       "17973    35\n",
       "17974    37\n",
       "17975    42\n",
       "17976    23\n",
       "17977    44\n",
       "17978    50\n",
       "17979    45\n",
       "17980    33\n",
       "Length: 17981, dtype: int64"
      ]
     },
     "execution_count": 47,
     "metadata": {},
     "output_type": "execute_result"
    }
   ],
   "source": [
    "player_attributes_df_enc[attributes].sum(axis=1) - data['Special']"
   ]
  },
  {
   "cell_type": "markdown",
   "metadata": {},
   "source": [
    "Нека приложим разликата на тези като наша колона за Special"
   ]
  },
  {
   "cell_type": "code",
   "execution_count": 48,
   "metadata": {},
   "outputs": [],
   "source": [
    "player_attributes_df_enc['Special'] = player_attributes_df_enc[attributes].sum(axis=1) - data['Special']"
   ]
  },
  {
   "cell_type": "markdown",
   "metadata": {},
   "source": [
    "Да тренираме."
   ]
  },
  {
   "cell_type": "code",
   "execution_count": 49,
   "metadata": {},
   "outputs": [
    {
     "name": "stdout",
     "output_type": "stream",
     "text": [
      "X shape: (17981, 53), y shape (17981,)\n"
     ]
    }
   ],
   "source": [
    "(X, y) = data_and_target(player_attributes_df_enc)"
   ]
  },
  {
   "cell_type": "code",
   "execution_count": 50,
   "metadata": {},
   "outputs": [
    {
     "data": {
      "text/plain": [
       "(66.277864293659619, 66.158362989323848)"
      ]
     },
     "execution_count": 50,
     "metadata": {},
     "output_type": "execute_result"
    }
   ],
   "source": [
    "X_train, X_test, y_train, y_test = train_test_split(X, y, random_state=12345)\n",
    "\n",
    "y_train.mean(), y_test.mean()"
   ]
  },
  {
   "cell_type": "code",
   "execution_count": 51,
   "metadata": {},
   "outputs": [
    {
     "name": "stdout",
     "output_type": "stream",
     "text": [
      "train score: 0.892104287322\n",
      "test score:  0.887905881394\n"
     ]
    }
   ],
   "source": [
    "model = LinearRegression().fit(X_train, y_train)\n",
    "print(\"train score:\", model.score(X_train, y_train))\n",
    "print(\"test score: \", model.score(X_test, y_test))"
   ]
  },
  {
   "cell_type": "markdown",
   "metadata": {},
   "source": [
    "Почти без промяна. Нека пробваме без футболистите оценени на €0 и със заплата €0."
   ]
  },
  {
   "cell_type": "code",
   "execution_count": 52,
   "metadata": {},
   "outputs": [],
   "source": [
    "player_attributes_df_enc = player_attributes_df_enc.drop(player_attributes_df_enc[player_attributes_df_enc['Value'] == 0].index)\n",
    "player_attributes_df_enc = player_attributes_df_enc.drop(player_attributes_df_enc[player_attributes_df_enc['Wage'] == 0].index)"
   ]
  },
  {
   "cell_type": "code",
   "execution_count": 53,
   "metadata": {},
   "outputs": [
    {
     "name": "stdout",
     "output_type": "stream",
     "text": [
      "X shape: (17725, 53), y shape (17725,)\n"
     ]
    }
   ],
   "source": [
    "(X, y) = data_and_target(player_attributes_df_enc)"
   ]
  },
  {
   "cell_type": "code",
   "execution_count": 54,
   "metadata": {},
   "outputs": [
    {
     "data": {
      "text/plain": [
       "(66.293914090122627, 66.056859205776178)"
      ]
     },
     "execution_count": 54,
     "metadata": {},
     "output_type": "execute_result"
    }
   ],
   "source": [
    "X_train, X_test, y_train, y_test = train_test_split(X, y, random_state=12345)\n",
    "\n",
    "y_train.mean(), y_test.mean()"
   ]
  },
  {
   "cell_type": "code",
   "execution_count": 55,
   "metadata": {},
   "outputs": [
    {
     "name": "stdout",
     "output_type": "stream",
     "text": [
      "train score: 0.89379744897\n",
      "test score:  0.888015053086\n"
     ]
    }
   ],
   "source": [
    "model = LinearRegression().fit(X_train, y_train)\n",
    "print(\"train score:\", model.score(X_train, y_train))\n",
    "print(\"test score: \", model.score(X_test, y_test))"
   ]
  },
  {
   "cell_type": "markdown",
   "metadata": {},
   "source": [
    "Почти без промяна. Нека пробваме някаква регуляризация."
   ]
  },
  {
   "cell_type": "code",
   "execution_count": 56,
   "metadata": {},
   "outputs": [
    {
     "name": "stdout",
     "output_type": "stream",
     "text": [
      "alpha =  0.003\n",
      "train score: 0.89379744897\n",
      "test score:  0.888015036826\n",
      "alpha =  0.01\n",
      "train score: 0.893797448964\n",
      "test score:  0.888014998893\n",
      "alpha =  0.03\n",
      "train score: 0.893797448916\n",
      "test score:  0.888014890574\n",
      "alpha =  0.1\n",
      "train score: 0.893797448371\n",
      "test score:  0.88801451214\n",
      "alpha =  0.3\n",
      "train score: 0.893797443631\n",
      "test score:  0.888013436739\n",
      "alpha =  1\n",
      "train score: 0.893797391496\n",
      "test score:  0.888009739192\n",
      "alpha =  3\n",
      "train score: 0.893796973628\n",
      "test score:  0.88799970187\n",
      "alpha =  10\n",
      "train score: 0.893793297826\n",
      "test score:  0.887969374066\n",
      "alpha =  30\n",
      "train score: 0.893772761939\n",
      "test score:  0.887903575497\n",
      "alpha =  100\n",
      "train score: 0.893636087168\n",
      "test score:  0.887699758937\n"
     ]
    }
   ],
   "source": [
    "alphas = [0.003, 0.01, 0.03, 0.1, 0.3, 1, 3, 10, 30, 100]\n",
    "\n",
    "for alpha in alphas:\n",
    "    model = Ridge(alpha = alpha).fit(X_train, y_train)\n",
    "    print('alpha = ', alpha)\n",
    "    print(\"train score:\", model.score(X_train, y_train))\n",
    "    print(\"test score: \", model.score(X_test, y_test))"
   ]
  },
  {
   "cell_type": "markdown",
   "metadata": {},
   "source": [
    "Без промяна. Lasso?"
   ]
  },
  {
   "cell_type": "code",
   "execution_count": 57,
   "metadata": {},
   "outputs": [
    {
     "name": "stdout",
     "output_type": "stream",
     "text": [
      "alpha =  0.0001\n",
      "Features used:  53/53\n",
      "train score: 0.893797284863\n",
      "test score:  0.888003862365\n",
      "alpha =  0.003\n",
      "Features used:  50/53\n",
      "train score: 0.893705037664\n",
      "test score:  0.887730226265\n",
      "alpha =  0.01\n",
      "Features used:  48/53\n",
      "train score: 0.893409438302\n",
      "test score:  0.88743715736\n",
      "alpha =  0.03\n",
      "Features used:  44/53\n",
      "train score: 0.892057302515\n",
      "test score:  0.885882729824\n",
      "alpha =  0.1\n",
      "Features used:  38/53\n",
      "train score: 0.884933747369\n",
      "test score:  0.87868251053\n",
      "alpha =  0.3\n",
      "Features used:  32/53\n",
      "train score: 0.872081794039\n",
      "test score:  0.865480869812\n",
      "alpha =  1\n",
      "Features used:  26/53\n",
      "train score: 0.867974476791\n",
      "test score:  0.861755217545\n",
      "alpha =  3\n",
      "Features used:  19/53\n",
      "train score: 0.849638673479\n",
      "test score:  0.844491297638\n",
      "alpha =  10\n",
      "Features used:  7/53\n",
      "train score: 0.749549093572\n",
      "test score:  0.74836826899\n"
     ]
    }
   ],
   "source": [
    "alphas = [0.0001, 0.003, 0.01, 0.03, 0.1, 0.3, 1, 3, 10]\n",
    "\n",
    "for alpha in alphas:\n",
    "    lasso = Lasso(alpha = alpha, max_iter=100000).fit(X_train, y_train)\n",
    "    print('alpha = ', alpha)\n",
    "    print(\"Features used:  {}/{}\".format(np.sum(lasso.coef_ != 0), np.shape(X_train)[1]))\n",
    "    print(\"train score:\", lasso.score(X_train, y_train))\n",
    "    print(\"test score: \", lasso.score(X_test, y_test))"
   ]
  },
  {
   "cell_type": "markdown",
   "metadata": {},
   "source": [
    "Регуляризацията не помогна. Нека пробваме с гора."
   ]
  },
  {
   "cell_type": "code",
   "execution_count": 58,
   "metadata": {},
   "outputs": [
    {
     "name": "stdout",
     "output_type": "stream",
     "text": [
      "train score: 0.9977276530721462\n",
      "test score: 0.9920883697066263\n"
     ]
    }
   ],
   "source": [
    "forest = RandomForestRegressor(criterion='mse',\n",
    "                              min_samples_leaf=3,\n",
    "                              min_samples_split=3,\n",
    "                              max_depth=50,\n",
    "                              n_estimators=20)\n",
    "forest.fit(X_train, y_train)\n",
    "\n",
    "print('train score: {}'.format(forest.score(X_train, y_train)))\n",
    "print('test score: {}'.format(forest.score(X_test, y_test)))"
   ]
  },
  {
   "cell_type": "markdown",
   "metadata": {},
   "source": [
    "Явно нашата гора разгада тайната формула на [EA sports](https://en.wikipedia.org/wiki/EA_Sports) за изчисляване на рейтинга на футболистите в играта."
   ]
  },
  {
   "cell_type": "markdown",
   "metadata": {},
   "source": [
    "Нека видим теглата на feature-ите."
   ]
  },
  {
   "cell_type": "code",
   "execution_count": 59,
   "metadata": {},
   "outputs": [],
   "source": [
    "def linear_regression_features(X, model):\n",
    "    plt.figure(figsize=(12,8))\n",
    "    barplot = sns.barplot(x=X.columns, y=model.coef_, orient='vertical')\n",
    "    plt.setp(barplot.get_xticklabels(), rotation=90)\n",
    "    plt.grid(True)"
   ]
  },
  {
   "cell_type": "markdown",
   "metadata": {},
   "source": [
    "Преди това да нормализираме всички feature-и, за да видидим равнопоставени тегла."
   ]
  },
  {
   "cell_type": "code",
   "execution_count": 60,
   "metadata": {},
   "outputs": [
    {
     "name": "stdout",
     "output_type": "stream",
     "text": [
      "X shape: (17725, 53), y shape (17725,)\n",
      "train score: 0.89379744897\n",
      "test score:  0.888015053086\n"
     ]
    }
   ],
   "source": [
    "player_attributes_df_norm = (player_attributes_df_enc - player_attributes_df_enc.mean()) / (player_attributes_df_enc.max() - player_attributes_df_enc.min())\n",
    "\n",
    "(X, y) = data_and_target(player_attributes_df_norm)\n",
    "\n",
    "X_train, X_test, y_train, y_test = train_test_split(X, y, random_state=12345)\n",
    "\n",
    "model = LinearRegression().fit(X_train, y_train)\n",
    "print(\"train score:\", model.score(X_train, y_train))\n",
    "print(\"test score: \", model.score(X_test, y_test))\n"
   ]
  },
  {
   "cell_type": "code",
   "execution_count": 61,
   "metadata": {},
   "outputs": [
    {
     "data": {
      "image/png": "[encoded data removed]",
      "text/plain": [
       "<matplotlib.figure.Figure at 0x7fb3fe939550>"
      ]
     },
     "metadata": {},
     "output_type": "display_data"
    }
   ],
   "source": [
    "linear_regression_features(X, model);"
   ]
  }
 ],
 "metadata": {
  "kernelspec": {
   "display_name": "Python 3",
   "language": "python",
   "name": "python3"
  },
  "language_info": {
   "codemirror_mode": {
    "name": "ipython",
    "version": 3
   },
   "file_extension": ".py",
   "mimetype": "text/x-python",
   "name": "python",
   "nbconvert_exporter": "python",
   "pygments_lexer": "ipython3",
   "version": "3.5.2"
  }
 },
 "nbformat": 4,
 "nbformat_minor": 2
}
