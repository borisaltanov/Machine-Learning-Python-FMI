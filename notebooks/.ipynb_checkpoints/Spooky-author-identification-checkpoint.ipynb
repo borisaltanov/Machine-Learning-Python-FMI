{
 "cells": [
  {
   "cell_type": "markdown",
   "metadata": {},
   "source": [
    "### Data exploration, feature engineering и prediction с логистична регресия и Random forest classifier."
   ]
  },
  {
   "cell_type": "markdown",
   "metadata": {},
   "source": [
    "#### Разгледан dataset от Kaggle за [Spooky author identification](https://www.kaggle.com/c/spooky-author-identification)"
   ]
  },
  {
   "cell_type": "markdown",
   "metadata": {},
   "source": [
    "Нека първо добавим нужните библиотеки и други неща."
   ]
  },
  {
   "cell_type": "code",
   "execution_count": 1,
   "metadata": {},
   "outputs": [],
   "source": [
    "import sys\n",
    "\n",
    "import sklearn\n",
    "import pandas as pd\n",
    "import matplotlib as mpl\n",
    "import matplotlib.pyplot as plt\n",
    "import seaborn as sns\n",
    "import numpy as np\n",
    "import warnings\n",
    "import re\n",
    "import nltk\n",
    "from collections import Counter\n",
    "\n",
    "from sklearn.linear_model import (LogisticRegression, Ridge, Lasso)\n",
    "from sklearn.ensemble import RandomForestClassifier\n",
    "from sklearn.model_selection import (train_test_split, cross_val_score, GridSearchCV, StratifiedKFold)\n",
    "from sklearn.naive_bayes import MultinomialNB\n",
    "from sklearn.feature_extraction.text import TfidfVectorizer\n",
    "\n",
    "%matplotlib inline\n",
    "\n",
    "warnings.filterwarnings('ignore')\n",
    "\n",
    "pd.options.display.max_rows = 20"
   ]
  },
  {
   "cell_type": "markdown",
   "metadata": {},
   "source": [
    "Нека заредим данните."
   ]
  },
  {
   "cell_type": "code",
   "execution_count": 2,
   "metadata": {},
   "outputs": [],
   "source": [
    "train = pd.read_csv(\"../data/spooky/train.zip\", index_col=['id'])\n",
    "test = pd.read_csv(\"../data/spooky/test.zip\", index_col=['id'])"
   ]
  },
  {
   "cell_type": "code",
   "execution_count": 3,
   "metadata": {},
   "outputs": [
    {
     "data": {
      "text/plain": [
       "((19579, 2), (8392, 1))"
      ]
     },
     "execution_count": 3,
     "metadata": {},
     "output_type": "execute_result"
    }
   ],
   "source": [
    "train_shape, test_shape = train.shape, test.shape\n",
    "train_shape, test_shape"
   ]
  },
  {
   "cell_type": "markdown",
   "metadata": {},
   "source": [
    "Да си направим копие на train, с което ще работим."
   ]
  },
  {
   "cell_type": "code",
   "execution_count": 4,
   "metadata": {},
   "outputs": [],
   "source": [
    "df = train.copy()"
   ]
  },
  {
   "cell_type": "markdown",
   "metadata": {},
   "source": [
    "Нека създадем колона, в която да имаме \"чист\" текст. Това съдържа всички думи, като запазва думите с тирета и апострофи. Всички думи ще превърнем, в такива с малки букви."
   ]
  },
  {
   "cell_type": "code",
   "execution_count": 5,
   "metadata": {},
   "outputs": [],
   "source": [
    "df['clean_text'] = df.text.apply(lambda x: str.join(' ', list(map(lambda y: y.lower(), re.split('[^-^\\'\\w]+', x)))))"
   ]
  },
  {
   "cell_type": "markdown",
   "metadata": {},
   "source": [
    "Нека видим най-използваните уникални думи от всеки автор."
   ]
  },
  {
   "cell_type": "code",
   "execution_count": 6,
   "metadata": {},
   "outputs": [],
   "source": [
    "eap_all_data = str.join(' ', df[df['author'] == 'EAP']['clean_text'])\n",
    "eap_words = list(eap_all_data.split())"
   ]
  },
  {
   "cell_type": "code",
   "execution_count": 7,
   "metadata": {},
   "outputs": [],
   "source": [
    "hpl_all_data = str.join(' ', df[df['author'] == 'HPL']['clean_text'])\n",
    "hpl_words = list(hpl_all_data.split())"
   ]
  },
  {
   "cell_type": "code",
   "execution_count": 8,
   "metadata": {},
   "outputs": [],
   "source": [
    "mws_all_data = str.join(' ', df[df['author'] == 'MWS']['clean_text'])\n",
    "mws_words = list(mws_all_data.split())"
   ]
  },
  {
   "cell_type": "code",
   "execution_count": 9,
   "metadata": {},
   "outputs": [],
   "source": [
    "eap_unique_set = set(eap_words) - (set(hpl_words) | set(mws_words))\n",
    "hpl_unique_set = set(hpl_words) - (set(eap_words) | set(mws_words))\n",
    "mws_unique_set = set(mws_words) - (set(eap_words) | set(hpl_words))"
   ]
  },
  {
   "cell_type": "code",
   "execution_count": 10,
   "metadata": {},
   "outputs": [],
   "source": [
    "eap_uniqeue_words = list(filter(lambda x: x in eap_unique_set, eap_words))\n",
    "hpl_uniqeue_words = list(filter(lambda x: x in hpl_unique_set, hpl_words))\n",
    "mws_uniqeue_words = list(filter(lambda x: x in mws_unique_set, mws_words))"
   ]
  },
  {
   "cell_type": "code",
   "execution_count": 11,
   "metadata": {},
   "outputs": [
    {
     "data": {
      "text/plain": [
       "[('dupin', 57),\n",
       " ('marie', 43),\n",
       " ('monsieur', 39),\n",
       " ('jupiter', 35),\n",
       " ('bug', 29),\n",
       " ('color', 29),\n",
       " ('prefect', 28),\n",
       " ('compartment', 27),\n",
       " ('ellison', 27),\n",
       " ('lalande', 27)]"
      ]
     },
     "execution_count": 11,
     "metadata": {},
     "output_type": "execute_result"
    }
   ],
   "source": [
    "Counter(eap_uniqeue_words).most_common(10)"
   ]
  },
  {
   "cell_type": "code",
   "execution_count": 12,
   "metadata": {},
   "outputs": [
    {
     "data": {
      "text/plain": [
       "[(\"an'\", 197),\n",
       " ('gilman', 64),\n",
       " ('innsmouth', 59),\n",
       " ('arkham', 58),\n",
       " ('aout', 41),\n",
       " ('whateley', 37),\n",
       " ('folk', 36),\n",
       " ('armitage', 33),\n",
       " ('bearded', 30),\n",
       " ('wilbur', 29)]"
      ]
     },
     "execution_count": 12,
     "metadata": {},
     "output_type": "execute_result"
    }
   ],
   "source": [
    "Counter(hpl_uniqeue_words).most_common(10)"
   ]
  },
  {
   "cell_type": "code",
   "execution_count": 13,
   "metadata": {},
   "outputs": [
    {
     "data": {
      "text/plain": [
       "[('perdita', 156),\n",
       " ('adrian', 126),\n",
       " ('idris', 109),\n",
       " ('windsor', 73),\n",
       " ('felix', 43),\n",
       " ('justine', 41),\n",
       " ('clerval', 37),\n",
       " ('clara', 36),\n",
       " ('evadne', 34),\n",
       " ('labours', 32)]"
      ]
     },
     "execution_count": 13,
     "metadata": {},
     "output_type": "execute_result"
    }
   ],
   "source": [
    "Counter(mws_uniqeue_words).most_common(10)"
   ]
  },
  {
   "cell_type": "markdown",
   "metadata": {},
   "source": [
    "Виждаме доста имена при Мери, това може да е добър знак при класификацията."
   ]
  },
  {
   "cell_type": "markdown",
   "metadata": {},
   "source": [
    "##### Да започнем да си създаваме някакви feature-и и да разгледаме влиянията им."
   ]
  },
  {
   "cell_type": "markdown",
   "metadata": {},
   "source": [
    "Брой думи в откъса."
   ]
  },
  {
   "cell_type": "code",
   "execution_count": 14,
   "metadata": {},
   "outputs": [],
   "source": [
    "df['words_count'] = df['clean_text'].apply(lambda x: len(x.split()))"
   ]
  },
  {
   "cell_type": "code",
   "execution_count": 15,
   "metadata": {},
   "outputs": [
    {
     "data": {
      "image/png": "[encoded data removed]",
      "text/plain": [
       "<matplotlib.figure.Figure at 0x7f52289c0eb8>"
      ]
     },
     "metadata": {},
     "output_type": "display_data"
    }
   ],
   "source": [
    "sns.violinplot(x='author', y='words_count', data=df);"
   ]
  },
  {
   "cell_type": "markdown",
   "metadata": {},
   "source": [
    "Уникални думи в откъса."
   ]
  },
  {
   "cell_type": "code",
   "execution_count": 16,
   "metadata": {},
   "outputs": [],
   "source": [
    "df['unique_words'] = df['clean_text'].apply(lambda x: len(set(x.split())))"
   ]
  },
  {
   "cell_type": "code",
   "execution_count": 17,
   "metadata": {},
   "outputs": [
    {
     "data": {
      "image/png": "[encoded data removed]",
      "text/plain": [
       "<matplotlib.figure.Figure at 0x7f522a5ff588>"
      ]
     },
     "metadata": {},
     "output_type": "display_data"
    }
   ],
   "source": [
    "sns.violinplot(x='author', y='unique_words', data=df);"
   ]
  },
  {
   "cell_type": "markdown",
   "metadata": {},
   "source": [
    "Отношението между уникалните думи и всички думи в откъса."
   ]
  },
  {
   "cell_type": "code",
   "execution_count": 18,
   "metadata": {},
   "outputs": [],
   "source": [
    "df['unique_to_all'] = df['unique_words'] / df['words_count']"
   ]
  },
  {
   "cell_type": "code",
   "execution_count": 19,
   "metadata": {},
   "outputs": [
    {
     "data": {
      "image/png": "[encoded data removed]",
      "text/plain": [
       "<matplotlib.figure.Figure at 0x7f5226984748>"
      ]
     },
     "metadata": {},
     "output_type": "display_data"
    }
   ],
   "source": [
    "sns.violinplot(x='author', y='unique_to_all', data=df);"
   ]
  },
  {
   "cell_type": "markdown",
   "metadata": {},
   "source": [
    "#### Време е за пукнтуацията."
   ]
  },
  {
   "cell_type": "code",
   "execution_count": 20,
   "metadata": {},
   "outputs": [],
   "source": [
    "df['punc?'] = df['text'].apply(lambda x: len(list(map(lambda y: y.lower(), re.findall('\\?', x)))))\n",
    "df['punc_dot'] = df['text'].apply(lambda x: len(list(map(lambda y: y.lower(), re.findall('\\.', x)))))\n",
    "df['punc_dot2'] = df['text'].apply(lambda x: len(list(map(lambda y: y.lower(), re.findall('\\.\\.', x)))))\n",
    "df['punc_dot3'] = df['text'].apply(lambda x: len(list(map(lambda y: y.lower(), re.findall('\\.\\.\\.', x)))))\n",
    "df['punc_comma'] = df['text'].apply(lambda x: len(list(map(lambda y: y.lower(), re.findall('\\,', x)))))\n",
    "df['punc_colon'] = df['text'].apply(lambda x: len(list(map(lambda y: y.lower(), re.findall('\\:', x)))))\n",
    "df['punc_semicolon'] = df['text'].apply(lambda x: len(list(map(lambda y: y.lower(), re.findall('\\;', x)))))"
   ]
  },
  {
   "cell_type": "code",
   "execution_count": 21,
   "metadata": {},
   "outputs": [],
   "source": [
    "punc_dots = ['punc_dot', 'punc_dot2', 'punc_dot3']\n",
    "punc_other = ['punc?', 'punc_comma', 'punc_colon', 'punc_semicolon']"
   ]
  },
  {
   "cell_type": "code",
   "execution_count": 22,
   "metadata": {},
   "outputs": [
    {
     "data": {
      "image/png": "[encoded data removed]",
      "text/plain": [
       "<matplotlib.figure.Figure at 0x7f522688d710>"
      ]
     },
     "metadata": {},
     "output_type": "display_data"
    }
   ],
   "source": [
    "fig = plt.figure(figsize=(14, 10));\n",
    "\n",
    "for i, feature in enumerate(punc_dots):\n",
    "    subplot = fig.add_subplot(2, 2, i + 1) \n",
    "    subplot = sns.violinplot(x='author', y=feature, data=df);"
   ]
  },
  {
   "cell_type": "code",
   "execution_count": 23,
   "metadata": {},
   "outputs": [
    {
     "data": {
      "image/png": "[encoded data removed]",
      "text/plain": [
       "<matplotlib.figure.Figure at 0x7f5226889b70>"
      ]
     },
     "metadata": {},
     "output_type": "display_data"
    }
   ],
   "source": [
    "fig = plt.figure(figsize=(14, 10));\n",
    "\n",
    "for i, feature in enumerate(punc_other):\n",
    "    subplot = fig.add_subplot(2, 2, i + 1) \n",
    "    subplot = sns.violinplot(x='author', y=feature, data=df);"
   ]
  },
  {
   "cell_type": "markdown",
   "metadata": {},
   "source": [
    "Май точките няма да ни спечелят много, но другите знаци изглежда ще ни помогнат."
   ]
  },
  {
   "cell_type": "markdown",
   "metadata": {},
   "source": [
    "Да добавим и stopwords. Ще използваме nltk."
   ]
  },
  {
   "cell_type": "code",
   "execution_count": 24,
   "metadata": {},
   "outputs": [
    {
     "name": "stdout",
     "output_type": "stream",
     "text": [
      "[nltk_data] Downloading package stopwords to /home/boris/nltk_data...\n",
      "[nltk_data]   Package stopwords is already up-to-date!\n"
     ]
    },
    {
     "data": {
      "text/plain": [
       "True"
      ]
     },
     "execution_count": 24,
     "metadata": {},
     "output_type": "execute_result"
    }
   ],
   "source": [
    "nltk.download('stopwords')"
   ]
  },
  {
   "cell_type": "code",
   "execution_count": 25,
   "metadata": {},
   "outputs": [],
   "source": [
    "stopwords = nltk.corpus.stopwords.words('english')\n",
    "\n",
    "df['stop_words'] = df['clean_text'].apply(lambda s: sum(w in stopwords for w in str(s).split()))"
   ]
  },
  {
   "cell_type": "code",
   "execution_count": 26,
   "metadata": {},
   "outputs": [
    {
     "data": {
      "image/png": "[encoded data removed]",
      "text/plain": [
       "<matplotlib.figure.Figure at 0x7f5226881828>"
      ]
     },
     "metadata": {},
     "output_type": "display_data"
    }
   ],
   "source": [
    "sns.violinplot(x='author', y='stop_words', data=df);"
   ]
  },
  {
   "cell_type": "markdown",
   "metadata": {},
   "source": [
    "##### Време е за части на речта. Ще използваме nltk."
   ]
  },
  {
   "cell_type": "code",
   "execution_count": 27,
   "metadata": {},
   "outputs": [],
   "source": [
    "nouns = set(['NN','NNP','NNPS','NNS'])\n",
    "verbs = set(['VB','VBD','VBG', 'VBN', 'VBP', 'VBZ'])\n",
    "adjectives = set(['JJ','JJR','JJS'])\n",
    "conjunctions = 'CC'"
   ]
  },
  {
   "cell_type": "code",
   "execution_count": null,
   "metadata": {},
   "outputs": [
    {
     "name": "stdout",
     "output_type": "stream",
     "text": [
      "[nltk_data] Downloading package averaged_perceptron_tagger to\n",
      "[nltk_data]     /home/boris/nltk_data...\n",
      "[nltk_data]   Package averaged_perceptron_tagger is already up-to-\n",
      "[nltk_data]       date!\n"
     ]
    }
   ],
   "source": [
    "nltk.download('averaged_perceptron_tagger');"
   ]
  },
  {
   "cell_type": "code",
   "execution_count": null,
   "metadata": {},
   "outputs": [],
   "source": [
    "df['nouns'] = df['clean_text'].apply(lambda x: sum([tag in nouns for word, tag in nltk.pos_tag(x.split())]))\n",
    "df['verbs'] = df['clean_text'].apply(lambda x: sum([tag in verbs for word, tag in nltk.pos_tag(x.split())]))\n",
    "df['adjectives'] = df['clean_text'].apply(lambda x: sum([tag in adjectives for word, tag in nltk.pos_tag(x.split())]))\n",
    "df['conjunctions'] = df['clean_text'].apply(lambda x: sum([tag == conjunctions for word, tag in nltk.pos_tag(x.split())]))"
   ]
  },
  {
   "cell_type": "code",
   "execution_count": null,
   "metadata": {},
   "outputs": [],
   "source": [
    "nltk_types = ['nouns', 'verbs', 'adjectives', 'conjunctions']"
   ]
  },
  {
   "cell_type": "code",
   "execution_count": null,
   "metadata": {},
   "outputs": [],
   "source": [
    "fig = plt.figure(figsize=(14, 10));\n",
    "\n",
    "for i, feature in enumerate(nltk_types):\n",
    "    subplot = fig.add_subplot(2, 2, i + 1) \n",
    "    subplot = sns.violinplot(x='author', y=feature, data=df, size=10);"
   ]
  },
  {
   "cell_type": "code",
   "execution_count": null,
   "metadata": {},
   "outputs": [],
   "source": [
    "df = df.drop('words_count',1)"
   ]
  },
  {
   "cell_type": "markdown",
   "metadata": {},
   "source": [
    "##### Време е да използваме tf-idf векторизатор и Multinomial Naive Bayes."
   ]
  },
  {
   "cell_type": "markdown",
   "metadata": {},
   "source": [
    "Идеята е да вземем резултатите от predict_proba на модела и да ги използваме като колони при тренирането на други модели (model stacking)"
   ]
  },
  {
   "cell_type": "code",
   "execution_count": null,
   "metadata": {},
   "outputs": [],
   "source": [
    "vectorizer = TfidfVectorizer(ngram_range=(1,2), min_df=2, max_df=0.8, lowercase=False)"
   ]
  },
  {
   "cell_type": "code",
   "execution_count": null,
   "metadata": {},
   "outputs": [],
   "source": [
    "transformer = vectorizer.fit(df.text)"
   ]
  },
  {
   "cell_type": "code",
   "execution_count": null,
   "metadata": {},
   "outputs": [],
   "source": [
    "trans_train_text = transformer.transform(df.text)"
   ]
  },
  {
   "cell_type": "code",
   "execution_count": null,
   "metadata": {},
   "outputs": [],
   "source": [
    "trans_test_text = transformer.transform(test.text)"
   ]
  },
  {
   "cell_type": "code",
   "execution_count": null,
   "metadata": {},
   "outputs": [],
   "source": [
    "MNB = MultinomialNB(alpha=0.03)"
   ]
  },
  {
   "cell_type": "markdown",
   "metadata": {},
   "source": [
    "Ще направим крос-валидация със StratifiedKFold, като при всяко трениране ще записваме predict_proba за останалата част от set-a. Ще правим и predict_proba за test set-a."
   ]
  },
  {
   "cell_type": "code",
   "execution_count": null,
   "metadata": {},
   "outputs": [],
   "source": [
    "cv_count = 30\n",
    "SKF = StratifiedKFold(n_splits=cv_count, shuffle=True, random_state=12345)"
   ]
  },
  {
   "cell_type": "code",
   "execution_count": null,
   "metadata": {},
   "outputs": [],
   "source": [
    "probs_train = pd.np.zeros([train_shape[0], 3])\n",
    "probs_test = pd.np.zeros([test_shape[0], 3])\n",
    "\n",
    "for train_idx, test_idx in SKF.split(trans_train_text, df.author):\n",
    "    X_train, X_test = trans_train_text[train_idx], trans_train_text[test_idx]\n",
    "    y_train, y_test = df.author[train_idx], df.author[test_idx]\n",
    "    \n",
    "    mnb_model = MNB.fit(X_train, y_train)\n",
    "    \n",
    "    probs_train[test_idx, :] = mnb_model.predict_proba(X_test)\n",
    "    probs_test += mnb_model.predict_proba(trans_test_text)"
   ]
  },
  {
   "cell_type": "code",
   "execution_count": null,
   "metadata": {},
   "outputs": [],
   "source": [
    "probs_train\n",
    "probs_test /= cv_count"
   ]
  },
  {
   "cell_type": "markdown",
   "metadata": {},
   "source": [
    "Да добавим колони."
   ]
  },
  {
   "cell_type": "code",
   "execution_count": null,
   "metadata": {},
   "outputs": [],
   "source": [
    "df['EAP_prob'] = probs_train[:,0]\n",
    "df['HPL_prob'] = probs_train[:,1]\n",
    "df['MWS_prob'] = probs_train[:,2]"
   ]
  },
  {
   "cell_type": "markdown",
   "metadata": {},
   "source": [
    "#### Да тренираме модели."
   ]
  },
  {
   "cell_type": "code",
   "execution_count": null,
   "metadata": {},
   "outputs": [],
   "source": [
    "df.author = df.author.replace(['EAP', 'HPL', 'MWS'], [0,1,2])"
   ]
  },
  {
   "cell_type": "code",
   "execution_count": null,
   "metadata": {},
   "outputs": [],
   "source": [
    "df = df[['author','EAP_prob', 'HPL_prob', 'MWS_prob',\n",
    "       'unique_words', 'unique_to_all', 'punc?', 'punc_dot', 'punc_dot2',\n",
    "       'punc_dot3', 'punc_comma', 'punc_colon', 'punc_semicolon', 'nouns', 'verbs',\n",
    "       'adjectives', 'conjunctions', 'stop_words']]"
   ]
  },
  {
   "cell_type": "code",
   "execution_count": null,
   "metadata": {},
   "outputs": [],
   "source": [
    "def data_and_target(df):\n",
    "    X = df[df.describe().columns]\n",
    "    X = X.drop('author',1)\n",
    "    y = df['author']\n",
    "    \n",
    "    print('X shape: {}, y shape {}'.format(X.shape, y.shape))\n",
    "    \n",
    "    return (X, y)"
   ]
  },
  {
   "cell_type": "code",
   "execution_count": null,
   "metadata": {},
   "outputs": [],
   "source": [
    "(X, y) = data_and_target(df)"
   ]
  },
  {
   "cell_type": "code",
   "execution_count": null,
   "metadata": {},
   "outputs": [],
   "source": [
    "X_train, X_test, y_train, y_test = train_test_split(X, y, random_state=12345, stratify=y)\n",
    "\n",
    "y_train.mean(), y_test.mean()"
   ]
  },
  {
   "cell_type": "markdown",
   "metadata": {},
   "source": [
    "Логистична регресия."
   ]
  },
  {
   "cell_type": "code",
   "execution_count": null,
   "metadata": {},
   "outputs": [],
   "source": [
    "model = LogisticRegression().fit(X_train, y_train)\n",
    "print(\"train score:\", model.score(X_train, y_train))\n",
    "print(\"test score: \", model.score(X_test, y_test))"
   ]
  },
  {
   "cell_type": "code",
   "execution_count": null,
   "metadata": {},
   "outputs": [],
   "source": [
    "print(cross_val_score(model, X_train, y_train, cv=5, n_jobs=5))\n",
    "print(cross_val_score(model, X_train, y_train, cv=5, n_jobs=5, \n",
    "                      scoring='neg_log_loss'))"
   ]
  },
  {
   "cell_type": "code",
   "execution_count": null,
   "metadata": {},
   "outputs": [],
   "source": [
    "print(cross_val_score(model, X_test, y_test, cv=5, n_jobs=5))\n",
    "print(cross_val_score(model, X_test, y_test, cv=5, n_jobs=5, \n",
    "                      scoring='neg_log_loss'))"
   ]
  },
  {
   "cell_type": "markdown",
   "metadata": {},
   "source": [
    "RandomForestClassifier, като ще пуснем и един GridSearch"
   ]
  },
  {
   "cell_type": "code",
   "execution_count": null,
   "metadata": {},
   "outputs": [],
   "source": [
    "forest = RandomForestClassifier(random_state=0)\n",
    "forest.fit(X_train, y_train)"
   ]
  },
  {
   "cell_type": "code",
   "execution_count": null,
   "metadata": {},
   "outputs": [],
   "source": [
    "search = GridSearchCV(forest, {'n_estimators': [30, 50,70, 100],\n",
    "                              'max_depth': [6,8,10],\n",
    "                              })\n",
    "search.fit(X, y)\n",
    "\n",
    "pd.DataFrame(search.cv_results_)[['rank_test_score', 'mean_test_score', 'params']].sort_values(by='rank_test_score').head(10)"
   ]
  },
  {
   "cell_type": "code",
   "execution_count": null,
   "metadata": {},
   "outputs": [],
   "source": [
    "forest = RandomForestClassifier(random_state=0, max_depth=8, n_estimators=70)\n",
    "forest.fit(X_train, y_train)"
   ]
  },
  {
   "cell_type": "code",
   "execution_count": null,
   "metadata": {},
   "outputs": [],
   "source": [
    "print(\"train score:\", forest.score(X_train, y_train))\n",
    "print(\"test score: \", forest.score(X_test, y_test))"
   ]
  },
  {
   "cell_type": "code",
   "execution_count": null,
   "metadata": {},
   "outputs": [],
   "source": [
    "print(cross_val_score(forest, X_train, y_train, cv=5, n_jobs=3))\n",
    "print(cross_val_score(forest, X_train, y_train, cv=5, n_jobs=3, \n",
    "                      scoring='neg_log_loss'))"
   ]
  },
  {
   "cell_type": "code",
   "execution_count": null,
   "metadata": {},
   "outputs": [],
   "source": [
    "print(cross_val_score(forest, X_test, y_test, cv=5, n_jobs=3))\n",
    "print(cross_val_score(forest, X_test, y_test, cv=5, n_jobs=3, \n",
    "                      scoring='neg_log_loss'))"
   ]
  },
  {
   "cell_type": "code",
   "execution_count": null,
   "metadata": {},
   "outputs": [],
   "source": [
    "df.columns"
   ]
  },
  {
   "cell_type": "markdown",
   "metadata": {},
   "source": [
    "#### Нека приложим всичко това върху test set-a."
   ]
  },
  {
   "cell_type": "code",
   "execution_count": null,
   "metadata": {},
   "outputs": [],
   "source": [
    "df_test = test.copy()\n",
    "\n",
    "df_test['clean_text'] = df_test.text.apply(lambda x: str.join(' ', list(map(lambda y: y.lower(), re.split('[^-\\w]+', x)))))\n",
    "\n",
    "df_test['EAP_prob'] = probs_test[:,0]\n",
    "df_test['HPL_prob'] = probs_test[:,1]\n",
    "df_test['MWS_prob'] = probs_test[:,2]\n",
    "\n",
    "df_test['words_count'] = df_test['clean_text'].apply(lambda x: len(x.split()))\n",
    "df_test['unique_words'] = df_test['clean_text'].apply(lambda x: len(set(x.split())))\n",
    "df_test['unique_to_all'] = df_test['unique_words'] / df_test['words_count']\n",
    "\n",
    "df_test['punc?'] = df_test['text'].apply(lambda x: len(re.findall('\\?', x)))\n",
    "df_test['punc_dot'] = df_test['text'].apply(lambda x: len(re.findall('\\.', x)))\n",
    "df_test['punc_dot2'] = df_test['text'].apply(lambda x: len(re.findall('\\.\\.', x)))\n",
    "df_test['punc_dot3'] = df_test['text'].apply(lambda x: len(re.findall('\\.\\.\\.', x)))\n",
    "df_test['punc_comma'] = df_test['text'].apply(lambda x: len(re.findall('\\,', x)))\n",
    "df_test['punc_colon'] = df_test['text'].apply(lambda x: len(re.findall('\\:', x)))\n",
    "df_test['punc_semicolon'] = df_test['text'].apply(lambda x: len(re.findall('\\;', x)))\n",
    "\n",
    "df_test['nouns'] = df_test['clean_text'].apply(lambda x: sum([tag in nouns\n",
    "                                                for word, tag in nltk.pos_tag(x.split())]))\n",
    "df_test['verbs'] = df_test['clean_text'].apply(lambda x: sum([tag in verbs \n",
    "                                            for word, tag in nltk.pos_tag(x.split())]))\n",
    "df_test['adjectives'] = df_test['clean_text'].apply(lambda x: sum([tag in adjectives\n",
    "                                            for word, tag in nltk.pos_tag(x.split())]))\n",
    "df_test['conjunctions'] = df_test['clean_text'].apply(lambda x: sum([tag == conjunctions\n",
    "                                            for word, tag in nltk.pos_tag(x.split())]))\n",
    "\n",
    "df_test['stop_words'] = df_test['clean_text'].apply(lambda s: sum(w in stopwords for w in str(s).split()))\n",
    "\n",
    "df_test = df_test.drop(['text', 'clean_text', 'words_count'],1)"
   ]
  },
  {
   "cell_type": "markdown",
   "metadata": {},
   "source": [
    "Последни проверки"
   ]
  },
  {
   "cell_type": "code",
   "execution_count": null,
   "metadata": {},
   "outputs": [],
   "source": [
    "set(df.columns) ^ set(df_test.columns)"
   ]
  },
  {
   "cell_type": "code",
   "execution_count": null,
   "metadata": {},
   "outputs": [],
   "source": [
    "df_test.isnull().sum().sort_values()"
   ]
  },
  {
   "cell_type": "code",
   "execution_count": null,
   "metadata": {},
   "outputs": [],
   "source": [
    "df.columns"
   ]
  },
  {
   "cell_type": "code",
   "execution_count": null,
   "metadata": {},
   "outputs": [],
   "source": [
    "df_test.columns"
   ]
  },
  {
   "cell_type": "markdown",
   "metadata": {},
   "source": [
    "#### Създаване на файл за предаване."
   ]
  },
  {
   "cell_type": "code",
   "execution_count": null,
   "metadata": {},
   "outputs": [],
   "source": [
    "test_predictions = forest.predict_proba(df_test[df_test.describe().columns])"
   ]
  },
  {
   "cell_type": "code",
   "execution_count": null,
   "metadata": {},
   "outputs": [],
   "source": [
    "submit_file = pd.DataFrame(test_predictions, columns=['EAP', 'HPL', 'MWS'], index=df_test.index)"
   ]
  },
  {
   "cell_type": "code",
   "execution_count": null,
   "metadata": {},
   "outputs": [],
   "source": [
    "submit_file.to_csv(\"../data/spooky/spooky_prediction.csv\")"
   ]
  },
  {
   "cell_type": "code",
   "execution_count": null,
   "metadata": {},
   "outputs": [],
   "source": [
    "submit_file.head(10)"
   ]
  }
 ],
 "metadata": {
  "kernelspec": {
   "display_name": "Python 3",
   "language": "python",
   "name": "python3"
  },
  "language_info": {
   "codemirror_mode": {
    "name": "ipython",
    "version": 3
   },
   "file_extension": ".py",
   "mimetype": "text/x-python",
   "name": "python",
   "nbconvert_exporter": "python",
   "pygments_lexer": "ipython3",
   "version": "3.5.2"
  }
 },
 "nbformat": 4,
 "nbformat_minor": 2
}
